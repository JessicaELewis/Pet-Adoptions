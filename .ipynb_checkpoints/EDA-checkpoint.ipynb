{
 "cells": [
  {
   "cell_type": "markdown",
   "metadata": {},
   "source": [
    "# Exploratory Data Analysis\n",
    "### Build data profiles and tables\n",
    "Inferential statistics\n",
    "\n",
    "● Explore data relationships\n",
    "\n",
    "Data visualization\n",
    "\n",
    "● Feature Selection and Engineering"
   ]
  },
  {
   "cell_type": "code",
   "execution_count": 1,
   "metadata": {},
   "outputs": [],
   "source": [
    "import numpy as np\n",
    "import pandas as pd\n",
    "import matplotlib.pyplot as plt\n",
    "import seaborn as sns"
   ]
  },
  {
   "cell_type": "code",
   "execution_count": 3,
   "metadata": {},
   "outputs": [
    {
     "name": "stdout",
     "output_type": "stream",
     "text": [
      "<class 'pandas.core.frame.DataFrame'>\n",
      "RangeIndex: 12231 entries, 0 to 12230\n",
      "Data columns (total 25 columns):\n",
      " #   Column                 Non-Null Count  Dtype  \n",
      "---  ------                 --------------  -----  \n",
      " 0   organization_id        12231 non-null  object \n",
      " 1   url                    12231 non-null  object \n",
      " 2   species                12231 non-null  object \n",
      " 3   breeds                 12231 non-null  object \n",
      " 4   colors                 12231 non-null  object \n",
      " 5   age                    12231 non-null  object \n",
      " 6   gender                 12231 non-null  object \n",
      " 7   size                   12231 non-null  object \n",
      " 8   coat                   8608 non-null   object \n",
      " 9   attributes             12231 non-null  object \n",
      " 10  environment            12231 non-null  object \n",
      " 11  tags                   12231 non-null  object \n",
      " 12  name                   12231 non-null  object \n",
      " 13  description            12060 non-null  object \n",
      " 14  photos                 12231 non-null  object \n",
      " 15  videos                 12231 non-null  object \n",
      " 16  status                 12231 non-null  object \n",
      " 17  status_changed_at      12231 non-null  object \n",
      " 18  published_at           12231 non-null  object \n",
      " 19  distance               12231 non-null  float64\n",
      " 20  contact                12231 non-null  object \n",
      " 21  duration_as_adoptable  12231 non-null  float64\n",
      " 22  city                   12231 non-null  object \n",
      " 23  hasimage               12231 non-null  bool   \n",
      " 24  hasvideo               12231 non-null  bool   \n",
      "dtypes: bool(2), float64(2), object(21)\n",
      "memory usage: 2.2+ MB\n"
     ]
    }
   ],
   "source": [
    "adopted = pd.read_csv('data/adopted_df_cleaned.csv')\n",
    "adopted.info()"
   ]
  },
  {
   "cell_type": "code",
   "execution_count": 5,
   "metadata": {},
   "outputs": [
    {
     "data": {
      "text/plain": [
       "array([\"{'spayed_neutered': True, 'house_trained': True, 'declawed': False, 'special_needs': False, 'shots_current': True}\",\n",
       "       \"{'spayed_neutered': True, 'house_trained': False, 'declawed': None, 'special_needs': False, 'shots_current': True}\",\n",
       "       \"{'spayed_neutered': True, 'house_trained': True, 'declawed': None, 'special_needs': False, 'shots_current': True}\",\n",
       "       \"{'spayed_neutered': True, 'house_trained': True, 'declawed': None, 'special_needs': True, 'shots_current': True}\",\n",
       "       \"{'spayed_neutered': False, 'house_trained': False, 'declawed': None, 'special_needs': False, 'shots_current': False}\",\n",
       "       \"{'spayed_neutered': True, 'house_trained': False, 'declawed': None, 'special_needs': False, 'shots_current': False}\",\n",
       "       \"{'spayed_neutered': True, 'house_trained': False, 'declawed': False, 'special_needs': False, 'shots_current': True}\",\n",
       "       \"{'spayed_neutered': False, 'house_trained': False, 'declawed': None, 'special_needs': False, 'shots_current': True}\",\n",
       "       \"{'spayed_neutered': True, 'house_trained': True, 'declawed': False, 'special_needs': False, 'shots_current': False}\",\n",
       "       \"{'spayed_neutered': False, 'house_trained': False, 'declawed': False, 'special_needs': False, 'shots_current': True}\",\n",
       "       \"{'spayed_neutered': False, 'house_trained': True, 'declawed': False, 'special_needs': False, 'shots_current': False}\",\n",
       "       \"{'spayed_neutered': True, 'house_trained': True, 'declawed': False, 'special_needs': True, 'shots_current': True}\",\n",
       "       \"{'spayed_neutered': False, 'house_trained': True, 'declawed': None, 'special_needs': True, 'shots_current': True}\",\n",
       "       \"{'spayed_neutered': True, 'house_trained': True, 'declawed': True, 'special_needs': False, 'shots_current': False}\",\n",
       "       \"{'spayed_neutered': True, 'house_trained': False, 'declawed': None, 'special_needs': True, 'shots_current': True}\",\n",
       "       \"{'spayed_neutered': False, 'house_trained': False, 'declawed': False, 'special_needs': False, 'shots_current': False}\",\n",
       "       \"{'spayed_neutered': True, 'house_trained': True, 'declawed': None, 'special_needs': False, 'shots_current': False}\",\n",
       "       \"{'spayed_neutered': False, 'house_trained': True, 'declawed': False, 'special_needs': False, 'shots_current': True}\",\n",
       "       \"{'spayed_neutered': True, 'house_trained': False, 'declawed': True, 'special_needs': False, 'shots_current': True}\",\n",
       "       \"{'spayed_neutered': True, 'house_trained': True, 'declawed': True, 'special_needs': False, 'shots_current': True}\",\n",
       "       \"{'spayed_neutered': True, 'house_trained': False, 'declawed': True, 'special_needs': True, 'shots_current': True}\",\n",
       "       \"{'spayed_neutered': False, 'house_trained': True, 'declawed': None, 'special_needs': False, 'shots_current': False}\",\n",
       "       \"{'spayed_neutered': True, 'house_trained': False, 'declawed': False, 'special_needs': False, 'shots_current': False}\",\n",
       "       \"{'spayed_neutered': False, 'house_trained': True, 'declawed': None, 'special_needs': False, 'shots_current': True}\",\n",
       "       \"{'spayed_neutered': False, 'house_trained': False, 'declawed': True, 'special_needs': False, 'shots_current': False}\",\n",
       "       \"{'spayed_neutered': True, 'house_trained': True, 'declawed': True, 'special_needs': True, 'shots_current': True}\",\n",
       "       \"{'spayed_neutered': False, 'house_trained': False, 'declawed': True, 'special_needs': False, 'shots_current': True}\",\n",
       "       \"{'spayed_neutered': False, 'house_trained': False, 'declawed': None, 'special_needs': True, 'shots_current': True}\",\n",
       "       \"{'spayed_neutered': True, 'house_trained': False, 'declawed': False, 'special_needs': True, 'shots_current': False}\",\n",
       "       \"{'spayed_neutered': True, 'house_trained': False, 'declawed': False, 'special_needs': True, 'shots_current': True}\",\n",
       "       \"{'spayed_neutered': False, 'house_trained': False, 'declawed': None, 'special_needs': True, 'shots_current': False}\",\n",
       "       \"{'spayed_neutered': True, 'house_trained': False, 'declawed': True, 'special_needs': False, 'shots_current': False}\",\n",
       "       \"{'spayed_neutered': True, 'house_trained': False, 'declawed': None, 'special_needs': True, 'shots_current': False}\",\n",
       "       \"{'spayed_neutered': False, 'house_trained': True, 'declawed': None, 'special_needs': True, 'shots_current': False}\",\n",
       "       \"{'spayed_neutered': False, 'house_trained': False, 'declawed': False, 'special_needs': True, 'shots_current': False}\",\n",
       "       \"{'spayed_neutered': True, 'house_trained': True, 'declawed': False, 'special_needs': True, 'shots_current': False}\",\n",
       "       \"{'spayed_neutered': True, 'house_trained': True, 'declawed': None, 'special_needs': True, 'shots_current': False}\"],\n",
       "      dtype=object)"
      ]
     },
     "execution_count": 5,
     "metadata": {},
     "output_type": "execute_result"
    }
   ],
   "source": [
    "adopted.attributes.unique()"
   ]
  },
  {
   "cell_type": "code",
   "execution_count": null,
   "metadata": {},
   "outputs": [],
   "source": []
  }
 ],
 "metadata": {
  "kernelspec": {
   "display_name": "Python 3",
   "language": "python",
   "name": "python3"
  },
  "language_info": {
   "codemirror_mode": {
    "name": "ipython",
    "version": 3
   },
   "file_extension": ".py",
   "mimetype": "text/x-python",
   "name": "python",
   "nbconvert_exporter": "python",
   "pygments_lexer": "ipython3",
   "version": "3.8.3"
  }
 },
 "nbformat": 4,
 "nbformat_minor": 4
}
