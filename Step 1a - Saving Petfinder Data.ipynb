{
 "cells": [
  {
   "cell_type": "code",
   "execution_count": 1,
   "metadata": {},
   "outputs": [],
   "source": [
    "# Import Libraries\n",
    "import pandas as pd\n",
    "import os\n",
    "import petpy\n",
    "\n",
    "from library.sb_utils import save_file"
   ]
  },
  {
   "cell_type": "code",
   "execution_count": 2,
   "metadata": {},
   "outputs": [],
   "source": [
    "pd.set_option('display.expand_frame_repr', False)\n",
    "pd.set_option('display.precision', 2)\n",
    "pd.set_option('display.max_rows', None)\n",
    "pd.set_option('display.max_columns', None)\n",
    "pd.set_option('display.width', None)\n",
    "pd.set_option('display.max_colwidth', None)"
   ]
  },
  {
   "cell_type": "code",
   "execution_count": 3,
   "metadata": {},
   "outputs": [],
   "source": [
    "# Petfinder API\n",
    "\n",
    "key = os.environ.get('PETFINDER_KEY')\n",
    "secret = os.environ.get('PETFINDER_SECRET_KEY')"
   ]
  },
  {
   "cell_type": "code",
   "execution_count": 25,
   "metadata": {},
   "outputs": [],
   "source": [
    "pf = petpy.Petfinder(key=key, secret=secret)"
   ]
  },
  {
   "cell_type": "code",
   "execution_count": 19,
   "metadata": {},
   "outputs": [],
   "source": [
    "# petpy only accepts a string as the location, so to grab data for all cities in WA we need to loop through them\n",
    "# cities_wa was built using the census API and then copied into this notebook\n",
    "\n",
    "def import_petfinder_wa(after_date, before_date, animal_type):\n",
    "#     cities_wa = {'Aberdeen', 'Anacortes', 'Arlington', 'Auburn', 'Bainbridge Island', 'Battle Ground', 'Bellevue', 'Bellingham', 'Benton City', 'Bonney Lake', 'Bothell', 'Bow', 'Bremerton', 'Burlington', 'Cashmere', 'Chehalis', 'Chewelah', 'Connell', 'Coupeville', 'Covington', 'Deer Park', 'Des Moines', 'East Wenatchee', 'Edgewood', 'Edmonds', 'Ellensburg', 'Elma', 'Ephrata', 'Everett', 'Federal Way', 'Ferndale', 'Friday Harbor', 'Gig Harbor', 'Graham', 'Issaquah', 'Kelso', 'Kennewick', 'Kent', 'Kirkland', 'Lacey', 'Lake Stevens', 'Lakewood', 'Langley', 'Leavenworth', 'Long Beach', 'Longview', 'Lynnwood', 'Maple Valley', 'McKenna', 'Moses Lake', 'Mount Vernon', 'Mountlake Terrace', 'Newport', 'Oak Harbor', 'Oakville', 'Ocean Shores', 'Okanogan', 'Olalla', 'Olympia', 'Onalaska', 'Othello', 'Pasco', 'Port Angeles', 'Port Orchard', 'Port Townsend', 'Prosser', 'Pullman', 'Puyallup', 'Quilcene', 'Quincy', 'Ravensdale', 'Raymond', 'Redmond', 'Renton', 'Republic', 'Richland', 'Roslyn', 'Roy', 'Sammamish', 'Seattle', 'Sequim', 'Shelton', 'Shoreline', 'Silvana', 'Silverdale', 'Snoqualmie', 'Spokane', 'Spokane Valley', 'Stanwood', 'Steilacoom', 'Sultan', 'Sumner', 'Tacoma', 'Tenino', 'Union Gap', 'University Place', 'Vancouver', 'Vashon Island', 'Walla Walla', 'Washougal', 'Wenatchee', 'West Richland', 'Winlock', 'Wishram', 'Woodinville', 'Yakima'}\n",
    "    cities_wa = {'Aberdeen', 'Anacortes', 'Arlington', 'Auburn', 'Bainbridge Island', 'Battle Ground', \n",
    "                 'Bellevue', 'Bellingham', 'Benton City', 'Bonney Lake', 'Bothell', 'Bremerton', 'Burlington', \n",
    "                 'Cashmere', 'Chehalis', 'Chewelah', 'Connell', 'Coupeville', 'Covington', 'Deer Park', \n",
    "                 'Des Moines', 'East Wenatchee', 'Edgewood', 'Edmonds', 'Ellensburg', 'Elma', 'Ephrata', \n",
    "                 'Everett', 'Federal Way', 'Ferndale', 'Friday Harbor', 'Gig Harbor', 'Graham', 'Issaquah', \n",
    "                 'Kelso', 'Kennewick', 'Kent', 'Kirkland', 'Lacey', 'Lake Stevens', 'Lakewood', 'Langley', \n",
    "                 'Leavenworth', 'Long Beach', 'Longview', 'Lynnwood', 'Maple Valley', 'McKenna', 'Moses Lake', \n",
    "                 'Mount Vernon', 'Mountlake Terrace', 'Newport', 'Oak Harbor', 'Oakville', 'Ocean Shores', \n",
    "                 'Okanogan', 'Olympia', 'Onalaska', 'Othello', 'Pasco', 'Port Angeles', 'Port Orchard', \n",
    "                 'Port Townsend', 'Prosser', 'Pullman', 'Puyallup', 'Quilcene', 'Quincy', 'Ravensdale', 'Raymond', \n",
    "                 'Redmond', 'Renton', 'Republic', 'Richland', 'Roslyn', 'Roy', 'Sammamish', 'Seattle', 'Sequim', \n",
    "                 'Shelton', 'Shoreline', 'Silvana', 'Silverdale', 'Snoqualmie', 'Spokane', 'Spokane Valley', \n",
    "                 'Stanwood', 'Steilacoom', 'Sultan', 'Sumner', 'Tacoma', 'Tenino', 'Union Gap', 'University Place', \n",
    "                 'Vancouver', 'Vashon Island', 'Walla Walla', 'Washougal', 'Wenatchee', 'West Richland', 'Winlock', \n",
    "                 'Wishram', 'Woodinville', 'Yakima'}\n",
    "\n",
    "    adopted_wa = pd.DataFrame()\n",
    "    for city in cities_wa:\n",
    "#         print(city)\n",
    "        adopted = pf.animals(\n",
    "            animal_type=animal_type, \n",
    "            status='adopted', \n",
    "            results_per_page=100, \n",
    "            pages=None, \n",
    "            location=city+', WA',\n",
    "            distance=10,\n",
    "            after_date=after_date, \n",
    "            before_date=before_date)\n",
    "#         print(adopted)\n",
    "        adopted_df = pd.DataFrame(adopted['animals'])\n",
    "#         print(adopted_df.head())\n",
    "        adopted_wa = adopted_wa.append(adopted_df)\n",
    "#         print(adopted_wa.info()) \n",
    "       \n",
    "    return adopted_wa"
   ]
  },
  {
   "cell_type": "markdown",
   "metadata": {},
   "source": [
    "# Dogs"
   ]
  },
  {
   "cell_type": "code",
   "execution_count": 8,
   "metadata": {},
   "outputs": [],
   "source": [
    "## adopted_q1_dogs = Jan-Mar 2019 dogs only\n",
    "adopted_q1_dogs = import_petfinder_wa('2019-01-01', '2019-04-01', 'dog')"
   ]
  },
  {
   "cell_type": "code",
   "execution_count": 12,
   "metadata": {},
   "outputs": [],
   "source": [
    "# adopted_q2_dogs = Apr-Jun 2019 dogs only\n",
    "adopted_q2_dogs = import_petfinder_wa('2019-04-01', '2019-07-01', 'dog')"
   ]
  },
  {
   "cell_type": "code",
   "execution_count": 13,
   "metadata": {},
   "outputs": [],
   "source": [
    "# adopted_q3_dogs = Jul-Sep 2019 dogs only\n",
    "adopted_q3_dogs = import_petfinder_wa('2019-07-01', '2019-10-01', 'dog')"
   ]
  },
  {
   "cell_type": "code",
   "execution_count": 14,
   "metadata": {},
   "outputs": [],
   "source": [
    "# adopted_q4_dogs = Oct-Dec 2015 dogs only\n",
    "adopted_q4_dogs = import_petfinder_wa('2019-10-01', '2020-01-01', 'dog')"
   ]
  },
  {
   "cell_type": "code",
   "execution_count": 15,
   "metadata": {},
   "outputs": [],
   "source": [
    "dogs_df = adopted_q1_dogs.append([adopted_q2_dogs, adopted_q3_dogs, adopted_q4_dogs])"
   ]
  },
  {
   "cell_type": "code",
   "execution_count": 21,
   "metadata": {},
   "outputs": [
    {
     "name": "stdout",
     "output_type": "stream",
     "text": [
      "Writing file.  \"data/dogs_2019.csv\"\n"
     ]
    }
   ],
   "source": [
    "# save the data to a new csv file\n",
    "datapath = 'data'\n",
    "save_file(dogs_df, 'dogs_2019.csv', datapath)"
   ]
  },
  {
   "cell_type": "markdown",
   "metadata": {},
   "source": [
    "# Cats"
   ]
  },
  {
   "cell_type": "code",
   "execution_count": 20,
   "metadata": {},
   "outputs": [],
   "source": [
    "## adopted_q1_cats = Jan-Mar 2019 cats only\n",
    "adopted_q1_cats = import_petfinder_wa('2019-01-01', '2019-04-01', 'cat')"
   ]
  },
  {
   "cell_type": "code",
   "execution_count": 22,
   "metadata": {},
   "outputs": [],
   "source": [
    "# adopted_q2_cats = Apr-Jun 2019 cats only\n",
    "adopted_q2_cats = import_petfinder_wa('2019-04-01', '2019-07-01', 'cat')"
   ]
  },
  {
   "cell_type": "code",
   "execution_count": 23,
   "metadata": {},
   "outputs": [],
   "source": [
    "# adopted_q3_cats = Jul-Sep 2019 cats only\n",
    "adopted_q3_cats = import_petfinder_wa('2019-07-01', '2019-10-01', 'cat')"
   ]
  },
  {
   "cell_type": "code",
   "execution_count": 26,
   "metadata": {},
   "outputs": [],
   "source": [
    "# adopted_q4_cats = Oct-Dec 2015 cats only\n",
    "adopted_q4_cats = import_petfinder_wa('2019-10-01', '2020-01-01', 'cat')"
   ]
  },
  {
   "cell_type": "code",
   "execution_count": 27,
   "metadata": {},
   "outputs": [],
   "source": [
    "cats_df = adopted_q1_cats.append([adopted_q2_cats, adopted_q3_cats, adopted_q4_cats])"
   ]
  },
  {
   "cell_type": "code",
   "execution_count": 28,
   "metadata": {},
   "outputs": [
    {
     "name": "stdout",
     "output_type": "stream",
     "text": [
      "Writing file.  \"data/cats_2019.csv\"\n"
     ]
    }
   ],
   "source": [
    "# save the data to a new csv file\n",
    "datapath = 'data'\n",
    "save_file(cats_df, 'cats_2019.csv', datapath)"
   ]
  },
  {
   "cell_type": "markdown",
   "metadata": {},
   "source": [
    "# Organizations"
   ]
  },
  {
   "cell_type": "code",
   "execution_count": 29,
   "metadata": {},
   "outputs": [
    {
     "name": "stderr",
     "output_type": "stream",
     "text": [
      "/opt/anaconda3/lib/python3.8/site-packages/petpy-2.2.1-py3.8.egg/petpy/api.py:1049: FutureWarning: pandas.io.json.json_normalize is deprecated, use pandas.json_normalize instead\n",
      "  results_df = json_normalize(results[key])\n"
     ]
    }
   ],
   "source": [
    "wa_orgs = pf.organizations(state='WA', results_per_page=100, pages=None, return_df=True)"
   ]
  },
  {
   "cell_type": "code",
   "execution_count": 30,
   "metadata": {},
   "outputs": [
    {
     "name": "stdout",
     "output_type": "stream",
     "text": [
      "Writing file.  \"data/orgs_2019.csv\"\n"
     ]
    }
   ],
   "source": [
    "# save the data to a new csv file\n",
    "datapath = 'data'\n",
    "save_file(wa_orgs, 'orgs_2019.csv', datapath)"
   ]
  },
  {
   "cell_type": "code",
   "execution_count": null,
   "metadata": {},
   "outputs": [],
   "source": []
  }
 ],
 "metadata": {
  "kernelspec": {
   "display_name": "Python 3",
   "language": "python",
   "name": "python3"
  },
  "language_info": {
   "codemirror_mode": {
    "name": "ipython",
    "version": 3
   },
   "file_extension": ".py",
   "mimetype": "text/x-python",
   "name": "python",
   "nbconvert_exporter": "python",
   "pygments_lexer": "ipython3",
   "version": "3.8.3"
  }
 },
 "nbformat": 4,
 "nbformat_minor": 4
}
