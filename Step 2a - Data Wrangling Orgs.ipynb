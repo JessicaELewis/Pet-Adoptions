{
 "cells": [
  {
   "cell_type": "markdown",
   "metadata": {},
   "source": [
    "# Data Wrangling - Petfinder API\n",
    "\n",
    "## Data Collection\n",
    "\n",
    "Goal: Organize your data to streamline the next steps of your capstone\n",
    "\n",
    "Time estimate: 1-2 hours \n",
    "\n",
    "■ Data loading\n",
    "\n",
    "■ Data joining"
   ]
  },
  {
   "cell_type": "code",
   "execution_count": 1,
   "metadata": {},
   "outputs": [],
   "source": [
    "# Import Libraries\n",
    "import pandas as pd\n",
    "import os\n",
    "import petpy\n",
    "from datetime import timedelta\n",
    "import matplotlib.pyplot as plt\n",
    "import numpy as np\n",
    "from ast import literal_eval\n",
    "\n",
    "from library.sb_utils import save_file"
   ]
  },
  {
   "cell_type": "code",
   "execution_count": 2,
   "metadata": {},
   "outputs": [],
   "source": [
    "pd.set_option('display.expand_frame_repr', False)\n",
    "pd.set_option('display.precision', 2)\n",
    "pd.set_option('display.max_rows', None)\n",
    "pd.set_option('display.max_columns', None)\n",
    "pd.set_option('display.width', None)\n",
    "pd.set_option('display.max_colwidth', None)"
   ]
  },
  {
   "cell_type": "markdown",
   "metadata": {},
   "source": [
    "## Organizations"
   ]
  },
  {
   "cell_type": "code",
   "execution_count": 93,
   "metadata": {},
   "outputs": [
    {
     "name": "stdout",
     "output_type": "stream",
     "text": [
      "<class 'pandas.core.frame.DataFrame'>\n",
      "RangeIndex: 245 entries, 0 to 244\n",
      "Data columns (total 30 columns):\n",
      " #   Column                  Non-Null Count  Dtype  \n",
      "---  ------                  --------------  -----  \n",
      " 0   id                      245 non-null    object \n",
      " 1   name                    245 non-null    object \n",
      " 2   email                   242 non-null    object \n",
      " 3   phone                   155 non-null    object \n",
      " 4   url                     245 non-null    object \n",
      " 5   website                 150 non-null    object \n",
      " 6   mission_statement       148 non-null    object \n",
      " 7   photos                  245 non-null    object \n",
      " 8   distance                0 non-null      float64\n",
      " 9   address.address1        101 non-null    object \n",
      " 10  address.address2        18 non-null     object \n",
      " 11  address.city            245 non-null    object \n",
      " 12  address.state           245 non-null    object \n",
      " 13  address.postcode        245 non-null    int64  \n",
      " 14  address.country         245 non-null    object \n",
      " 15  hours.monday            28 non-null     object \n",
      " 16  hours.tuesday           29 non-null     object \n",
      " 17  hours.wednesday         29 non-null     object \n",
      " 18  hours.thursday          29 non-null     object \n",
      " 19  hours.friday            30 non-null     object \n",
      " 20  hours.saturday          32 non-null     object \n",
      " 21  hours.sunday            28 non-null     object \n",
      " 22  adoption.policy         137 non-null    object \n",
      " 23  adoption.url            106 non-null    object \n",
      " 24  social_media.facebook   125 non-null    object \n",
      " 25  social_media.twitter    20 non-null     object \n",
      " 26  social_media.youtube    17 non-null     object \n",
      " 27  social_media.instagram  64 non-null     object \n",
      " 28  social_media.pinterest  5 non-null      object \n",
      " 29  organization_id         245 non-null    object \n",
      "dtypes: float64(1), int64(1), object(28)\n",
      "memory usage: 57.5+ KB\n"
     ]
    }
   ],
   "source": [
    "orgs_df = pd.read_csv('data/orgs_2019.csv')\n",
    "orgs_df.info()"
   ]
  },
  {
   "cell_type": "code",
   "execution_count": 94,
   "metadata": {},
   "outputs": [
    {
     "data": {
      "text/html": [
       "<div>\n",
       "<style scoped>\n",
       "    .dataframe tbody tr th:only-of-type {\n",
       "        vertical-align: middle;\n",
       "    }\n",
       "\n",
       "    .dataframe tbody tr th {\n",
       "        vertical-align: top;\n",
       "    }\n",
       "\n",
       "    .dataframe thead th {\n",
       "        text-align: right;\n",
       "    }\n",
       "</style>\n",
       "<table border=\"1\" class=\"dataframe\">\n",
       "  <thead>\n",
       "    <tr style=\"text-align: right;\">\n",
       "      <th></th>\n",
       "      <th>address.city</th>\n",
       "    </tr>\n",
       "    <tr>\n",
       "      <th>id</th>\n",
       "      <th></th>\n",
       "    </tr>\n",
       "  </thead>\n",
       "  <tbody>\n",
       "    <tr>\n",
       "      <th>WA461</th>\n",
       "      <td>Kirkland</td>\n",
       "    </tr>\n",
       "    <tr>\n",
       "      <th>WA26</th>\n",
       "      <td>Spokane</td>\n",
       "    </tr>\n",
       "    <tr>\n",
       "      <th>WA148</th>\n",
       "      <td>Spokane</td>\n",
       "    </tr>\n",
       "    <tr>\n",
       "      <th>WA611</th>\n",
       "      <td>Mount Vernon</td>\n",
       "    </tr>\n",
       "    <tr>\n",
       "      <th>WA472</th>\n",
       "      <td>Lake Stevens</td>\n",
       "    </tr>\n",
       "    <tr>\n",
       "      <th>WA51</th>\n",
       "      <td>Gig Harbor</td>\n",
       "    </tr>\n",
       "    <tr>\n",
       "      <th>WA125</th>\n",
       "      <td>Bremerton</td>\n",
       "    </tr>\n",
       "    <tr>\n",
       "      <th>WA134</th>\n",
       "      <td>Everett</td>\n",
       "    </tr>\n",
       "    <tr>\n",
       "      <th>WA671</th>\n",
       "      <td>Battle Ground</td>\n",
       "    </tr>\n",
       "    <tr>\n",
       "      <th>WA418</th>\n",
       "      <td>Seattle</td>\n",
       "    </tr>\n",
       "  </tbody>\n",
       "</table>\n",
       "</div>"
      ],
      "text/plain": [
       "        address.city\n",
       "id                  \n",
       "WA461       Kirkland\n",
       "WA26         Spokane\n",
       "WA148        Spokane\n",
       "WA611   Mount Vernon\n",
       "WA472   Lake Stevens\n",
       "WA51      Gig Harbor\n",
       "WA125      Bremerton\n",
       "WA134        Everett\n",
       "WA671  Battle Ground\n",
       "WA418        Seattle"
      ]
     },
     "execution_count": 94,
     "metadata": {},
     "output_type": "execute_result"
    }
   ],
   "source": [
    "orgs_wa = orgs_df[['id', 'address.city']].set_index('id')\n",
    "orgs_wa.sample(10)"
   ]
  },
  {
   "cell_type": "code",
   "execution_count": 95,
   "metadata": {},
   "outputs": [],
   "source": [
    "city_adopted = pd.DataFrame.to_dict(orgs_wa)"
   ]
  },
  {
   "cell_type": "code",
   "execution_count": 45,
   "metadata": {},
   "outputs": [
    {
     "name": "stdout",
     "output_type": "stream",
     "text": [
      "{'WA193': 'Yakima', 'WA687': 'Yakima', 'WA447': 'Yakima', 'WA461': 'Kirkland', 'WA39': 'Redmond', 'WA401': 'Des Moines', 'WA446': 'Olympia', 'WA674': 'Onalaska', 'WA08': 'Bremerton', 'WA694': 'Gig Harbor', 'WA127': 'Puyallup', 'WA91': 'Leavenworth', 'WA135': 'Camano Island', 'WA668': 'Yakima', 'WA380': 'Roslyn', 'WA325': 'Bainbridge Island', 'WA441': 'Seattle', 'WA430': 'Anacortes', 'WA602': 'Newport', 'WA307': 'Issaquah', 'WA573': 'Lacey', 'WA503': 'Seattle', 'WA214': 'Seattle', 'WA531': 'Bonney Lake', 'WA682': 'Bonney Lake', 'WA669': 'Puyallup', 'WA701': 'Vancouver', 'WA77': 'Seattle', 'WA169': 'Oak Harbor', 'WA167': 'Sultan', 'WA403': 'Union Gap', 'WA422': 'Bothell', 'WA149': 'Auburn', 'WA350': 'Olalla', 'WA575': 'Seattle', 'WA593': 'Oakville', 'WA283': 'Woodinville', 'WA688': 'Ferndale', 'WA686': 'Spokane', 'WA66': 'Redmond', 'WA389': 'Vancouver', 'WA658': 'Tacoma', 'WA486': 'Quincy', 'WA237': 'Edmonds', 'WA51': 'Gig Harbor', 'WA663': 'Mount Vernon', 'WA675': 'Seattle', 'WA497': 'Auburn', 'WA519': 'Bellingham', 'WA355': 'Seahurst', 'WA649': 'Cashmere', 'WA162': 'Friday Harbor', 'WA474': 'Bellingham', 'WA101': 'Bothell', 'WA56': 'Burlington', 'WA70': 'Arlington', 'WA324': 'Prosser', 'WA628': 'Ferndale', 'WA391': 'Seattle', 'WA201': 'Aberdeen', 'WA125': 'Bremerton', 'WA470': 'Puyallup', 'WA148': 'Spokane', 'WA285': 'Maple Valley', 'WA466': 'Burlington', 'WA672': 'Bow', 'WA538': 'Seattle', 'WA693': 'Ephrata', 'WA653': 'West Richland', 'WA414': 'Olalla', 'WA418': 'Seattle', 'WA605': 'Everett', 'WA659': 'Kelso', 'WA545': 'Ellensburg', 'WA665': 'Gig Harbor', 'WA255': 'Long Beach', 'WA400': 'Redmond', 'WA552': 'Pasco', 'WA132': 'Stanwood', 'WA676': 'Tacoma', 'WA617': 'Lacey', 'WA134': 'Everett', 'WA604': 'Redmond', 'WA242': 'Spokane', 'WA526': 'Vancouver', 'WA262': 'Port Townsend', 'WA645': 'Oakville', 'WA49': 'Longview', 'WA333': 'Longview', 'WA677': 'Spokane ', 'WA139': 'Wenatchee', 'WA554': 'Kirkland', 'WA433': 'Redmond', 'WA06': 'Bellevue', 'WA117': 'Tacoma', 'WA118': 'Shelton', 'WA647': 'Battle Ground', 'WA642': 'Benton City', 'WA622': 'Arlington', 'WA178': 'Spokane Valley', 'WA07': 'Kennewick', 'WA656': 'Pasco', 'WA678': 'Bellingham', 'WA697': 'Sammamish', 'WA122': 'Langley', 'WA546': 'Woodinville', 'WA175': 'Yakima', 'WA90': 'Seattle', 'WA372': 'Winlock', 'WA476': 'Olympia', 'WA23': 'Snoqualmie', 'WA553': 'Gig Harbor', 'WA12': 'Vancouver', 'WA159': 'Tenino', 'WA353': 'Silverdale', 'WA606': 'Lake Stevens', 'WA633': 'Washougal', 'WA704': 'Sammamish', 'WA209': 'Benton City', 'WA114': 'Chehalis', 'WA664': 'Bellingham', 'WA52': 'Othello', 'CA2831': 'Edmonds', 'WA671': 'Battle Ground', 'WA477': 'McKenna', 'WA02': 'Pasco', 'WA594': 'Spokane', 'WA584': 'Oak Harbor', 'WA705': 'Bellevue', 'WA650': 'Seattle', 'WA330': 'Longview', 'WA113': 'Spokane Valley', 'WA660': 'Federal Way', 'WA690': 'Battle Ground', 'WA14': 'Blaine', 'WA309': 'Walla Walla', 'WA53': 'Sequim', 'WA527': 'Seattle', 'WA27': 'Seattle', 'WA203': 'Spokane', 'WA564': 'Chehalis', 'WA142': 'Quilcene', 'WA368': 'Seattle', 'WA35': 'Pullman', 'WA713': 'Onalaska', 'WA58': 'Seattle', 'WA623': 'Kirkland', 'WA712': 'Fall City', 'WA319': 'Ellensburg', 'WA87': 'Vashon Island', 'WA59': 'Lynnwood', 'WA84': 'Snoqualmie', 'WA208': 'Bothell', 'WA614': 'Deer Park', 'WA695': 'Ephrata', 'WA516': 'Vancouver', 'WA47': 'Seattle', 'WA26': 'Spokane', 'WA655': 'Allyn', 'WA11': 'Vancouver', 'WA608': 'Sequim', 'WA419': 'Issaquah', 'WA577': 'University Place', 'WA444': 'Seattle', 'WA683': 'Bellingham', 'WA48': 'Spokane', 'WA706': 'Seattle', 'WA627': 'Roy', 'WA673': 'Edmonds ', 'WA621': 'Seahurst', 'WA630': 'Silvana', 'WA544': 'Covington', 'WA314': 'Monroe', 'WA157': 'Kent', 'WA370': 'Moses Lake', 'WA97': 'Sequim', 'WA177': 'Anacortes', 'WA700': 'SEATTLE', 'WA241': 'Republic', 'WA221': 'Eastsound', 'WA500': 'Seattle', 'WA523': 'Tacoma', 'WA7': 'Bellingham', 'WA40': 'Shoreline', 'WA15': 'Bellingham', 'WA164': 'Washougal', 'WA581': 'Seattle', 'WA138': 'Bothell', 'WA472': 'Lake Stevens', 'WA611': 'Mount Vernon', 'WA73': 'Puyallup', 'WA378': 'Wenatchee', 'WA644': 'Seattle', 'WA652': 'Renton', 'WA68': 'Port Angeles', 'WA711': 'Port Angeles', 'WA38': 'Battle Ground', 'WA424': 'West Richland', 'WA613': 'La Center', 'WA716': 'Everett', 'WA612': 'Elma', 'WA79': 'Ellensburg', 'WA707': 'Olympia', 'WA576': 'Connell', 'WA699': 'Moses Lake', 'WA295': 'Steilacoom', 'WA717': 'Lake Forest Park', 'WA119': 'Kirkland', 'WA715': 'Lacey', 'WA388': 'Chewelah', 'WA215': 'Seattle', 'WA467': 'Chehalis', 'WA661': 'Spokane', 'WA455': 'Olympia', 'WA708': 'Edgewood', 'WA562': 'Mountlake Terrace', 'WA219': 'Ocean Shores', 'WA65': 'Yakima', 'WA112': 'Tacoma', 'WA287': 'Moses Lake', 'WA109': 'Woodinville', 'WA721': 'Vancouver', 'WA681': 'Spokane', 'WA696': 'East Wenatchee', 'WA150': 'Raymond', 'WA718': 'Ferndale', 'WA107': 'Seattle', 'WA224': 'Spokane', 'WA691': 'Puyallup', 'WA625': 'Centralia', 'WA719': 'Bellingham', 'WA19': 'Olympia', 'WA254': 'Auburn', 'WA720': 'Marysville', 'WA632': 'Yakima', 'WA689': 'Ravensdale', 'WA41': 'Silverdale', 'WA722': 'Issaquah', 'WA123': 'Coupeville', 'WA680': 'Pullman', 'WA96': 'Sumner', 'WA510': 'Everett', 'WA638': 'Okanogan', 'WA662': 'Silverlake', 'WA580': 'Ferndale'}\n"
     ]
    }
   ],
   "source": [
    "city_adopted = city_adopted['address.city']\n",
    "\n",
    "print(city_adopted)"
   ]
  },
  {
   "cell_type": "code",
   "execution_count": 98,
   "metadata": {},
   "outputs": [
    {
     "name": "stdout",
     "output_type": "stream",
     "text": [
      "A file already exists with this name.\n",
      "\n",
      "Do you want to overwrite? (Y/N)y\n",
      "Writing file.  \"data/orgs_wa.csv\"\n"
     ]
    }
   ],
   "source": [
    "# save the data to a new csv file\n",
    "datapath = 'data'\n",
    "save_file(orgs_wa.reset_index(), 'orgs_wa.csv', datapath)"
   ]
  },
  {
   "cell_type": "code",
   "execution_count": null,
   "metadata": {},
   "outputs": [],
   "source": []
  }
 ],
 "metadata": {
  "kernelspec": {
   "display_name": "Python 3",
   "language": "python",
   "name": "python3"
  },
  "language_info": {
   "codemirror_mode": {
    "name": "ipython",
    "version": 3
   },
   "file_extension": ".py",
   "mimetype": "text/x-python",
   "name": "python",
   "nbconvert_exporter": "python",
   "pygments_lexer": "ipython3",
   "version": "3.8.3"
  }
 },
 "nbformat": 4,
 "nbformat_minor": 4
}
