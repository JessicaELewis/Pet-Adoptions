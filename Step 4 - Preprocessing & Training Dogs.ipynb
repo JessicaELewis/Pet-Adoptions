{
 "cells": [
  {
   "cell_type": "markdown",
   "metadata": {},
   "source": [
    "# Preprocessing & Training\n",
    "\n",
    "### Goal:\n",
    "<p>Create a cleaned development dataset you can use to complete the modeling step of your project.</p>\n",
    "\n",
    "### Steps:\n",
    "<ul><li>Create dummy or indicator features for categorical variables</li><li>Standardize the magnitude of numeric features using a scaler</li><li>Split into testing and training datasets</li></ul>\n",
    "Review the following questions and apply them to your dataset:<ul><li>Does my data set have any categorical data, such as Gender or day of the week?</li><li>Do my features have data values that range from 0 - 100 or 0-1 or both and more?  </li></ul>"
   ]
  },
  {
   "cell_type": "code",
   "execution_count": 2,
   "metadata": {},
   "outputs": [],
   "source": [
    "import numpy as np\n",
    "import pandas as pd\n",
    "from sklearn.pipeline import make_pipeline\n",
    "from sklearn.preprocessing import StandardScaler, MinMaxScaler\n",
    "from sklearn.ensemble import RandomForestRegressor\n",
    "from sklearn.model_selection import train_test_split, cross_validate, GridSearchCV, learning_curve\n",
    "\n",
    "from library.sb_utils import save_file"
   ]
  },
  {
   "cell_type": "code",
   "execution_count": 3,
   "metadata": {},
   "outputs": [],
   "source": [
    "pd.set_option('display.expand_frame_repr', False)\n",
    "pd.set_option('display.precision', 2)\n",
    "pd.set_option('display.max_rows', None)\n",
    "pd.set_option('display.max_columns', None)\n",
    "pd.set_option('display.width', None)\n",
    "pd.set_option('display.max_colwidth', None)\n",
    "\n",
    "pd.set_option('display.float_format', lambda x: '%.5f' % x)"
   ]
  },
  {
   "cell_type": "code",
   "execution_count": 4,
   "metadata": {},
   "outputs": [
    {
     "name": "stdout",
     "output_type": "stream",
     "text": [
      "<class 'pandas.core.frame.DataFrame'>\n",
      "RangeIndex: 7179 entries, 0 to 7178\n",
      "Data columns (total 23 columns):\n",
      " #   Column                 Non-Null Count  Dtype  \n",
      "---  ------                 --------------  -----  \n",
      " 0   age                    7179 non-null   object \n",
      " 1   gender                 7179 non-null   object \n",
      " 2   size                   7179 non-null   object \n",
      " 3   coat                   7179 non-null   object \n",
      " 4   distance               7179 non-null   float64\n",
      " 5   spayed_neutered        7179 non-null   bool   \n",
      " 6   house_trained          7179 non-null   bool   \n",
      " 7   special_needs          7179 non-null   bool   \n",
      " 8   shots_current          7179 non-null   bool   \n",
      " 9   breed_primary          7179 non-null   object \n",
      " 10  breed_secondary        7179 non-null   object \n",
      " 11  breed_mixed            7179 non-null   bool   \n",
      " 12  color_primary          7179 non-null   object \n",
      " 13  color_secondary        7179 non-null   object \n",
      " 14  color_tertiary         7179 non-null   object \n",
      " 15  goodwith_children      7179 non-null   object \n",
      " 16  goodwith_dogs          7179 non-null   object \n",
      " 17  goodwith_cats          7179 non-null   object \n",
      " 18  hasimage               7179 non-null   bool   \n",
      " 19  hasvideo               7179 non-null   bool   \n",
      " 20  duration_as_adoptable  7179 non-null   float64\n",
      " 21  city                   7179 non-null   object \n",
      " 22  population             7179 non-null   float64\n",
      "dtypes: bool(7), float64(3), object(13)\n",
      "memory usage: 946.6+ KB\n"
     ]
    }
   ],
   "source": [
    "adopted = pd.read_csv('data/dogs_trimmed.csv')\n",
    "adopted.info()"
   ]
  },
  {
   "cell_type": "markdown",
   "metadata": {},
   "source": [
    "## Dummies!\n",
    "### After converting bools to ints, of course"
   ]
  },
  {
   "cell_type": "code",
   "execution_count": 5,
   "metadata": {},
   "outputs": [
    {
     "name": "stderr",
     "output_type": "stream",
     "text": [
      "/opt/anaconda3/lib/python3.8/site-packages/pandas/core/indexing.py:966: SettingWithCopyWarning: \n",
      "A value is trying to be set on a copy of a slice from a DataFrame.\n",
      "Try using .loc[row_indexer,col_indexer] = value instead\n",
      "\n",
      "See the caveats in the documentation: https://pandas.pydata.org/pandas-docs/stable/user_guide/indexing.html#returning-a-view-versus-a-copy\n",
      "  self.obj[item] = s\n"
     ]
    }
   ],
   "source": [
    "df = adopted[['gender', 'size', 'coat', 'duration_as_adoptable', 'hasimage', 'hasvideo', 'spayed_neutered', 'house_trained', 'special_needs', 'shots_current', 'goodwith_children', 'goodwith_dogs', 'goodwith_cats']]\n",
    "df.loc[:, ['hasimage', 'hasvideo', 'spayed_neutered', 'house_trained', 'special_needs', 'shots_current']] = adopted.loc[:, ['hasimage', 'hasvideo', 'spayed_neutered', 'house_trained', 'special_needs', 'shots_current']].astype('int64')\n",
    "df = pd.get_dummies(df)"
   ]
  },
  {
   "cell_type": "code",
   "execution_count": 6,
   "metadata": {},
   "outputs": [],
   "source": [
    "# drop one of each of the dummy category columns so those features don't double-weight anything\n",
    "df.drop(['size_Extra Large', 'gender_Female', 'coat_Hairless', 'goodwith_children_False', 'goodwith_dogs_False', 'goodwith_cats_False'], axis=1, inplace=True)"
   ]
  },
  {
   "cell_type": "markdown",
   "metadata": {},
   "source": [
    "## Scaling using StandardScaler()"
   ]
  },
  {
   "cell_type": "code",
   "execution_count": 7,
   "metadata": {},
   "outputs": [],
   "source": [
    "scaler = StandardScaler()\n",
    "scaled = scaler.fit_transform(df)"
   ]
  },
  {
   "cell_type": "code",
   "execution_count": 8,
   "metadata": {},
   "outputs": [
    {
     "data": {
      "text/html": [
       "<div>\n",
       "<style scoped>\n",
       "    .dataframe tbody tr th:only-of-type {\n",
       "        vertical-align: middle;\n",
       "    }\n",
       "\n",
       "    .dataframe tbody tr th {\n",
       "        vertical-align: top;\n",
       "    }\n",
       "\n",
       "    .dataframe thead th {\n",
       "        text-align: right;\n",
       "    }\n",
       "</style>\n",
       "<table border=\"1\" class=\"dataframe\">\n",
       "  <thead>\n",
       "    <tr style=\"text-align: right;\">\n",
       "      <th></th>\n",
       "      <th>duration_as_adoptable</th>\n",
       "      <th>hasimage</th>\n",
       "      <th>hasvideo</th>\n",
       "      <th>spayed_neutered</th>\n",
       "      <th>house_trained</th>\n",
       "      <th>special_needs</th>\n",
       "      <th>shots_current</th>\n",
       "      <th>gender_Male</th>\n",
       "      <th>size_Large</th>\n",
       "      <th>size_Medium</th>\n",
       "      <th>size_Small</th>\n",
       "      <th>coat_Curly</th>\n",
       "      <th>coat_Long</th>\n",
       "      <th>coat_Medium</th>\n",
       "      <th>coat_Short</th>\n",
       "      <th>coat_Wire</th>\n",
       "      <th>coat_unknown</th>\n",
       "      <th>goodwith_children_True</th>\n",
       "      <th>goodwith_children_unknown</th>\n",
       "      <th>goodwith_dogs_True</th>\n",
       "      <th>goodwith_dogs_unknown</th>\n",
       "      <th>goodwith_cats_True</th>\n",
       "      <th>goodwith_cats_unknown</th>\n",
       "    </tr>\n",
       "  </thead>\n",
       "  <tbody>\n",
       "    <tr>\n",
       "      <th>count</th>\n",
       "      <td>7179.00000</td>\n",
       "      <td>7179.00000</td>\n",
       "      <td>7179.00000</td>\n",
       "      <td>7179.00000</td>\n",
       "      <td>7179.00000</td>\n",
       "      <td>7179.00000</td>\n",
       "      <td>7179.00000</td>\n",
       "      <td>7179.00000</td>\n",
       "      <td>7179.00000</td>\n",
       "      <td>7179.00000</td>\n",
       "      <td>7179.00000</td>\n",
       "      <td>7179.00000</td>\n",
       "      <td>7179.00000</td>\n",
       "      <td>7179.00000</td>\n",
       "      <td>7179.00000</td>\n",
       "      <td>7179.00000</td>\n",
       "      <td>7179.00000</td>\n",
       "      <td>7179.00000</td>\n",
       "      <td>7179.00000</td>\n",
       "      <td>7179.00000</td>\n",
       "      <td>7179.00000</td>\n",
       "      <td>7179.00000</td>\n",
       "      <td>7179.00000</td>\n",
       "    </tr>\n",
       "    <tr>\n",
       "      <th>mean</th>\n",
       "      <td>-0.00000</td>\n",
       "      <td>-0.00000</td>\n",
       "      <td>-0.00000</td>\n",
       "      <td>-0.00000</td>\n",
       "      <td>-0.00000</td>\n",
       "      <td>0.00000</td>\n",
       "      <td>-0.00000</td>\n",
       "      <td>-0.00000</td>\n",
       "      <td>0.00000</td>\n",
       "      <td>-0.00000</td>\n",
       "      <td>-0.00000</td>\n",
       "      <td>-0.00000</td>\n",
       "      <td>0.00000</td>\n",
       "      <td>-0.00000</td>\n",
       "      <td>0.00000</td>\n",
       "      <td>0.00000</td>\n",
       "      <td>-0.00000</td>\n",
       "      <td>-0.00000</td>\n",
       "      <td>-0.00000</td>\n",
       "      <td>-0.00000</td>\n",
       "      <td>-0.00000</td>\n",
       "      <td>0.00000</td>\n",
       "      <td>-0.00000</td>\n",
       "    </tr>\n",
       "    <tr>\n",
       "      <th>std</th>\n",
       "      <td>1.00007</td>\n",
       "      <td>1.00007</td>\n",
       "      <td>1.00007</td>\n",
       "      <td>1.00007</td>\n",
       "      <td>1.00007</td>\n",
       "      <td>1.00007</td>\n",
       "      <td>1.00007</td>\n",
       "      <td>1.00007</td>\n",
       "      <td>1.00007</td>\n",
       "      <td>1.00007</td>\n",
       "      <td>1.00007</td>\n",
       "      <td>1.00007</td>\n",
       "      <td>1.00007</td>\n",
       "      <td>1.00007</td>\n",
       "      <td>1.00007</td>\n",
       "      <td>1.00007</td>\n",
       "      <td>1.00007</td>\n",
       "      <td>1.00007</td>\n",
       "      <td>1.00007</td>\n",
       "      <td>1.00007</td>\n",
       "      <td>1.00007</td>\n",
       "      <td>1.00007</td>\n",
       "      <td>1.00007</td>\n",
       "    </tr>\n",
       "    <tr>\n",
       "      <th>min</th>\n",
       "      <td>-0.72250</td>\n",
       "      <td>-8.24796</td>\n",
       "      <td>-0.20295</td>\n",
       "      <td>-1.77474</td>\n",
       "      <td>-0.84534</td>\n",
       "      <td>-0.17402</td>\n",
       "      <td>-3.45810</td>\n",
       "      <td>-1.05633</td>\n",
       "      <td>-0.59735</td>\n",
       "      <td>-0.72447</td>\n",
       "      <td>-0.77941</td>\n",
       "      <td>-0.12589</td>\n",
       "      <td>-0.25614</td>\n",
       "      <td>-0.54392</td>\n",
       "      <td>-1.05367</td>\n",
       "      <td>-0.14103</td>\n",
       "      <td>-0.41713</td>\n",
       "      <td>-0.85824</td>\n",
       "      <td>-0.98356</td>\n",
       "      <td>-1.26237</td>\n",
       "      <td>-0.73793</td>\n",
       "      <td>-0.62833</td>\n",
       "      <td>-1.23031</td>\n",
       "    </tr>\n",
       "    <tr>\n",
       "      <th>25%</th>\n",
       "      <td>-0.58503</td>\n",
       "      <td>0.12124</td>\n",
       "      <td>-0.20295</td>\n",
       "      <td>0.56346</td>\n",
       "      <td>-0.84534</td>\n",
       "      <td>-0.17402</td>\n",
       "      <td>0.28918</td>\n",
       "      <td>-1.05633</td>\n",
       "      <td>-0.59735</td>\n",
       "      <td>-0.72447</td>\n",
       "      <td>-0.77941</td>\n",
       "      <td>-0.12589</td>\n",
       "      <td>-0.25614</td>\n",
       "      <td>-0.54392</td>\n",
       "      <td>-1.05367</td>\n",
       "      <td>-0.14103</td>\n",
       "      <td>-0.41713</td>\n",
       "      <td>-0.85824</td>\n",
       "      <td>-0.98356</td>\n",
       "      <td>-1.26237</td>\n",
       "      <td>-0.73793</td>\n",
       "      <td>-0.62833</td>\n",
       "      <td>-1.23031</td>\n",
       "    </tr>\n",
       "    <tr>\n",
       "      <th>50%</th>\n",
       "      <td>-0.37803</td>\n",
       "      <td>0.12124</td>\n",
       "      <td>-0.20295</td>\n",
       "      <td>0.56346</td>\n",
       "      <td>-0.84534</td>\n",
       "      <td>-0.17402</td>\n",
       "      <td>0.28918</td>\n",
       "      <td>0.94668</td>\n",
       "      <td>-0.59735</td>\n",
       "      <td>-0.72447</td>\n",
       "      <td>-0.77941</td>\n",
       "      <td>-0.12589</td>\n",
       "      <td>-0.25614</td>\n",
       "      <td>-0.54392</td>\n",
       "      <td>0.94906</td>\n",
       "      <td>-0.14103</td>\n",
       "      <td>-0.41713</td>\n",
       "      <td>-0.85824</td>\n",
       "      <td>-0.98356</td>\n",
       "      <td>0.79216</td>\n",
       "      <td>-0.73793</td>\n",
       "      <td>-0.62833</td>\n",
       "      <td>0.81281</td>\n",
       "    </tr>\n",
       "    <tr>\n",
       "      <th>75%</th>\n",
       "      <td>0.13745</td>\n",
       "      <td>0.12124</td>\n",
       "      <td>-0.20295</td>\n",
       "      <td>0.56346</td>\n",
       "      <td>1.18296</td>\n",
       "      <td>-0.17402</td>\n",
       "      <td>0.28918</td>\n",
       "      <td>0.94668</td>\n",
       "      <td>1.67405</td>\n",
       "      <td>1.38033</td>\n",
       "      <td>1.28302</td>\n",
       "      <td>-0.12589</td>\n",
       "      <td>-0.25614</td>\n",
       "      <td>-0.54392</td>\n",
       "      <td>0.94906</td>\n",
       "      <td>-0.14103</td>\n",
       "      <td>-0.41713</td>\n",
       "      <td>1.16518</td>\n",
       "      <td>1.01672</td>\n",
       "      <td>0.79216</td>\n",
       "      <td>1.35515</td>\n",
       "      <td>1.59153</td>\n",
       "      <td>0.81281</td>\n",
       "    </tr>\n",
       "    <tr>\n",
       "      <th>max</th>\n",
       "      <td>5.60134</td>\n",
       "      <td>0.12124</td>\n",
       "      <td>4.92729</td>\n",
       "      <td>0.56346</td>\n",
       "      <td>1.18296</td>\n",
       "      <td>5.74662</td>\n",
       "      <td>0.28918</td>\n",
       "      <td>0.94668</td>\n",
       "      <td>1.67405</td>\n",
       "      <td>1.38033</td>\n",
       "      <td>1.28302</td>\n",
       "      <td>7.94344</td>\n",
       "      <td>3.90411</td>\n",
       "      <td>1.83851</td>\n",
       "      <td>0.94906</td>\n",
       "      <td>7.09074</td>\n",
       "      <td>2.39733</td>\n",
       "      <td>1.16518</td>\n",
       "      <td>1.01672</td>\n",
       "      <td>0.79216</td>\n",
       "      <td>1.35515</td>\n",
       "      <td>1.59153</td>\n",
       "      <td>0.81281</td>\n",
       "    </tr>\n",
       "  </tbody>\n",
       "</table>\n",
       "</div>"
      ],
      "text/plain": [
       "       duration_as_adoptable   hasimage   hasvideo  spayed_neutered  house_trained  special_needs  shots_current  gender_Male  size_Large  size_Medium  size_Small  coat_Curly  coat_Long  coat_Medium  coat_Short  coat_Wire  coat_unknown  goodwith_children_True  goodwith_children_unknown  goodwith_dogs_True  goodwith_dogs_unknown  goodwith_cats_True  goodwith_cats_unknown\n",
       "count             7179.00000 7179.00000 7179.00000       7179.00000     7179.00000     7179.00000     7179.00000   7179.00000  7179.00000   7179.00000  7179.00000  7179.00000 7179.00000   7179.00000  7179.00000 7179.00000    7179.00000              7179.00000                 7179.00000          7179.00000             7179.00000          7179.00000             7179.00000\n",
       "mean                -0.00000   -0.00000   -0.00000         -0.00000       -0.00000        0.00000       -0.00000     -0.00000     0.00000     -0.00000    -0.00000    -0.00000    0.00000     -0.00000     0.00000    0.00000      -0.00000                -0.00000                   -0.00000            -0.00000               -0.00000             0.00000               -0.00000\n",
       "std                  1.00007    1.00007    1.00007          1.00007        1.00007        1.00007        1.00007      1.00007     1.00007      1.00007     1.00007     1.00007    1.00007      1.00007     1.00007    1.00007       1.00007                 1.00007                    1.00007             1.00007                1.00007             1.00007                1.00007\n",
       "min                 -0.72250   -8.24796   -0.20295         -1.77474       -0.84534       -0.17402       -3.45810     -1.05633    -0.59735     -0.72447    -0.77941    -0.12589   -0.25614     -0.54392    -1.05367   -0.14103      -0.41713                -0.85824                   -0.98356            -1.26237               -0.73793            -0.62833               -1.23031\n",
       "25%                 -0.58503    0.12124   -0.20295          0.56346       -0.84534       -0.17402        0.28918     -1.05633    -0.59735     -0.72447    -0.77941    -0.12589   -0.25614     -0.54392    -1.05367   -0.14103      -0.41713                -0.85824                   -0.98356            -1.26237               -0.73793            -0.62833               -1.23031\n",
       "50%                 -0.37803    0.12124   -0.20295          0.56346       -0.84534       -0.17402        0.28918      0.94668    -0.59735     -0.72447    -0.77941    -0.12589   -0.25614     -0.54392     0.94906   -0.14103      -0.41713                -0.85824                   -0.98356             0.79216               -0.73793            -0.62833                0.81281\n",
       "75%                  0.13745    0.12124   -0.20295          0.56346        1.18296       -0.17402        0.28918      0.94668     1.67405      1.38033     1.28302    -0.12589   -0.25614     -0.54392     0.94906   -0.14103      -0.41713                 1.16518                    1.01672             0.79216                1.35515             1.59153                0.81281\n",
       "max                  5.60134    0.12124    4.92729          0.56346        1.18296        5.74662        0.28918      0.94668     1.67405      1.38033     1.28302     7.94344    3.90411      1.83851     0.94906    7.09074       2.39733                 1.16518                    1.01672             0.79216                1.35515             1.59153                0.81281"
      ]
     },
     "execution_count": 8,
     "metadata": {},
     "output_type": "execute_result"
    }
   ],
   "source": [
    "scaled_df = pd.DataFrame(scaled, columns=df.columns)\n",
    "scaled_df.describe()"
   ]
  },
  {
   "cell_type": "markdown",
   "metadata": {},
   "source": [
    "## Split into training and test sets"
   ]
  },
  {
   "cell_type": "code",
   "execution_count": 9,
   "metadata": {},
   "outputs": [],
   "source": [
    "X_train, X_test, y_train, y_test = train_test_split(scaled_df.drop(columns='duration_as_adoptable'), \n",
    "                                                    scaled_df.duration_as_adoptable, test_size=0.3, \n",
    "                                                    random_state=192)"
   ]
  },
  {
   "cell_type": "code",
   "execution_count": 10,
   "metadata": {},
   "outputs": [
    {
     "data": {
      "text/plain": [
       "((5025, 22), (2154, 22))"
      ]
     },
     "execution_count": 10,
     "metadata": {},
     "output_type": "execute_result"
    }
   ],
   "source": [
    "X_train.shape, X_test.shape"
   ]
  },
  {
   "cell_type": "code",
   "execution_count": 11,
   "metadata": {},
   "outputs": [
    {
     "data": {
      "text/plain": [
       "((5025,), (2154,))"
      ]
     },
     "execution_count": 11,
     "metadata": {},
     "output_type": "execute_result"
    }
   ],
   "source": [
    "y_train.shape, y_test.shape"
   ]
  },
  {
   "cell_type": "code",
   "execution_count": 12,
   "metadata": {},
   "outputs": [
    {
     "name": "stdout",
     "output_type": "stream",
     "text": [
      "A file already exists with this name.\n",
      "\n",
      "Do you want to overwrite? (Y/N)n\n",
      "\n",
      "Please re-run this cell with a new filename.\n",
      "A file already exists with this name.\n",
      "\n",
      "Do you want to overwrite? (Y/N)n\n",
      "\n",
      "Please re-run this cell with a new filename.\n",
      "A file already exists with this name.\n",
      "\n",
      "Do you want to overwrite? (Y/N)n\n",
      "\n",
      "Please re-run this cell with a new filename.\n",
      "A file already exists with this name.\n",
      "\n",
      "Do you want to overwrite? (Y/N)n\n",
      "\n",
      "Please re-run this cell with a new filename.\n"
     ]
    }
   ],
   "source": [
    "# save training and test sets\n",
    "datapath = 'data/tt_sets'\n",
    "save_file(X_train, 'dogs_X_train.csv', datapath)\n",
    "save_file(X_test, 'dogs_X_test.csv', datapath)\n",
    "save_file(y_train, 'dogs_y_train.csv', datapath)\n",
    "save_file(y_test, 'dogs_y_test.csv', datapath)"
   ]
  },
  {
   "cell_type": "markdown",
   "metadata": {},
   "source": [
    "# Modeling\n",
    "### Goal: Build two to three different models and identify the best one.\n",
    "<ul><li>Fit your models with a training dataset</li>\n",
    "<li>Review model outcomes — Iterate over additional models as needed</li>\n",
    "<li>Identify the final model that you think is the best model for this project</li></ul>\n",
    " Review the following questions and apply them to your analysis: \n",
    "<ul><li>Does my data involve a time series or forecasting? If so, am I splitting the train and test data appropriately?</li>\n",
    "<li>Is my response variable continuous or categorical?</li></ul>"
   ]
  },
  {
   "cell_type": "code",
   "execution_count": 23,
   "metadata": {},
   "outputs": [],
   "source": [
    "from sklearn.ensemble import RandomForestRegressor\n",
    "from sklearn.ensemble import GradientBoostingRegressor\n",
    "from sklearn.neighbors import KNeighborsRegressor\n",
    "import xgboost as xgb\n",
    "\n",
    "from sklearn.model_selection import RandomizedSearchCV\n",
    "from sklearn.model_selection import cross_validate\n",
    "from sklearn.metrics import mean_squared_error"
   ]
  },
  {
   "cell_type": "code",
   "execution_count": null,
   "metadata": {},
   "outputs": [],
   "source": []
  },
  {
   "cell_type": "markdown",
   "metadata": {},
   "source": [
    "### RandomForestRegressor"
   ]
  },
  {
   "cell_type": "code",
   "execution_count": 66,
   "metadata": {},
   "outputs": [
    {
     "data": {
      "text/plain": [
       "0.40289566360909645"
      ]
     },
     "execution_count": 66,
     "metadata": {},
     "output_type": "execute_result"
    }
   ],
   "source": [
    "rf = RandomForestRegressor()\n",
    "rf.fit(X_train, y_train)\n",
    "rf.score(X_train, y_train)"
   ]
  },
  {
   "cell_type": "code",
   "execution_count": 68,
   "metadata": {},
   "outputs": [
    {
     "data": {
      "text/plain": [
       "array([-0.07487687,  0.03303302,  0.00564385, -0.03949187,  0.00522153])"
      ]
     },
     "execution_count": 68,
     "metadata": {},
     "output_type": "execute_result"
    }
   ],
   "source": [
    "rf_cv = cross_validate(rf, X_train, y_train, cv=5)\n",
    "rf_cv_scores_preopt = rf_cv['test_score']\n",
    "rf_cv_scores_preopt"
   ]
  },
  {
   "cell_type": "code",
   "execution_count": 69,
   "metadata": {},
   "outputs": [
    {
     "data": {
      "text/plain": [
       "(-0.014094068350996736, 0.03827071177887789)"
      ]
     },
     "execution_count": 69,
     "metadata": {},
     "output_type": "execute_result"
    }
   ],
   "source": [
    "np.mean(rf_cv_scores_preopt), np.std(rf_cv_scores_preopt)"
   ]
  },
  {
   "cell_type": "code",
   "execution_count": 70,
   "metadata": {},
   "outputs": [
    {
     "name": "stdout",
     "output_type": "stream",
     "text": [
      "RMSE :  1.019257\n"
     ]
    }
   ],
   "source": [
    "rf_pred = rf.predict(X_test)\n",
    "rmse_rf_preopt = np.sqrt(mean_squared_error(y_test, rf_pred))\n",
    "print(\"RMSE : % f\" %(rmse_rf_preopt))"
   ]
  },
  {
   "cell_type": "code",
   "execution_count": 71,
   "metadata": {},
   "outputs": [],
   "source": [
    "n_est = [int(n) for n in np.logspace(start=1, stop=3, num=20)]\n",
    "grid_params = {\n",
    "        'n_estimators': n_est,\n",
    "        'max_depth': [1, 2, 3,4,5, 6,7,8,9, 10, None]\n",
    "}\n",
    "\n",
    "rf_random_cv = RandomizedSearchCV(rf, param_distributions=grid_params, cv=5, n_jobs=-1)"
   ]
  },
  {
   "cell_type": "code",
   "execution_count": 72,
   "metadata": {},
   "outputs": [],
   "source": [
    "from sklearn.utils import parallel_backend\n",
    "\n",
    "with parallel_backend('threading'):\n",
    "    rf_random_cv.fit(X_train, y_train)"
   ]
  },
  {
   "cell_type": "code",
   "execution_count": 73,
   "metadata": {},
   "outputs": [
    {
     "data": {
      "text/plain": [
       "{'n_estimators': 69, 'max_depth': 7}"
      ]
     },
     "execution_count": 73,
     "metadata": {},
     "output_type": "execute_result"
    }
   ],
   "source": [
    "rf_random_cv.best_params_"
   ]
  },
  {
   "cell_type": "code",
   "execution_count": 74,
   "metadata": {},
   "outputs": [
    {
     "data": {
      "text/plain": [
       "0.22285029296415215"
      ]
     },
     "execution_count": 74,
     "metadata": {},
     "output_type": "execute_result"
    }
   ],
   "source": [
    "rf = RandomForestRegressor(n_estimators=69, max_depth=7)\n",
    "rf.fit(X_train, y_train)\n",
    "rf.score(X_train, y_train)"
   ]
  },
  {
   "cell_type": "code",
   "execution_count": 75,
   "metadata": {},
   "outputs": [
    {
     "data": {
      "text/plain": [
       "array([0.05881422, 0.11527452, 0.0923009 , 0.08372498, 0.06403467])"
      ]
     },
     "execution_count": 75,
     "metadata": {},
     "output_type": "execute_result"
    }
   ],
   "source": [
    "rf_cv = cross_validate(rf, X_train, y_train, cv=5)\n",
    "rf_cv_scores = rf_cv['test_score']\n",
    "rf_cv_scores"
   ]
  },
  {
   "cell_type": "code",
   "execution_count": 76,
   "metadata": {},
   "outputs": [
    {
     "data": {
      "text/plain": [
       "(0.0828298577130411, 0.02036255116263096)"
      ]
     },
     "execution_count": 76,
     "metadata": {},
     "output_type": "execute_result"
    }
   ],
   "source": [
    "np.mean(rf_cv['test_score']), np.std(rf_cv['test_score'])"
   ]
  },
  {
   "cell_type": "code",
   "execution_count": 77,
   "metadata": {},
   "outputs": [
    {
     "name": "stdout",
     "output_type": "stream",
     "text": [
      "RMSE :  0.957554\n"
     ]
    }
   ],
   "source": [
    "rf_pred = rf.predict(X_test)\n",
    "rmse_rf = np.sqrt(mean_squared_error(y_test, rf_pred))\n",
    "print(\"RMSE : % f\" %(rmse_rf))"
   ]
  },
  {
   "cell_type": "markdown",
   "metadata": {},
   "source": [
    "### GradientBoostingRegressor"
   ]
  },
  {
   "cell_type": "code",
   "execution_count": 78,
   "metadata": {},
   "outputs": [
    {
     "data": {
      "text/plain": [
       "0.16057548120350285"
      ]
     },
     "execution_count": 78,
     "metadata": {},
     "output_type": "execute_result"
    }
   ],
   "source": [
    "gb = GradientBoostingRegressor()\n",
    "gb.fit(X_train, y_train)\n",
    "gb.score(X_train, y_train)"
   ]
  },
  {
   "cell_type": "code",
   "execution_count": 79,
   "metadata": {},
   "outputs": [
    {
     "data": {
      "text/plain": [
       "array([0.10367682, 0.12925761, 0.09639947, 0.09612816, 0.07504663])"
      ]
     },
     "execution_count": 79,
     "metadata": {},
     "output_type": "execute_result"
    }
   ],
   "source": [
    "gb_cv = cross_validate(gb, X_train, y_train, cv=5)\n",
    "gb_cv_scores_preopt = gb_cv['test_score']\n",
    "gb_cv_scores_preopt"
   ]
  },
  {
   "cell_type": "code",
   "execution_count": 80,
   "metadata": {},
   "outputs": [
    {
     "data": {
      "text/plain": [
       "(0.10010173643521328, 0.01743617339603471)"
      ]
     },
     "execution_count": 80,
     "metadata": {},
     "output_type": "execute_result"
    }
   ],
   "source": [
    "np.mean(gb_cv_scores_preopt), np.std(gb_cv_scores_preopt)"
   ]
  },
  {
   "cell_type": "code",
   "execution_count": 81,
   "metadata": {},
   "outputs": [
    {
     "name": "stdout",
     "output_type": "stream",
     "text": [
      "RMSE :  0.947903\n"
     ]
    }
   ],
   "source": [
    "gb_pred = gb.predict(X_test)\n",
    "rmse_gb_preopt = np.sqrt(mean_squared_error(y_test, gb_pred))\n",
    "print(\"RMSE : % f\" %(rmse_gb_preopt))"
   ]
  },
  {
   "cell_type": "code",
   "execution_count": 96,
   "metadata": {},
   "outputs": [],
   "source": [
    "n_est = [int(n) for n in np.logspace(start=1, stop=3, num=20)]\n",
    "grid_params = {\n",
    "        'learning_rate': [.001, .01, .1, 1, 10],\n",
    "        'n_estimators': n_est,\n",
    "        'max_depth': [1, 2, 3, 4, 5, 6, 7, 8, 9, 10, None]\n",
    "}\n",
    "\n",
    "gb_random_cv = RandomizedSearchCV(gb, param_distributions=grid_params, cv=5, n_jobs=-1)"
   ]
  },
  {
   "cell_type": "code",
   "execution_count": 97,
   "metadata": {},
   "outputs": [
    {
     "name": "stderr",
     "output_type": "stream",
     "text": [
      "/opt/anaconda3/lib/python3.8/site-packages/numpy/core/fromnumeric.py:90: RuntimeWarning: overflow encountered in reduce\n",
      "  return ufunc.reduce(obj, axis, dtype, out, **passkwargs)\n",
      "/opt/anaconda3/lib/python3.8/site-packages/numpy/core/fromnumeric.py:90: RuntimeWarning: overflow encountered in reduce\n",
      "  return ufunc.reduce(obj, axis, dtype, out, **passkwargs)\n",
      "/opt/anaconda3/lib/python3.8/site-packages/numpy/core/fromnumeric.py:90: RuntimeWarning: overflow encountered in reduce\n",
      "  return ufunc.reduce(obj, axis, dtype, out, **passkwargs)\n",
      "/opt/anaconda3/lib/python3.8/site-packages/sklearn/ensemble/_gb_losses.py:211: RuntimeWarning: overflow encountered in square\n",
      "  sample_weight * ((y - raw_predictions.ravel()) ** 2)))\n",
      "/opt/anaconda3/lib/python3.8/site-packages/numpy/core/fromnumeric.py:90: RuntimeWarning: overflow encountered in reduce\n",
      "  return ufunc.reduce(obj, axis, dtype, out, **passkwargs)\n",
      "/opt/anaconda3/lib/python3.8/site-packages/sklearn/ensemble/_gb_losses.py:211: RuntimeWarning: overflow encountered in square\n",
      "  sample_weight * ((y - raw_predictions.ravel()) ** 2)))\n",
      "/opt/anaconda3/lib/python3.8/site-packages/numpy/core/fromnumeric.py:90: RuntimeWarning: overflow encountered in reduce\n",
      "  return ufunc.reduce(obj, axis, dtype, out, **passkwargs)\n",
      "/opt/anaconda3/lib/python3.8/site-packages/sklearn/ensemble/_gb_losses.py:211: RuntimeWarning: overflow encountered in square\n",
      "  sample_weight * ((y - raw_predictions.ravel()) ** 2)))\n",
      "/opt/anaconda3/lib/python3.8/site-packages/numpy/core/fromnumeric.py:90: RuntimeWarning: overflow encountered in reduce\n",
      "  return ufunc.reduce(obj, axis, dtype, out, **passkwargs)\n",
      "/opt/anaconda3/lib/python3.8/site-packages/sklearn/ensemble/_gb_losses.py:211: RuntimeWarning: overflow encountered in square\n",
      "  sample_weight * ((y - raw_predictions.ravel()) ** 2)))\n",
      "/opt/anaconda3/lib/python3.8/site-packages/numpy/core/fromnumeric.py:90: RuntimeWarning: overflow encountered in reduce\n",
      "  return ufunc.reduce(obj, axis, dtype, out, **passkwargs)\n",
      "/opt/anaconda3/lib/python3.8/site-packages/sklearn/ensemble/_gb_losses.py:211: RuntimeWarning: overflow encountered in square\n",
      "  sample_weight * ((y - raw_predictions.ravel()) ** 2)))\n",
      "/opt/anaconda3/lib/python3.8/site-packages/sklearn/ensemble/_gb_losses.py:211: RuntimeWarning: overflow encountered in square\n",
      "  sample_weight * ((y - raw_predictions.ravel()) ** 2)))\n",
      "/opt/anaconda3/lib/python3.8/site-packages/sklearn/ensemble/_gb_losses.py:211: RuntimeWarning: overflow encountered in square\n",
      "  sample_weight * ((y - raw_predictions.ravel()) ** 2)))\n",
      "/opt/anaconda3/lib/python3.8/site-packages/sklearn/ensemble/_gb_losses.py:211: RuntimeWarning: overflow encountered in square\n",
      "  sample_weight * ((y - raw_predictions.ravel()) ** 2)))\n",
      "/opt/anaconda3/lib/python3.8/site-packages/sklearn/ensemble/_gb_losses.py:211: RuntimeWarning: overflow encountered in square\n",
      "  sample_weight * ((y - raw_predictions.ravel()) ** 2)))\n",
      "/opt/anaconda3/lib/python3.8/site-packages/sklearn/ensemble/_gb_losses.py:211: RuntimeWarning: overflow encountered in square\n",
      "  sample_weight * ((y - raw_predictions.ravel()) ** 2)))\n",
      "/opt/anaconda3/lib/python3.8/site-packages/sklearn/ensemble/_gb_losses.py:211: RuntimeWarning: overflow encountered in square\n",
      "  sample_weight * ((y - raw_predictions.ravel()) ** 2)))\n",
      "/opt/anaconda3/lib/python3.8/site-packages/sklearn/ensemble/_gb_losses.py:211: RuntimeWarning: overflow encountered in square\n",
      "  sample_weight * ((y - raw_predictions.ravel()) ** 2)))\n",
      "/opt/anaconda3/lib/python3.8/site-packages/numpy/core/fromnumeric.py:90: RuntimeWarning: overflow encountered in reduce\n",
      "  return ufunc.reduce(obj, axis, dtype, out, **passkwargs)\n",
      "/opt/anaconda3/lib/python3.8/site-packages/sklearn/ensemble/_gb_losses.py:211: RuntimeWarning: overflow encountered in square\n",
      "  sample_weight * ((y - raw_predictions.ravel()) ** 2)))\n",
      "/opt/anaconda3/lib/python3.8/site-packages/numpy/core/fromnumeric.py:90: RuntimeWarning: overflow encountered in reduce\n",
      "  return ufunc.reduce(obj, axis, dtype, out, **passkwargs)\n",
      "/opt/anaconda3/lib/python3.8/site-packages/sklearn/ensemble/_gb_losses.py:211: RuntimeWarning: overflow encountered in square\n",
      "  sample_weight * ((y - raw_predictions.ravel()) ** 2)))\n",
      "/opt/anaconda3/lib/python3.8/site-packages/sklearn/ensemble/_gb_losses.py:211: RuntimeWarning: overflow encountered in square\n",
      "  sample_weight * ((y - raw_predictions.ravel()) ** 2)))\n",
      "/opt/anaconda3/lib/python3.8/site-packages/numpy/core/fromnumeric.py:90: RuntimeWarning: overflow encountered in reduce\n",
      "  return ufunc.reduce(obj, axis, dtype, out, **passkwargs)\n",
      "/opt/anaconda3/lib/python3.8/site-packages/sklearn/ensemble/_gb_losses.py:211: RuntimeWarning: overflow encountered in square\n",
      "  sample_weight * ((y - raw_predictions.ravel()) ** 2)))\n",
      "/opt/anaconda3/lib/python3.8/site-packages/sklearn/ensemble/_gb_losses.py:211: RuntimeWarning: overflow encountered in square\n",
      "  sample_weight * ((y - raw_predictions.ravel()) ** 2)))\n",
      "/opt/anaconda3/lib/python3.8/site-packages/numpy/core/fromnumeric.py:90: RuntimeWarning: overflow encountered in reduce\n",
      "  return ufunc.reduce(obj, axis, dtype, out, **passkwargs)\n",
      "/opt/anaconda3/lib/python3.8/site-packages/sklearn/ensemble/_gb_losses.py:211: RuntimeWarning: overflow encountered in square\n",
      "  sample_weight * ((y - raw_predictions.ravel()) ** 2)))\n",
      "/opt/anaconda3/lib/python3.8/site-packages/sklearn/ensemble/_gb_losses.py:211: RuntimeWarning: overflow encountered in square\n",
      "  sample_weight * ((y - raw_predictions.ravel()) ** 2)))\n",
      "/opt/anaconda3/lib/python3.8/site-packages/sklearn/ensemble/_gb_losses.py:211: RuntimeWarning: overflow encountered in square\n",
      "  sample_weight * ((y - raw_predictions.ravel()) ** 2)))\n",
      "/opt/anaconda3/lib/python3.8/site-packages/sklearn/ensemble/_gb_losses.py:211: RuntimeWarning: overflow encountered in square\n",
      "  sample_weight * ((y - raw_predictions.ravel()) ** 2)))\n",
      "/opt/anaconda3/lib/python3.8/site-packages/sklearn/ensemble/_gb_losses.py:211: RuntimeWarning: overflow encountered in square\n",
      "  sample_weight * ((y - raw_predictions.ravel()) ** 2)))\n",
      "/opt/anaconda3/lib/python3.8/site-packages/sklearn/ensemble/_gb_losses.py:211: RuntimeWarning: overflow encountered in square\n",
      "  sample_weight * ((y - raw_predictions.ravel()) ** 2)))\n",
      "/opt/anaconda3/lib/python3.8/site-packages/sklearn/ensemble/_gb_losses.py:211: RuntimeWarning: overflow encountered in square\n",
      "  sample_weight * ((y - raw_predictions.ravel()) ** 2)))\n",
      "/opt/anaconda3/lib/python3.8/site-packages/sklearn/ensemble/_gb_losses.py:211: RuntimeWarning: overflow encountered in square\n",
      "  sample_weight * ((y - raw_predictions.ravel()) ** 2)))\n",
      "/opt/anaconda3/lib/python3.8/site-packages/sklearn/ensemble/_gb_losses.py:211: RuntimeWarning: overflow encountered in square\n",
      "  sample_weight * ((y - raw_predictions.ravel()) ** 2)))\n",
      "/opt/anaconda3/lib/python3.8/site-packages/sklearn/ensemble/_gb_losses.py:211: RuntimeWarning: overflow encountered in square\n",
      "  sample_weight * ((y - raw_predictions.ravel()) ** 2)))\n",
      "/opt/anaconda3/lib/python3.8/site-packages/sklearn/ensemble/_gb_losses.py:211: RuntimeWarning: overflow encountered in square\n",
      "  sample_weight * ((y - raw_predictions.ravel()) ** 2)))\n",
      "/opt/anaconda3/lib/python3.8/site-packages/sklearn/ensemble/_gb_losses.py:211: RuntimeWarning: overflow encountered in square\n",
      "  sample_weight * ((y - raw_predictions.ravel()) ** 2)))\n",
      "/opt/anaconda3/lib/python3.8/site-packages/sklearn/ensemble/_gb_losses.py:211: RuntimeWarning: overflow encountered in square\n",
      "  sample_weight * ((y - raw_predictions.ravel()) ** 2)))\n",
      "/opt/anaconda3/lib/python3.8/site-packages/sklearn/ensemble/_gb_losses.py:211: RuntimeWarning: overflow encountered in square\n",
      "  sample_weight * ((y - raw_predictions.ravel()) ** 2)))\n",
      "/opt/anaconda3/lib/python3.8/site-packages/sklearn/ensemble/_gb_losses.py:211: RuntimeWarning: overflow encountered in square\n",
      "  sample_weight * ((y - raw_predictions.ravel()) ** 2)))\n",
      "/opt/anaconda3/lib/python3.8/site-packages/sklearn/ensemble/_gb_losses.py:211: RuntimeWarning: overflow encountered in square\n",
      "  sample_weight * ((y - raw_predictions.ravel()) ** 2)))\n",
      "/opt/anaconda3/lib/python3.8/site-packages/sklearn/ensemble/_gb_losses.py:211: RuntimeWarning: overflow encountered in square\n",
      "  sample_weight * ((y - raw_predictions.ravel()) ** 2)))\n",
      "/opt/anaconda3/lib/python3.8/site-packages/numpy/core/fromnumeric.py:90: RuntimeWarning: overflow encountered in reduce\n",
      "  return ufunc.reduce(obj, axis, dtype, out, **passkwargs)\n",
      "/opt/anaconda3/lib/python3.8/site-packages/sklearn/ensemble/_gb_losses.py:211: RuntimeWarning: overflow encountered in square\n",
      "  sample_weight * ((y - raw_predictions.ravel()) ** 2)))\n",
      "/opt/anaconda3/lib/python3.8/site-packages/sklearn/ensemble/_gb_losses.py:211: RuntimeWarning: overflow encountered in square\n",
      "  sample_weight * ((y - raw_predictions.ravel()) ** 2)))\n",
      "/opt/anaconda3/lib/python3.8/site-packages/numpy/core/fromnumeric.py:90: RuntimeWarning: overflow encountered in reduce\n",
      "  return ufunc.reduce(obj, axis, dtype, out, **passkwargs)\n",
      "/opt/anaconda3/lib/python3.8/site-packages/sklearn/ensemble/_gb_losses.py:211: RuntimeWarning: overflow encountered in square\n",
      "  sample_weight * ((y - raw_predictions.ravel()) ** 2)))\n",
      "/opt/anaconda3/lib/python3.8/site-packages/sklearn/ensemble/_gb_losses.py:211: RuntimeWarning: overflow encountered in square\n",
      "  sample_weight * ((y - raw_predictions.ravel()) ** 2)))\n",
      "/opt/anaconda3/lib/python3.8/site-packages/sklearn/ensemble/_gb_losses.py:211: RuntimeWarning: overflow encountered in square\n",
      "  sample_weight * ((y - raw_predictions.ravel()) ** 2)))\n",
      "/opt/anaconda3/lib/python3.8/site-packages/sklearn/ensemble/_gb_losses.py:211: RuntimeWarning: overflow encountered in square\n",
      "  sample_weight * ((y - raw_predictions.ravel()) ** 2)))\n",
      "/opt/anaconda3/lib/python3.8/site-packages/numpy/core/fromnumeric.py:90: RuntimeWarning: overflow encountered in reduce\n",
      "  return ufunc.reduce(obj, axis, dtype, out, **passkwargs)\n",
      "/opt/anaconda3/lib/python3.8/site-packages/sklearn/ensemble/_gb_losses.py:211: RuntimeWarning: overflow encountered in square\n",
      "  sample_weight * ((y - raw_predictions.ravel()) ** 2)))\n",
      "/opt/anaconda3/lib/python3.8/site-packages/sklearn/ensemble/_gb_losses.py:211: RuntimeWarning: overflow encountered in square\n",
      "  sample_weight * ((y - raw_predictions.ravel()) ** 2)))\n",
      "/opt/anaconda3/lib/python3.8/site-packages/sklearn/ensemble/_gb_losses.py:211: RuntimeWarning: overflow encountered in square\n",
      "  sample_weight * ((y - raw_predictions.ravel()) ** 2)))\n",
      "/opt/anaconda3/lib/python3.8/site-packages/sklearn/ensemble/_gb_losses.py:211: RuntimeWarning: overflow encountered in square\n",
      "  sample_weight * ((y - raw_predictions.ravel()) ** 2)))\n",
      "/opt/anaconda3/lib/python3.8/site-packages/sklearn/ensemble/_gb_losses.py:211: RuntimeWarning: overflow encountered in square\n",
      "  sample_weight * ((y - raw_predictions.ravel()) ** 2)))\n",
      "/opt/anaconda3/lib/python3.8/site-packages/sklearn/ensemble/_gb_losses.py:211: RuntimeWarning: overflow encountered in square\n",
      "  sample_weight * ((y - raw_predictions.ravel()) ** 2)))\n",
      "/opt/anaconda3/lib/python3.8/site-packages/sklearn/ensemble/_gb_losses.py:211: RuntimeWarning: overflow encountered in square\n",
      "  sample_weight * ((y - raw_predictions.ravel()) ** 2)))\n",
      "/opt/anaconda3/lib/python3.8/site-packages/numpy/core/fromnumeric.py:90: RuntimeWarning: overflow encountered in reduce\n",
      "  return ufunc.reduce(obj, axis, dtype, out, **passkwargs)\n",
      "/opt/anaconda3/lib/python3.8/site-packages/sklearn/ensemble/_gb_losses.py:211: RuntimeWarning: overflow encountered in square\n",
      "  sample_weight * ((y - raw_predictions.ravel()) ** 2)))\n",
      "/opt/anaconda3/lib/python3.8/site-packages/sklearn/ensemble/_gb_losses.py:211: RuntimeWarning: overflow encountered in square\n",
      "  sample_weight * ((y - raw_predictions.ravel()) ** 2)))\n",
      "/opt/anaconda3/lib/python3.8/site-packages/sklearn/ensemble/_gb_losses.py:211: RuntimeWarning: overflow encountered in square\n",
      "  sample_weight * ((y - raw_predictions.ravel()) ** 2)))\n",
      "/opt/anaconda3/lib/python3.8/site-packages/sklearn/ensemble/_gb_losses.py:211: RuntimeWarning: overflow encountered in square\n",
      "  sample_weight * ((y - raw_predictions.ravel()) ** 2)))\n",
      "/opt/anaconda3/lib/python3.8/site-packages/sklearn/ensemble/_gb_losses.py:211: RuntimeWarning: overflow encountered in square\n",
      "  sample_weight * ((y - raw_predictions.ravel()) ** 2)))\n",
      "/opt/anaconda3/lib/python3.8/site-packages/sklearn/ensemble/_gb_losses.py:211: RuntimeWarning: overflow encountered in square\n",
      "  sample_weight * ((y - raw_predictions.ravel()) ** 2)))\n",
      "/opt/anaconda3/lib/python3.8/site-packages/sklearn/ensemble/_gb_losses.py:211: RuntimeWarning: overflow encountered in square\n",
      "  sample_weight * ((y - raw_predictions.ravel()) ** 2)))\n",
      "/opt/anaconda3/lib/python3.8/site-packages/sklearn/ensemble/_gb_losses.py:211: RuntimeWarning: overflow encountered in square\n",
      "  sample_weight * ((y - raw_predictions.ravel()) ** 2)))\n",
      "/opt/anaconda3/lib/python3.8/site-packages/sklearn/ensemble/_gb_losses.py:211: RuntimeWarning: overflow encountered in square\n",
      "  sample_weight * ((y - raw_predictions.ravel()) ** 2)))\n",
      "/opt/anaconda3/lib/python3.8/site-packages/sklearn/ensemble/_gb_losses.py:211: RuntimeWarning: overflow encountered in square\n",
      "  sample_weight * ((y - raw_predictions.ravel()) ** 2)))\n",
      "/opt/anaconda3/lib/python3.8/site-packages/sklearn/ensemble/_gb_losses.py:211: RuntimeWarning: overflow encountered in square\n",
      "  sample_weight * ((y - raw_predictions.ravel()) ** 2)))\n",
      "/opt/anaconda3/lib/python3.8/site-packages/sklearn/ensemble/_gb_losses.py:211: RuntimeWarning: overflow encountered in square\n",
      "  sample_weight * ((y - raw_predictions.ravel()) ** 2)))\n",
      "/opt/anaconda3/lib/python3.8/site-packages/sklearn/ensemble/_gb_losses.py:211: RuntimeWarning: overflow encountered in square\n",
      "  sample_weight * ((y - raw_predictions.ravel()) ** 2)))\n",
      "/opt/anaconda3/lib/python3.8/site-packages/sklearn/ensemble/_gb_losses.py:211: RuntimeWarning: overflow encountered in square\n",
      "  sample_weight * ((y - raw_predictions.ravel()) ** 2)))\n",
      "/opt/anaconda3/lib/python3.8/site-packages/sklearn/ensemble/_gb_losses.py:211: RuntimeWarning: overflow encountered in square\n",
      "  sample_weight * ((y - raw_predictions.ravel()) ** 2)))\n",
      "/opt/anaconda3/lib/python3.8/site-packages/sklearn/ensemble/_gb_losses.py:211: RuntimeWarning: overflow encountered in square\n",
      "  sample_weight * ((y - raw_predictions.ravel()) ** 2)))\n",
      "/opt/anaconda3/lib/python3.8/site-packages/sklearn/ensemble/_gb_losses.py:211: RuntimeWarning: overflow encountered in square\n",
      "  sample_weight * ((y - raw_predictions.ravel()) ** 2)))\n",
      "/opt/anaconda3/lib/python3.8/site-packages/sklearn/ensemble/_gb_losses.py:211: RuntimeWarning: overflow encountered in square\n",
      "  sample_weight * ((y - raw_predictions.ravel()) ** 2)))\n",
      "/opt/anaconda3/lib/python3.8/site-packages/sklearn/ensemble/_gb_losses.py:211: RuntimeWarning: overflow encountered in square\n",
      "  sample_weight * ((y - raw_predictions.ravel()) ** 2)))\n",
      "/opt/anaconda3/lib/python3.8/site-packages/sklearn/ensemble/_gb_losses.py:211: RuntimeWarning: overflow encountered in square\n",
      "  sample_weight * ((y - raw_predictions.ravel()) ** 2)))\n",
      "/opt/anaconda3/lib/python3.8/site-packages/sklearn/ensemble/_gb_losses.py:211: RuntimeWarning: overflow encountered in square\n",
      "  sample_weight * ((y - raw_predictions.ravel()) ** 2)))\n",
      "/opt/anaconda3/lib/python3.8/site-packages/sklearn/ensemble/_gb_losses.py:211: RuntimeWarning: overflow encountered in square\n",
      "  sample_weight * ((y - raw_predictions.ravel()) ** 2)))\n",
      "/opt/anaconda3/lib/python3.8/site-packages/sklearn/ensemble/_gb_losses.py:211: RuntimeWarning: overflow encountered in square\n",
      "  sample_weight * ((y - raw_predictions.ravel()) ** 2)))\n",
      "/opt/anaconda3/lib/python3.8/site-packages/sklearn/ensemble/_gb_losses.py:211: RuntimeWarning: overflow encountered in square\n",
      "  sample_weight * ((y - raw_predictions.ravel()) ** 2)))\n",
      "/opt/anaconda3/lib/python3.8/site-packages/sklearn/ensemble/_gb_losses.py:211: RuntimeWarning: overflow encountered in square\n",
      "  sample_weight * ((y - raw_predictions.ravel()) ** 2)))\n",
      "/opt/anaconda3/lib/python3.8/site-packages/sklearn/ensemble/_gb_losses.py:211: RuntimeWarning: overflow encountered in square\n",
      "  sample_weight * ((y - raw_predictions.ravel()) ** 2)))\n",
      "/opt/anaconda3/lib/python3.8/site-packages/sklearn/ensemble/_gb_losses.py:211: RuntimeWarning: overflow encountered in square\n",
      "  sample_weight * ((y - raw_predictions.ravel()) ** 2)))\n"
     ]
    },
    {
     "name": "stderr",
     "output_type": "stream",
     "text": [
      "/opt/anaconda3/lib/python3.8/site-packages/sklearn/ensemble/_gb_losses.py:211: RuntimeWarning: overflow encountered in square\n",
      "  sample_weight * ((y - raw_predictions.ravel()) ** 2)))\n",
      "/opt/anaconda3/lib/python3.8/site-packages/sklearn/ensemble/_gb_losses.py:211: RuntimeWarning: overflow encountered in square\n",
      "  sample_weight * ((y - raw_predictions.ravel()) ** 2)))\n",
      "/opt/anaconda3/lib/python3.8/site-packages/sklearn/ensemble/_gb_losses.py:211: RuntimeWarning: overflow encountered in square\n",
      "  sample_weight * ((y - raw_predictions.ravel()) ** 2)))\n",
      "/opt/anaconda3/lib/python3.8/site-packages/sklearn/ensemble/_gb_losses.py:211: RuntimeWarning: overflow encountered in square\n",
      "  sample_weight * ((y - raw_predictions.ravel()) ** 2)))\n",
      "/opt/anaconda3/lib/python3.8/site-packages/sklearn/ensemble/_gb_losses.py:211: RuntimeWarning: overflow encountered in square\n",
      "  sample_weight * ((y - raw_predictions.ravel()) ** 2)))\n",
      "/opt/anaconda3/lib/python3.8/site-packages/sklearn/ensemble/_gb_losses.py:211: RuntimeWarning: overflow encountered in square\n",
      "  sample_weight * ((y - raw_predictions.ravel()) ** 2)))\n",
      "/opt/anaconda3/lib/python3.8/site-packages/sklearn/ensemble/_gb_losses.py:211: RuntimeWarning: overflow encountered in square\n",
      "  sample_weight * ((y - raw_predictions.ravel()) ** 2)))\n",
      "/opt/anaconda3/lib/python3.8/site-packages/sklearn/ensemble/_gb_losses.py:211: RuntimeWarning: overflow encountered in square\n",
      "  sample_weight * ((y - raw_predictions.ravel()) ** 2)))\n",
      "/opt/anaconda3/lib/python3.8/site-packages/sklearn/ensemble/_gb_losses.py:211: RuntimeWarning: overflow encountered in square\n",
      "  sample_weight * ((y - raw_predictions.ravel()) ** 2)))\n",
      "/opt/anaconda3/lib/python3.8/site-packages/sklearn/ensemble/_gb_losses.py:211: RuntimeWarning: overflow encountered in square\n",
      "  sample_weight * ((y - raw_predictions.ravel()) ** 2)))\n",
      "/opt/anaconda3/lib/python3.8/site-packages/sklearn/ensemble/_gb_losses.py:211: RuntimeWarning: overflow encountered in square\n",
      "  sample_weight * ((y - raw_predictions.ravel()) ** 2)))\n",
      "/opt/anaconda3/lib/python3.8/site-packages/sklearn/ensemble/_gb_losses.py:211: RuntimeWarning: overflow encountered in square\n",
      "  sample_weight * ((y - raw_predictions.ravel()) ** 2)))\n",
      "/opt/anaconda3/lib/python3.8/site-packages/sklearn/ensemble/_gb_losses.py:211: RuntimeWarning: overflow encountered in square\n",
      "  sample_weight * ((y - raw_predictions.ravel()) ** 2)))\n",
      "/opt/anaconda3/lib/python3.8/site-packages/sklearn/ensemble/_gb_losses.py:211: RuntimeWarning: overflow encountered in square\n",
      "  sample_weight * ((y - raw_predictions.ravel()) ** 2)))\n",
      "/opt/anaconda3/lib/python3.8/site-packages/sklearn/ensemble/_gb_losses.py:211: RuntimeWarning: overflow encountered in square\n",
      "  sample_weight * ((y - raw_predictions.ravel()) ** 2)))\n",
      "/opt/anaconda3/lib/python3.8/site-packages/sklearn/ensemble/_gb_losses.py:211: RuntimeWarning: overflow encountered in square\n",
      "  sample_weight * ((y - raw_predictions.ravel()) ** 2)))\n",
      "/opt/anaconda3/lib/python3.8/site-packages/sklearn/ensemble/_gb_losses.py:211: RuntimeWarning: overflow encountered in square\n",
      "  sample_weight * ((y - raw_predictions.ravel()) ** 2)))\n",
      "/opt/anaconda3/lib/python3.8/site-packages/sklearn/ensemble/_gb_losses.py:211: RuntimeWarning: overflow encountered in square\n",
      "  sample_weight * ((y - raw_predictions.ravel()) ** 2)))\n",
      "/opt/anaconda3/lib/python3.8/site-packages/sklearn/ensemble/_gb_losses.py:211: RuntimeWarning: overflow encountered in square\n",
      "  sample_weight * ((y - raw_predictions.ravel()) ** 2)))\n",
      "/opt/anaconda3/lib/python3.8/site-packages/sklearn/ensemble/_gb_losses.py:211: RuntimeWarning: overflow encountered in square\n",
      "  sample_weight * ((y - raw_predictions.ravel()) ** 2)))\n",
      "/opt/anaconda3/lib/python3.8/site-packages/sklearn/ensemble/_gb_losses.py:211: RuntimeWarning: overflow encountered in square\n",
      "  sample_weight * ((y - raw_predictions.ravel()) ** 2)))\n",
      "/opt/anaconda3/lib/python3.8/site-packages/sklearn/ensemble/_gb_losses.py:211: RuntimeWarning: overflow encountered in square\n",
      "  sample_weight * ((y - raw_predictions.ravel()) ** 2)))\n",
      "/opt/anaconda3/lib/python3.8/site-packages/sklearn/ensemble/_gb_losses.py:211: RuntimeWarning: overflow encountered in square\n",
      "  sample_weight * ((y - raw_predictions.ravel()) ** 2)))\n",
      "/opt/anaconda3/lib/python3.8/site-packages/sklearn/ensemble/_gb_losses.py:211: RuntimeWarning: overflow encountered in square\n",
      "  sample_weight * ((y - raw_predictions.ravel()) ** 2)))\n",
      "/opt/anaconda3/lib/python3.8/site-packages/sklearn/ensemble/_gb_losses.py:211: RuntimeWarning: overflow encountered in square\n",
      "  sample_weight * ((y - raw_predictions.ravel()) ** 2)))\n",
      "/opt/anaconda3/lib/python3.8/site-packages/sklearn/ensemble/_gb_losses.py:211: RuntimeWarning: overflow encountered in square\n",
      "  sample_weight * ((y - raw_predictions.ravel()) ** 2)))\n",
      "/opt/anaconda3/lib/python3.8/site-packages/sklearn/ensemble/_gb_losses.py:211: RuntimeWarning: overflow encountered in square\n",
      "  sample_weight * ((y - raw_predictions.ravel()) ** 2)))\n",
      "/opt/anaconda3/lib/python3.8/site-packages/sklearn/ensemble/_gb_losses.py:211: RuntimeWarning: overflow encountered in square\n",
      "  sample_weight * ((y - raw_predictions.ravel()) ** 2)))\n",
      "/opt/anaconda3/lib/python3.8/site-packages/sklearn/ensemble/_gb_losses.py:211: RuntimeWarning: overflow encountered in square\n",
      "  sample_weight * ((y - raw_predictions.ravel()) ** 2)))\n",
      "/opt/anaconda3/lib/python3.8/site-packages/sklearn/ensemble/_gb_losses.py:211: RuntimeWarning: overflow encountered in square\n",
      "  sample_weight * ((y - raw_predictions.ravel()) ** 2)))\n",
      "/opt/anaconda3/lib/python3.8/site-packages/sklearn/ensemble/_gb_losses.py:211: RuntimeWarning: overflow encountered in square\n",
      "  sample_weight * ((y - raw_predictions.ravel()) ** 2)))\n",
      "/opt/anaconda3/lib/python3.8/site-packages/sklearn/ensemble/_gb_losses.py:211: RuntimeWarning: overflow encountered in square\n",
      "  sample_weight * ((y - raw_predictions.ravel()) ** 2)))\n",
      "/opt/anaconda3/lib/python3.8/site-packages/sklearn/ensemble/_gb_losses.py:211: RuntimeWarning: overflow encountered in square\n",
      "  sample_weight * ((y - raw_predictions.ravel()) ** 2)))\n",
      "/opt/anaconda3/lib/python3.8/site-packages/sklearn/ensemble/_gb_losses.py:211: RuntimeWarning: overflow encountered in square\n",
      "  sample_weight * ((y - raw_predictions.ravel()) ** 2)))\n",
      "/opt/anaconda3/lib/python3.8/site-packages/sklearn/ensemble/_gb_losses.py:211: RuntimeWarning: overflow encountered in square\n",
      "  sample_weight * ((y - raw_predictions.ravel()) ** 2)))\n",
      "/opt/anaconda3/lib/python3.8/site-packages/sklearn/ensemble/_gb_losses.py:211: RuntimeWarning: overflow encountered in square\n",
      "  sample_weight * ((y - raw_predictions.ravel()) ** 2)))\n",
      "/opt/anaconda3/lib/python3.8/site-packages/sklearn/ensemble/_gb_losses.py:211: RuntimeWarning: overflow encountered in square\n",
      "  sample_weight * ((y - raw_predictions.ravel()) ** 2)))\n",
      "/opt/anaconda3/lib/python3.8/site-packages/sklearn/ensemble/_gb_losses.py:211: RuntimeWarning: overflow encountered in square\n",
      "  sample_weight * ((y - raw_predictions.ravel()) ** 2)))\n",
      "/opt/anaconda3/lib/python3.8/site-packages/sklearn/ensemble/_gb_losses.py:211: RuntimeWarning: overflow encountered in square\n",
      "  sample_weight * ((y - raw_predictions.ravel()) ** 2)))\n",
      "/opt/anaconda3/lib/python3.8/site-packages/sklearn/ensemble/_gb_losses.py:211: RuntimeWarning: overflow encountered in square\n",
      "  sample_weight * ((y - raw_predictions.ravel()) ** 2)))\n",
      "/opt/anaconda3/lib/python3.8/site-packages/sklearn/ensemble/_gb_losses.py:211: RuntimeWarning: overflow encountered in square\n",
      "  sample_weight * ((y - raw_predictions.ravel()) ** 2)))\n",
      "/opt/anaconda3/lib/python3.8/site-packages/sklearn/ensemble/_gb_losses.py:211: RuntimeWarning: overflow encountered in square\n",
      "  sample_weight * ((y - raw_predictions.ravel()) ** 2)))\n",
      "/opt/anaconda3/lib/python3.8/site-packages/sklearn/ensemble/_gb_losses.py:211: RuntimeWarning: overflow encountered in square\n",
      "  sample_weight * ((y - raw_predictions.ravel()) ** 2)))\n",
      "/opt/anaconda3/lib/python3.8/site-packages/sklearn/ensemble/_gb_losses.py:211: RuntimeWarning: overflow encountered in square\n",
      "  sample_weight * ((y - raw_predictions.ravel()) ** 2)))\n",
      "/opt/anaconda3/lib/python3.8/site-packages/sklearn/ensemble/_gb_losses.py:211: RuntimeWarning: overflow encountered in square\n",
      "  sample_weight * ((y - raw_predictions.ravel()) ** 2)))\n",
      "/opt/anaconda3/lib/python3.8/site-packages/sklearn/ensemble/_gb_losses.py:211: RuntimeWarning: overflow encountered in square\n",
      "  sample_weight * ((y - raw_predictions.ravel()) ** 2)))\n",
      "/opt/anaconda3/lib/python3.8/site-packages/sklearn/ensemble/_gb_losses.py:211: RuntimeWarning: overflow encountered in square\n",
      "  sample_weight * ((y - raw_predictions.ravel()) ** 2)))\n",
      "/opt/anaconda3/lib/python3.8/site-packages/sklearn/ensemble/_gb_losses.py:211: RuntimeWarning: overflow encountered in square\n",
      "  sample_weight * ((y - raw_predictions.ravel()) ** 2)))\n",
      "/opt/anaconda3/lib/python3.8/site-packages/sklearn/ensemble/_gb_losses.py:211: RuntimeWarning: overflow encountered in square\n",
      "  sample_weight * ((y - raw_predictions.ravel()) ** 2)))\n",
      "/opt/anaconda3/lib/python3.8/site-packages/sklearn/ensemble/_gb_losses.py:211: RuntimeWarning: overflow encountered in square\n",
      "  sample_weight * ((y - raw_predictions.ravel()) ** 2)))\n",
      "/opt/anaconda3/lib/python3.8/site-packages/sklearn/ensemble/_gb_losses.py:211: RuntimeWarning: overflow encountered in square\n",
      "  sample_weight * ((y - raw_predictions.ravel()) ** 2)))\n",
      "/opt/anaconda3/lib/python3.8/site-packages/sklearn/ensemble/_gb_losses.py:211: RuntimeWarning: overflow encountered in square\n",
      "  sample_weight * ((y - raw_predictions.ravel()) ** 2)))\n",
      "/opt/anaconda3/lib/python3.8/site-packages/sklearn/ensemble/_gb_losses.py:211: RuntimeWarning: overflow encountered in square\n",
      "  sample_weight * ((y - raw_predictions.ravel()) ** 2)))\n",
      "/opt/anaconda3/lib/python3.8/site-packages/sklearn/ensemble/_gb_losses.py:211: RuntimeWarning: overflow encountered in square\n",
      "  sample_weight * ((y - raw_predictions.ravel()) ** 2)))\n",
      "/opt/anaconda3/lib/python3.8/site-packages/sklearn/ensemble/_gb_losses.py:211: RuntimeWarning: overflow encountered in square\n",
      "  sample_weight * ((y - raw_predictions.ravel()) ** 2)))\n",
      "/opt/anaconda3/lib/python3.8/site-packages/sklearn/ensemble/_gb_losses.py:211: RuntimeWarning: overflow encountered in square\n",
      "  sample_weight * ((y - raw_predictions.ravel()) ** 2)))\n",
      "/opt/anaconda3/lib/python3.8/site-packages/sklearn/ensemble/_gb_losses.py:211: RuntimeWarning: overflow encountered in square\n",
      "  sample_weight * ((y - raw_predictions.ravel()) ** 2)))\n",
      "/opt/anaconda3/lib/python3.8/site-packages/sklearn/ensemble/_gb_losses.py:211: RuntimeWarning: overflow encountered in square\n",
      "  sample_weight * ((y - raw_predictions.ravel()) ** 2)))\n",
      "/opt/anaconda3/lib/python3.8/site-packages/sklearn/ensemble/_gb_losses.py:211: RuntimeWarning: overflow encountered in square\n",
      "  sample_weight * ((y - raw_predictions.ravel()) ** 2)))\n",
      "/opt/anaconda3/lib/python3.8/site-packages/sklearn/ensemble/_gb_losses.py:211: RuntimeWarning: overflow encountered in square\n",
      "  sample_weight * ((y - raw_predictions.ravel()) ** 2)))\n",
      "/opt/anaconda3/lib/python3.8/site-packages/sklearn/ensemble/_gb_losses.py:211: RuntimeWarning: overflow encountered in square\n",
      "  sample_weight * ((y - raw_predictions.ravel()) ** 2)))\n",
      "/opt/anaconda3/lib/python3.8/site-packages/sklearn/ensemble/_gb_losses.py:211: RuntimeWarning: overflow encountered in square\n",
      "  sample_weight * ((y - raw_predictions.ravel()) ** 2)))\n",
      "/opt/anaconda3/lib/python3.8/site-packages/sklearn/ensemble/_gb_losses.py:211: RuntimeWarning: overflow encountered in square\n",
      "  sample_weight * ((y - raw_predictions.ravel()) ** 2)))\n",
      "/opt/anaconda3/lib/python3.8/site-packages/sklearn/ensemble/_gb_losses.py:211: RuntimeWarning: overflow encountered in square\n",
      "  sample_weight * ((y - raw_predictions.ravel()) ** 2)))\n",
      "/opt/anaconda3/lib/python3.8/site-packages/sklearn/ensemble/_gb_losses.py:211: RuntimeWarning: overflow encountered in square\n",
      "  sample_weight * ((y - raw_predictions.ravel()) ** 2)))\n",
      "/opt/anaconda3/lib/python3.8/site-packages/sklearn/ensemble/_gb_losses.py:211: RuntimeWarning: overflow encountered in square\n",
      "  sample_weight * ((y - raw_predictions.ravel()) ** 2)))\n",
      "/opt/anaconda3/lib/python3.8/site-packages/sklearn/ensemble/_gb_losses.py:211: RuntimeWarning: overflow encountered in square\n",
      "  sample_weight * ((y - raw_predictions.ravel()) ** 2)))\n",
      "/opt/anaconda3/lib/python3.8/site-packages/sklearn/ensemble/_gb_losses.py:211: RuntimeWarning: overflow encountered in square\n",
      "  sample_weight * ((y - raw_predictions.ravel()) ** 2)))\n",
      "/opt/anaconda3/lib/python3.8/site-packages/sklearn/ensemble/_gb_losses.py:211: RuntimeWarning: overflow encountered in square\n",
      "  sample_weight * ((y - raw_predictions.ravel()) ** 2)))\n",
      "/opt/anaconda3/lib/python3.8/site-packages/sklearn/ensemble/_gb_losses.py:211: RuntimeWarning: overflow encountered in square\n",
      "  sample_weight * ((y - raw_predictions.ravel()) ** 2)))\n",
      "/opt/anaconda3/lib/python3.8/site-packages/sklearn/ensemble/_gb_losses.py:211: RuntimeWarning: overflow encountered in square\n",
      "  sample_weight * ((y - raw_predictions.ravel()) ** 2)))\n",
      "/opt/anaconda3/lib/python3.8/site-packages/sklearn/ensemble/_gb_losses.py:211: RuntimeWarning: overflow encountered in square\n",
      "  sample_weight * ((y - raw_predictions.ravel()) ** 2)))\n",
      "/opt/anaconda3/lib/python3.8/site-packages/sklearn/ensemble/_gb_losses.py:211: RuntimeWarning: overflow encountered in square\n",
      "  sample_weight * ((y - raw_predictions.ravel()) ** 2)))\n",
      "/opt/anaconda3/lib/python3.8/site-packages/sklearn/ensemble/_gb_losses.py:211: RuntimeWarning: overflow encountered in square\n",
      "  sample_weight * ((y - raw_predictions.ravel()) ** 2)))\n",
      "/opt/anaconda3/lib/python3.8/site-packages/sklearn/ensemble/_gb_losses.py:211: RuntimeWarning: overflow encountered in square\n",
      "  sample_weight * ((y - raw_predictions.ravel()) ** 2)))\n",
      "/opt/anaconda3/lib/python3.8/site-packages/sklearn/ensemble/_gb_losses.py:211: RuntimeWarning: overflow encountered in square\n",
      "  sample_weight * ((y - raw_predictions.ravel()) ** 2)))\n",
      "/opt/anaconda3/lib/python3.8/site-packages/sklearn/ensemble/_gb_losses.py:211: RuntimeWarning: overflow encountered in square\n",
      "  sample_weight * ((y - raw_predictions.ravel()) ** 2)))\n",
      "/opt/anaconda3/lib/python3.8/site-packages/sklearn/ensemble/_gb_losses.py:211: RuntimeWarning: overflow encountered in square\n",
      "  sample_weight * ((y - raw_predictions.ravel()) ** 2)))\n",
      "/opt/anaconda3/lib/python3.8/site-packages/sklearn/ensemble/_gb_losses.py:211: RuntimeWarning: overflow encountered in square\n",
      "  sample_weight * ((y - raw_predictions.ravel()) ** 2)))\n",
      "/opt/anaconda3/lib/python3.8/site-packages/sklearn/ensemble/_gb_losses.py:211: RuntimeWarning: overflow encountered in square\n",
      "  sample_weight * ((y - raw_predictions.ravel()) ** 2)))\n",
      "/opt/anaconda3/lib/python3.8/site-packages/sklearn/ensemble/_gb_losses.py:211: RuntimeWarning: overflow encountered in square\n",
      "  sample_weight * ((y - raw_predictions.ravel()) ** 2)))\n",
      "/opt/anaconda3/lib/python3.8/site-packages/sklearn/ensemble/_gb_losses.py:211: RuntimeWarning: overflow encountered in square\n",
      "  sample_weight * ((y - raw_predictions.ravel()) ** 2)))\n",
      "/opt/anaconda3/lib/python3.8/site-packages/sklearn/ensemble/_gb_losses.py:211: RuntimeWarning: overflow encountered in square\n",
      "  sample_weight * ((y - raw_predictions.ravel()) ** 2)))\n",
      "/opt/anaconda3/lib/python3.8/site-packages/sklearn/ensemble/_gb_losses.py:211: RuntimeWarning: overflow encountered in square\n",
      "  sample_weight * ((y - raw_predictions.ravel()) ** 2)))\n",
      "/opt/anaconda3/lib/python3.8/site-packages/sklearn/ensemble/_gb_losses.py:211: RuntimeWarning: overflow encountered in square\n",
      "  sample_weight * ((y - raw_predictions.ravel()) ** 2)))\n",
      "/opt/anaconda3/lib/python3.8/site-packages/sklearn/ensemble/_gb_losses.py:211: RuntimeWarning: overflow encountered in square\n",
      "  sample_weight * ((y - raw_predictions.ravel()) ** 2)))\n",
      "/opt/anaconda3/lib/python3.8/site-packages/sklearn/ensemble/_gb_losses.py:211: RuntimeWarning: overflow encountered in square\n",
      "  sample_weight * ((y - raw_predictions.ravel()) ** 2)))\n",
      "/opt/anaconda3/lib/python3.8/site-packages/sklearn/ensemble/_gb_losses.py:211: RuntimeWarning: overflow encountered in square\n",
      "  sample_weight * ((y - raw_predictions.ravel()) ** 2)))\n",
      "/opt/anaconda3/lib/python3.8/site-packages/sklearn/ensemble/_gb_losses.py:211: RuntimeWarning: overflow encountered in square\n",
      "  sample_weight * ((y - raw_predictions.ravel()) ** 2)))\n",
      "/opt/anaconda3/lib/python3.8/site-packages/sklearn/ensemble/_gb_losses.py:211: RuntimeWarning: overflow encountered in square\n",
      "  sample_weight * ((y - raw_predictions.ravel()) ** 2)))\n",
      "/opt/anaconda3/lib/python3.8/site-packages/sklearn/ensemble/_gb_losses.py:211: RuntimeWarning: overflow encountered in square\n",
      "  sample_weight * ((y - raw_predictions.ravel()) ** 2)))\n",
      "/opt/anaconda3/lib/python3.8/site-packages/sklearn/ensemble/_gb_losses.py:211: RuntimeWarning: overflow encountered in square\n",
      "  sample_weight * ((y - raw_predictions.ravel()) ** 2)))\n",
      "/opt/anaconda3/lib/python3.8/site-packages/sklearn/ensemble/_gb_losses.py:211: RuntimeWarning: overflow encountered in square\n",
      "  sample_weight * ((y - raw_predictions.ravel()) ** 2)))\n",
      "/opt/anaconda3/lib/python3.8/site-packages/sklearn/ensemble/_gb_losses.py:211: RuntimeWarning: overflow encountered in square\n",
      "  sample_weight * ((y - raw_predictions.ravel()) ** 2)))\n",
      "/opt/anaconda3/lib/python3.8/site-packages/sklearn/ensemble/_gb_losses.py:211: RuntimeWarning: overflow encountered in square\n",
      "  sample_weight * ((y - raw_predictions.ravel()) ** 2)))\n",
      "/opt/anaconda3/lib/python3.8/site-packages/sklearn/ensemble/_gb_losses.py:211: RuntimeWarning: overflow encountered in square\n",
      "  sample_weight * ((y - raw_predictions.ravel()) ** 2)))\n"
     ]
    },
    {
     "name": "stderr",
     "output_type": "stream",
     "text": [
      "/opt/anaconda3/lib/python3.8/site-packages/sklearn/ensemble/_gb_losses.py:211: RuntimeWarning: overflow encountered in square\n",
      "  sample_weight * ((y - raw_predictions.ravel()) ** 2)))\n",
      "/opt/anaconda3/lib/python3.8/site-packages/sklearn/ensemble/_gb_losses.py:211: RuntimeWarning: overflow encountered in square\n",
      "  sample_weight * ((y - raw_predictions.ravel()) ** 2)))\n",
      "/opt/anaconda3/lib/python3.8/site-packages/sklearn/ensemble/_gb_losses.py:211: RuntimeWarning: overflow encountered in square\n",
      "  sample_weight * ((y - raw_predictions.ravel()) ** 2)))\n",
      "/opt/anaconda3/lib/python3.8/site-packages/sklearn/ensemble/_gb_losses.py:211: RuntimeWarning: overflow encountered in square\n",
      "  sample_weight * ((y - raw_predictions.ravel()) ** 2)))\n",
      "/opt/anaconda3/lib/python3.8/site-packages/sklearn/ensemble/_gb_losses.py:211: RuntimeWarning: overflow encountered in square\n",
      "  sample_weight * ((y - raw_predictions.ravel()) ** 2)))\n",
      "/opt/anaconda3/lib/python3.8/site-packages/sklearn/ensemble/_gb_losses.py:211: RuntimeWarning: overflow encountered in square\n",
      "  sample_weight * ((y - raw_predictions.ravel()) ** 2)))\n",
      "/opt/anaconda3/lib/python3.8/site-packages/sklearn/ensemble/_gb_losses.py:211: RuntimeWarning: overflow encountered in square\n",
      "  sample_weight * ((y - raw_predictions.ravel()) ** 2)))\n",
      "/opt/anaconda3/lib/python3.8/site-packages/sklearn/ensemble/_gb_losses.py:211: RuntimeWarning: overflow encountered in square\n",
      "  sample_weight * ((y - raw_predictions.ravel()) ** 2)))\n",
      "/opt/anaconda3/lib/python3.8/site-packages/sklearn/ensemble/_gb_losses.py:211: RuntimeWarning: overflow encountered in square\n",
      "  sample_weight * ((y - raw_predictions.ravel()) ** 2)))\n",
      "/opt/anaconda3/lib/python3.8/site-packages/sklearn/ensemble/_gb_losses.py:211: RuntimeWarning: overflow encountered in square\n",
      "  sample_weight * ((y - raw_predictions.ravel()) ** 2)))\n",
      "/opt/anaconda3/lib/python3.8/site-packages/sklearn/ensemble/_gb_losses.py:211: RuntimeWarning: overflow encountered in square\n",
      "  sample_weight * ((y - raw_predictions.ravel()) ** 2)))\n",
      "/opt/anaconda3/lib/python3.8/site-packages/sklearn/ensemble/_gb_losses.py:211: RuntimeWarning: overflow encountered in square\n",
      "  sample_weight * ((y - raw_predictions.ravel()) ** 2)))\n",
      "/opt/anaconda3/lib/python3.8/site-packages/sklearn/ensemble/_gb_losses.py:211: RuntimeWarning: overflow encountered in square\n",
      "  sample_weight * ((y - raw_predictions.ravel()) ** 2)))\n",
      "/opt/anaconda3/lib/python3.8/site-packages/sklearn/ensemble/_gb_losses.py:211: RuntimeWarning: overflow encountered in square\n",
      "  sample_weight * ((y - raw_predictions.ravel()) ** 2)))\n",
      "/opt/anaconda3/lib/python3.8/site-packages/sklearn/ensemble/_gb_losses.py:211: RuntimeWarning: overflow encountered in square\n",
      "  sample_weight * ((y - raw_predictions.ravel()) ** 2)))\n",
      "/opt/anaconda3/lib/python3.8/site-packages/sklearn/ensemble/_gb_losses.py:211: RuntimeWarning: overflow encountered in square\n",
      "  sample_weight * ((y - raw_predictions.ravel()) ** 2)))\n",
      "/opt/anaconda3/lib/python3.8/site-packages/sklearn/ensemble/_gb_losses.py:211: RuntimeWarning: overflow encountered in square\n",
      "  sample_weight * ((y - raw_predictions.ravel()) ** 2)))\n",
      "/opt/anaconda3/lib/python3.8/site-packages/sklearn/ensemble/_gb_losses.py:211: RuntimeWarning: overflow encountered in square\n",
      "  sample_weight * ((y - raw_predictions.ravel()) ** 2)))\n",
      "/opt/anaconda3/lib/python3.8/site-packages/sklearn/ensemble/_gb_losses.py:211: RuntimeWarning: overflow encountered in square\n",
      "  sample_weight * ((y - raw_predictions.ravel()) ** 2)))\n",
      "/opt/anaconda3/lib/python3.8/site-packages/sklearn/ensemble/_gb_losses.py:211: RuntimeWarning: overflow encountered in square\n",
      "  sample_weight * ((y - raw_predictions.ravel()) ** 2)))\n",
      "/opt/anaconda3/lib/python3.8/site-packages/sklearn/ensemble/_gb_losses.py:211: RuntimeWarning: overflow encountered in square\n",
      "  sample_weight * ((y - raw_predictions.ravel()) ** 2)))\n",
      "/opt/anaconda3/lib/python3.8/site-packages/sklearn/ensemble/_gb_losses.py:211: RuntimeWarning: overflow encountered in square\n",
      "  sample_weight * ((y - raw_predictions.ravel()) ** 2)))\n",
      "/opt/anaconda3/lib/python3.8/site-packages/sklearn/ensemble/_gb_losses.py:211: RuntimeWarning: overflow encountered in square\n",
      "  sample_weight * ((y - raw_predictions.ravel()) ** 2)))\n",
      "/opt/anaconda3/lib/python3.8/site-packages/sklearn/ensemble/_gb_losses.py:211: RuntimeWarning: overflow encountered in square\n",
      "  sample_weight * ((y - raw_predictions.ravel()) ** 2)))\n",
      "/opt/anaconda3/lib/python3.8/site-packages/sklearn/ensemble/_gb_losses.py:211: RuntimeWarning: overflow encountered in square\n",
      "  sample_weight * ((y - raw_predictions.ravel()) ** 2)))\n",
      "/opt/anaconda3/lib/python3.8/site-packages/sklearn/ensemble/_gb_losses.py:211: RuntimeWarning: overflow encountered in square\n",
      "  sample_weight * ((y - raw_predictions.ravel()) ** 2)))\n",
      "/opt/anaconda3/lib/python3.8/site-packages/sklearn/ensemble/_gb_losses.py:211: RuntimeWarning: overflow encountered in square\n",
      "  sample_weight * ((y - raw_predictions.ravel()) ** 2)))\n",
      "/opt/anaconda3/lib/python3.8/site-packages/sklearn/ensemble/_gb_losses.py:211: RuntimeWarning: overflow encountered in square\n",
      "  sample_weight * ((y - raw_predictions.ravel()) ** 2)))\n",
      "/opt/anaconda3/lib/python3.8/site-packages/sklearn/ensemble/_gb_losses.py:211: RuntimeWarning: overflow encountered in square\n",
      "  sample_weight * ((y - raw_predictions.ravel()) ** 2)))\n",
      "/opt/anaconda3/lib/python3.8/site-packages/sklearn/ensemble/_gb_losses.py:211: RuntimeWarning: overflow encountered in square\n",
      "  sample_weight * ((y - raw_predictions.ravel()) ** 2)))\n",
      "/opt/anaconda3/lib/python3.8/site-packages/sklearn/ensemble/_gb_losses.py:211: RuntimeWarning: overflow encountered in square\n",
      "  sample_weight * ((y - raw_predictions.ravel()) ** 2)))\n",
      "/opt/anaconda3/lib/python3.8/site-packages/sklearn/ensemble/_gb_losses.py:211: RuntimeWarning: overflow encountered in square\n",
      "  sample_weight * ((y - raw_predictions.ravel()) ** 2)))\n",
      "/opt/anaconda3/lib/python3.8/site-packages/sklearn/ensemble/_gb_losses.py:211: RuntimeWarning: overflow encountered in square\n",
      "  sample_weight * ((y - raw_predictions.ravel()) ** 2)))\n",
      "/opt/anaconda3/lib/python3.8/site-packages/sklearn/ensemble/_gb_losses.py:211: RuntimeWarning: overflow encountered in square\n",
      "  sample_weight * ((y - raw_predictions.ravel()) ** 2)))\n",
      "/opt/anaconda3/lib/python3.8/site-packages/sklearn/ensemble/_gb_losses.py:211: RuntimeWarning: overflow encountered in square\n",
      "  sample_weight * ((y - raw_predictions.ravel()) ** 2)))\n",
      "/opt/anaconda3/lib/python3.8/site-packages/sklearn/ensemble/_gb_losses.py:211: RuntimeWarning: overflow encountered in square\n",
      "  sample_weight * ((y - raw_predictions.ravel()) ** 2)))\n",
      "/opt/anaconda3/lib/python3.8/site-packages/sklearn/ensemble/_gb_losses.py:211: RuntimeWarning: overflow encountered in square\n",
      "  sample_weight * ((y - raw_predictions.ravel()) ** 2)))\n",
      "/opt/anaconda3/lib/python3.8/site-packages/sklearn/ensemble/_gb_losses.py:211: RuntimeWarning: overflow encountered in square\n",
      "  sample_weight * ((y - raw_predictions.ravel()) ** 2)))\n",
      "/opt/anaconda3/lib/python3.8/site-packages/sklearn/ensemble/_gb_losses.py:211: RuntimeWarning: overflow encountered in square\n",
      "  sample_weight * ((y - raw_predictions.ravel()) ** 2)))\n",
      "/opt/anaconda3/lib/python3.8/site-packages/sklearn/ensemble/_gb_losses.py:211: RuntimeWarning: overflow encountered in square\n",
      "  sample_weight * ((y - raw_predictions.ravel()) ** 2)))\n",
      "/opt/anaconda3/lib/python3.8/site-packages/sklearn/ensemble/_gb_losses.py:211: RuntimeWarning: overflow encountered in square\n",
      "  sample_weight * ((y - raw_predictions.ravel()) ** 2)))\n",
      "/opt/anaconda3/lib/python3.8/site-packages/sklearn/ensemble/_gb_losses.py:211: RuntimeWarning: overflow encountered in square\n",
      "  sample_weight * ((y - raw_predictions.ravel()) ** 2)))\n",
      "/opt/anaconda3/lib/python3.8/site-packages/sklearn/ensemble/_gb_losses.py:211: RuntimeWarning: overflow encountered in square\n",
      "  sample_weight * ((y - raw_predictions.ravel()) ** 2)))\n",
      "/opt/anaconda3/lib/python3.8/site-packages/sklearn/ensemble/_gb_losses.py:211: RuntimeWarning: overflow encountered in square\n",
      "  sample_weight * ((y - raw_predictions.ravel()) ** 2)))\n",
      "/opt/anaconda3/lib/python3.8/site-packages/sklearn/ensemble/_gb_losses.py:211: RuntimeWarning: overflow encountered in square\n",
      "  sample_weight * ((y - raw_predictions.ravel()) ** 2)))\n",
      "/opt/anaconda3/lib/python3.8/site-packages/sklearn/ensemble/_gb_losses.py:211: RuntimeWarning: overflow encountered in square\n",
      "  sample_weight * ((y - raw_predictions.ravel()) ** 2)))\n",
      "/opt/anaconda3/lib/python3.8/site-packages/sklearn/ensemble/_gb_losses.py:211: RuntimeWarning: overflow encountered in square\n",
      "  sample_weight * ((y - raw_predictions.ravel()) ** 2)))\n",
      "/opt/anaconda3/lib/python3.8/site-packages/sklearn/ensemble/_gb_losses.py:211: RuntimeWarning: overflow encountered in square\n",
      "  sample_weight * ((y - raw_predictions.ravel()) ** 2)))\n",
      "/opt/anaconda3/lib/python3.8/site-packages/sklearn/ensemble/_gb_losses.py:211: RuntimeWarning: overflow encountered in square\n",
      "  sample_weight * ((y - raw_predictions.ravel()) ** 2)))\n",
      "/opt/anaconda3/lib/python3.8/site-packages/sklearn/ensemble/_gb_losses.py:211: RuntimeWarning: overflow encountered in square\n",
      "  sample_weight * ((y - raw_predictions.ravel()) ** 2)))\n",
      "/opt/anaconda3/lib/python3.8/site-packages/sklearn/ensemble/_gb_losses.py:211: RuntimeWarning: overflow encountered in square\n",
      "  sample_weight * ((y - raw_predictions.ravel()) ** 2)))\n",
      "/opt/anaconda3/lib/python3.8/site-packages/sklearn/ensemble/_gb_losses.py:211: RuntimeWarning: overflow encountered in square\n",
      "  sample_weight * ((y - raw_predictions.ravel()) ** 2)))\n",
      "/opt/anaconda3/lib/python3.8/site-packages/sklearn/ensemble/_gb_losses.py:211: RuntimeWarning: overflow encountered in square\n",
      "  sample_weight * ((y - raw_predictions.ravel()) ** 2)))\n",
      "/opt/anaconda3/lib/python3.8/site-packages/sklearn/ensemble/_gb_losses.py:211: RuntimeWarning: overflow encountered in square\n",
      "  sample_weight * ((y - raw_predictions.ravel()) ** 2)))\n",
      "/opt/anaconda3/lib/python3.8/site-packages/sklearn/ensemble/_gb_losses.py:211: RuntimeWarning: overflow encountered in square\n",
      "  sample_weight * ((y - raw_predictions.ravel()) ** 2)))\n",
      "/opt/anaconda3/lib/python3.8/site-packages/sklearn/ensemble/_gb_losses.py:211: RuntimeWarning: overflow encountered in square\n",
      "  sample_weight * ((y - raw_predictions.ravel()) ** 2)))\n",
      "/opt/anaconda3/lib/python3.8/site-packages/sklearn/ensemble/_gb_losses.py:211: RuntimeWarning: overflow encountered in square\n",
      "  sample_weight * ((y - raw_predictions.ravel()) ** 2)))\n",
      "/opt/anaconda3/lib/python3.8/site-packages/sklearn/ensemble/_gb_losses.py:211: RuntimeWarning: overflow encountered in square\n",
      "  sample_weight * ((y - raw_predictions.ravel()) ** 2)))\n",
      "/opt/anaconda3/lib/python3.8/site-packages/sklearn/ensemble/_gb_losses.py:211: RuntimeWarning: overflow encountered in square\n",
      "  sample_weight * ((y - raw_predictions.ravel()) ** 2)))\n",
      "/opt/anaconda3/lib/python3.8/site-packages/sklearn/ensemble/_gb_losses.py:211: RuntimeWarning: overflow encountered in square\n",
      "  sample_weight * ((y - raw_predictions.ravel()) ** 2)))\n",
      "/opt/anaconda3/lib/python3.8/site-packages/sklearn/ensemble/_gb_losses.py:211: RuntimeWarning: overflow encountered in square\n",
      "  sample_weight * ((y - raw_predictions.ravel()) ** 2)))\n",
      "/opt/anaconda3/lib/python3.8/site-packages/sklearn/ensemble/_gb_losses.py:211: RuntimeWarning: overflow encountered in square\n",
      "  sample_weight * ((y - raw_predictions.ravel()) ** 2)))\n",
      "/opt/anaconda3/lib/python3.8/site-packages/sklearn/ensemble/_gb_losses.py:211: RuntimeWarning: overflow encountered in square\n",
      "  sample_weight * ((y - raw_predictions.ravel()) ** 2)))\n"
     ]
    },
    {
     "name": "stderr",
     "output_type": "stream",
     "text": [
      "/opt/anaconda3/lib/python3.8/site-packages/sklearn/ensemble/_gb_losses.py:211: RuntimeWarning: overflow encountered in square\n",
      "  sample_weight * ((y - raw_predictions.ravel()) ** 2)))\n",
      "/opt/anaconda3/lib/python3.8/site-packages/sklearn/ensemble/_gb_losses.py:211: RuntimeWarning: overflow encountered in square\n",
      "  sample_weight * ((y - raw_predictions.ravel()) ** 2)))\n",
      "/opt/anaconda3/lib/python3.8/site-packages/sklearn/ensemble/_gb_losses.py:211: RuntimeWarning: overflow encountered in square\n",
      "  sample_weight * ((y - raw_predictions.ravel()) ** 2)))\n",
      "/opt/anaconda3/lib/python3.8/site-packages/sklearn/ensemble/_gb_losses.py:211: RuntimeWarning: overflow encountered in square\n",
      "  sample_weight * ((y - raw_predictions.ravel()) ** 2)))\n",
      "/opt/anaconda3/lib/python3.8/site-packages/sklearn/ensemble/_gb_losses.py:211: RuntimeWarning: overflow encountered in square\n",
      "  sample_weight * ((y - raw_predictions.ravel()) ** 2)))\n",
      "/opt/anaconda3/lib/python3.8/site-packages/sklearn/ensemble/_gb_losses.py:211: RuntimeWarning: overflow encountered in square\n",
      "  sample_weight * ((y - raw_predictions.ravel()) ** 2)))\n",
      "/opt/anaconda3/lib/python3.8/site-packages/sklearn/ensemble/_gb_losses.py:211: RuntimeWarning: overflow encountered in square\n",
      "  sample_weight * ((y - raw_predictions.ravel()) ** 2)))\n",
      "/opt/anaconda3/lib/python3.8/site-packages/sklearn/ensemble/_gb_losses.py:211: RuntimeWarning: overflow encountered in square\n",
      "  sample_weight * ((y - raw_predictions.ravel()) ** 2)))\n",
      "/opt/anaconda3/lib/python3.8/site-packages/sklearn/ensemble/_gb_losses.py:211: RuntimeWarning: overflow encountered in square\n",
      "  sample_weight * ((y - raw_predictions.ravel()) ** 2)))\n",
      "/opt/anaconda3/lib/python3.8/site-packages/sklearn/ensemble/_gb_losses.py:211: RuntimeWarning: overflow encountered in square\n",
      "  sample_weight * ((y - raw_predictions.ravel()) ** 2)))\n",
      "/opt/anaconda3/lib/python3.8/site-packages/sklearn/ensemble/_gb_losses.py:211: RuntimeWarning: overflow encountered in square\n",
      "  sample_weight * ((y - raw_predictions.ravel()) ** 2)))\n",
      "/opt/anaconda3/lib/python3.8/site-packages/sklearn/ensemble/_gb_losses.py:211: RuntimeWarning: overflow encountered in square\n",
      "  sample_weight * ((y - raw_predictions.ravel()) ** 2)))\n",
      "/opt/anaconda3/lib/python3.8/site-packages/sklearn/ensemble/_gb_losses.py:211: RuntimeWarning: overflow encountered in square\n",
      "  sample_weight * ((y - raw_predictions.ravel()) ** 2)))\n",
      "/opt/anaconda3/lib/python3.8/site-packages/sklearn/ensemble/_gb_losses.py:211: RuntimeWarning: overflow encountered in square\n",
      "  sample_weight * ((y - raw_predictions.ravel()) ** 2)))\n",
      "/opt/anaconda3/lib/python3.8/site-packages/sklearn/ensemble/_gb_losses.py:211: RuntimeWarning: overflow encountered in square\n",
      "  sample_weight * ((y - raw_predictions.ravel()) ** 2)))\n",
      "/opt/anaconda3/lib/python3.8/site-packages/sklearn/ensemble/_gb_losses.py:211: RuntimeWarning: overflow encountered in square\n",
      "  sample_weight * ((y - raw_predictions.ravel()) ** 2)))\n",
      "/opt/anaconda3/lib/python3.8/site-packages/sklearn/ensemble/_gb_losses.py:211: RuntimeWarning: overflow encountered in square\n",
      "  sample_weight * ((y - raw_predictions.ravel()) ** 2)))\n",
      "/opt/anaconda3/lib/python3.8/site-packages/sklearn/ensemble/_gb_losses.py:211: RuntimeWarning: overflow encountered in square\n",
      "  sample_weight * ((y - raw_predictions.ravel()) ** 2)))\n",
      "/opt/anaconda3/lib/python3.8/site-packages/sklearn/ensemble/_gb_losses.py:211: RuntimeWarning: overflow encountered in square\n",
      "  sample_weight * ((y - raw_predictions.ravel()) ** 2)))\n",
      "/opt/anaconda3/lib/python3.8/site-packages/sklearn/ensemble/_gb_losses.py:211: RuntimeWarning: overflow encountered in square\n",
      "  sample_weight * ((y - raw_predictions.ravel()) ** 2)))\n",
      "/opt/anaconda3/lib/python3.8/site-packages/sklearn/ensemble/_gb_losses.py:211: RuntimeWarning: overflow encountered in square\n",
      "  sample_weight * ((y - raw_predictions.ravel()) ** 2)))\n",
      "/opt/anaconda3/lib/python3.8/site-packages/sklearn/ensemble/_gb_losses.py:211: RuntimeWarning: overflow encountered in square\n",
      "  sample_weight * ((y - raw_predictions.ravel()) ** 2)))\n",
      "/opt/anaconda3/lib/python3.8/site-packages/sklearn/ensemble/_gb_losses.py:211: RuntimeWarning: overflow encountered in square\n",
      "  sample_weight * ((y - raw_predictions.ravel()) ** 2)))\n",
      "/opt/anaconda3/lib/python3.8/site-packages/sklearn/ensemble/_gb_losses.py:211: RuntimeWarning: overflow encountered in square\n",
      "  sample_weight * ((y - raw_predictions.ravel()) ** 2)))\n",
      "/opt/anaconda3/lib/python3.8/site-packages/sklearn/ensemble/_gb_losses.py:211: RuntimeWarning: overflow encountered in square\n",
      "  sample_weight * ((y - raw_predictions.ravel()) ** 2)))\n",
      "/opt/anaconda3/lib/python3.8/site-packages/sklearn/ensemble/_gb_losses.py:211: RuntimeWarning: overflow encountered in square\n",
      "  sample_weight * ((y - raw_predictions.ravel()) ** 2)))\n",
      "/opt/anaconda3/lib/python3.8/site-packages/sklearn/ensemble/_gb_losses.py:211: RuntimeWarning: overflow encountered in square\n",
      "  sample_weight * ((y - raw_predictions.ravel()) ** 2)))\n",
      "/opt/anaconda3/lib/python3.8/site-packages/sklearn/ensemble/_gb_losses.py:211: RuntimeWarning: overflow encountered in square\n",
      "  sample_weight * ((y - raw_predictions.ravel()) ** 2)))\n",
      "/opt/anaconda3/lib/python3.8/site-packages/sklearn/ensemble/_gb_losses.py:211: RuntimeWarning: overflow encountered in square\n",
      "  sample_weight * ((y - raw_predictions.ravel()) ** 2)))\n",
      "/opt/anaconda3/lib/python3.8/site-packages/sklearn/ensemble/_gb_losses.py:211: RuntimeWarning: overflow encountered in square\n",
      "  sample_weight * ((y - raw_predictions.ravel()) ** 2)))\n",
      "/opt/anaconda3/lib/python3.8/site-packages/sklearn/ensemble/_gb_losses.py:211: RuntimeWarning: overflow encountered in square\n",
      "  sample_weight * ((y - raw_predictions.ravel()) ** 2)))\n",
      "/opt/anaconda3/lib/python3.8/site-packages/sklearn/ensemble/_gb_losses.py:211: RuntimeWarning: overflow encountered in square\n",
      "  sample_weight * ((y - raw_predictions.ravel()) ** 2)))\n",
      "/opt/anaconda3/lib/python3.8/site-packages/sklearn/metrics/_regression.py:598: RuntimeWarning: overflow encountered in square\n",
      "  numerator = (weight * (y_true - y_pred) ** 2).sum(axis=0,\n",
      "/opt/anaconda3/lib/python3.8/site-packages/sklearn/ensemble/_gb_losses.py:211: RuntimeWarning: overflow encountered in square\n",
      "  sample_weight * ((y - raw_predictions.ravel()) ** 2)))\n",
      "/opt/anaconda3/lib/python3.8/site-packages/sklearn/ensemble/_gb_losses.py:211: RuntimeWarning: overflow encountered in square\n",
      "  sample_weight * ((y - raw_predictions.ravel()) ** 2)))\n",
      "/opt/anaconda3/lib/python3.8/site-packages/sklearn/ensemble/_gb_losses.py:211: RuntimeWarning: overflow encountered in square\n",
      "  sample_weight * ((y - raw_predictions.ravel()) ** 2)))\n",
      "/opt/anaconda3/lib/python3.8/site-packages/sklearn/ensemble/_gb_losses.py:211: RuntimeWarning: overflow encountered in square\n",
      "  sample_weight * ((y - raw_predictions.ravel()) ** 2)))\n",
      "/opt/anaconda3/lib/python3.8/site-packages/sklearn/ensemble/_gb_losses.py:211: RuntimeWarning: overflow encountered in square\n",
      "  sample_weight * ((y - raw_predictions.ravel()) ** 2)))\n",
      "/opt/anaconda3/lib/python3.8/site-packages/sklearn/ensemble/_gb_losses.py:211: RuntimeWarning: overflow encountered in square\n",
      "  sample_weight * ((y - raw_predictions.ravel()) ** 2)))\n",
      "/opt/anaconda3/lib/python3.8/site-packages/sklearn/ensemble/_gb_losses.py:211: RuntimeWarning: overflow encountered in square\n",
      "  sample_weight * ((y - raw_predictions.ravel()) ** 2)))\n",
      "/opt/anaconda3/lib/python3.8/site-packages/sklearn/ensemble/_gb_losses.py:211: RuntimeWarning: overflow encountered in square\n",
      "  sample_weight * ((y - raw_predictions.ravel()) ** 2)))\n",
      "/opt/anaconda3/lib/python3.8/site-packages/sklearn/ensemble/_gb_losses.py:211: RuntimeWarning: overflow encountered in square\n",
      "  sample_weight * ((y - raw_predictions.ravel()) ** 2)))\n",
      "/opt/anaconda3/lib/python3.8/site-packages/sklearn/ensemble/_gb_losses.py:211: RuntimeWarning: overflow encountered in square\n",
      "  sample_weight * ((y - raw_predictions.ravel()) ** 2)))\n",
      "/opt/anaconda3/lib/python3.8/site-packages/sklearn/ensemble/_gb_losses.py:211: RuntimeWarning: overflow encountered in square\n",
      "  sample_weight * ((y - raw_predictions.ravel()) ** 2)))\n",
      "/opt/anaconda3/lib/python3.8/site-packages/sklearn/ensemble/_gb_losses.py:211: RuntimeWarning: overflow encountered in square\n",
      "  sample_weight * ((y - raw_predictions.ravel()) ** 2)))\n",
      "/opt/anaconda3/lib/python3.8/site-packages/sklearn/ensemble/_gb_losses.py:211: RuntimeWarning: overflow encountered in square\n",
      "  sample_weight * ((y - raw_predictions.ravel()) ** 2)))\n",
      "/opt/anaconda3/lib/python3.8/site-packages/sklearn/ensemble/_gb_losses.py:211: RuntimeWarning: overflow encountered in square\n",
      "  sample_weight * ((y - raw_predictions.ravel()) ** 2)))\n",
      "/opt/anaconda3/lib/python3.8/site-packages/sklearn/ensemble/_gb_losses.py:211: RuntimeWarning: overflow encountered in square\n",
      "  sample_weight * ((y - raw_predictions.ravel()) ** 2)))\n",
      "/opt/anaconda3/lib/python3.8/site-packages/sklearn/ensemble/_gb_losses.py:211: RuntimeWarning: overflow encountered in square\n",
      "  sample_weight * ((y - raw_predictions.ravel()) ** 2)))\n",
      "/opt/anaconda3/lib/python3.8/site-packages/sklearn/ensemble/_gb_losses.py:211: RuntimeWarning: overflow encountered in square\n",
      "  sample_weight * ((y - raw_predictions.ravel()) ** 2)))\n",
      "/opt/anaconda3/lib/python3.8/site-packages/sklearn/ensemble/_gb_losses.py:211: RuntimeWarning: overflow encountered in square\n",
      "  sample_weight * ((y - raw_predictions.ravel()) ** 2)))\n",
      "/opt/anaconda3/lib/python3.8/site-packages/sklearn/ensemble/_gb_losses.py:211: RuntimeWarning: overflow encountered in square\n",
      "  sample_weight * ((y - raw_predictions.ravel()) ** 2)))\n",
      "/opt/anaconda3/lib/python3.8/site-packages/sklearn/ensemble/_gb_losses.py:211: RuntimeWarning: overflow encountered in square\n",
      "  sample_weight * ((y - raw_predictions.ravel()) ** 2)))\n",
      "/opt/anaconda3/lib/python3.8/site-packages/sklearn/ensemble/_gb_losses.py:211: RuntimeWarning: overflow encountered in square\n",
      "  sample_weight * ((y - raw_predictions.ravel()) ** 2)))\n",
      "/opt/anaconda3/lib/python3.8/site-packages/sklearn/ensemble/_gb_losses.py:211: RuntimeWarning: overflow encountered in square\n",
      "  sample_weight * ((y - raw_predictions.ravel()) ** 2)))\n",
      "/opt/anaconda3/lib/python3.8/site-packages/sklearn/ensemble/_gb_losses.py:211: RuntimeWarning: overflow encountered in square\n",
      "  sample_weight * ((y - raw_predictions.ravel()) ** 2)))\n",
      "/opt/anaconda3/lib/python3.8/site-packages/sklearn/ensemble/_gb_losses.py:211: RuntimeWarning: overflow encountered in square\n",
      "  sample_weight * ((y - raw_predictions.ravel()) ** 2)))\n",
      "/opt/anaconda3/lib/python3.8/site-packages/sklearn/ensemble/_gb_losses.py:211: RuntimeWarning: overflow encountered in square\n",
      "  sample_weight * ((y - raw_predictions.ravel()) ** 2)))\n",
      "/opt/anaconda3/lib/python3.8/site-packages/sklearn/ensemble/_gb_losses.py:211: RuntimeWarning: overflow encountered in square\n",
      "  sample_weight * ((y - raw_predictions.ravel()) ** 2)))\n",
      "/opt/anaconda3/lib/python3.8/site-packages/sklearn/ensemble/_gb_losses.py:211: RuntimeWarning: overflow encountered in square\n",
      "  sample_weight * ((y - raw_predictions.ravel()) ** 2)))\n"
     ]
    },
    {
     "name": "stderr",
     "output_type": "stream",
     "text": [
      "/opt/anaconda3/lib/python3.8/site-packages/sklearn/ensemble/_gb_losses.py:211: RuntimeWarning: overflow encountered in square\n",
      "  sample_weight * ((y - raw_predictions.ravel()) ** 2)))\n",
      "/opt/anaconda3/lib/python3.8/site-packages/sklearn/ensemble/_gb_losses.py:211: RuntimeWarning: overflow encountered in square\n",
      "  sample_weight * ((y - raw_predictions.ravel()) ** 2)))\n",
      "/opt/anaconda3/lib/python3.8/site-packages/sklearn/ensemble/_gb_losses.py:211: RuntimeWarning: overflow encountered in square\n",
      "  sample_weight * ((y - raw_predictions.ravel()) ** 2)))\n",
      "/opt/anaconda3/lib/python3.8/site-packages/sklearn/ensemble/_gb_losses.py:211: RuntimeWarning: overflow encountered in square\n",
      "  sample_weight * ((y - raw_predictions.ravel()) ** 2)))\n",
      "/opt/anaconda3/lib/python3.8/site-packages/sklearn/ensemble/_gb_losses.py:211: RuntimeWarning: overflow encountered in square\n",
      "  sample_weight * ((y - raw_predictions.ravel()) ** 2)))\n",
      "/opt/anaconda3/lib/python3.8/site-packages/sklearn/ensemble/_gb_losses.py:211: RuntimeWarning: overflow encountered in square\n",
      "  sample_weight * ((y - raw_predictions.ravel()) ** 2)))\n",
      "/opt/anaconda3/lib/python3.8/site-packages/sklearn/ensemble/_gb_losses.py:211: RuntimeWarning: overflow encountered in square\n",
      "  sample_weight * ((y - raw_predictions.ravel()) ** 2)))\n",
      "/opt/anaconda3/lib/python3.8/site-packages/sklearn/ensemble/_gb_losses.py:211: RuntimeWarning: overflow encountered in square\n",
      "  sample_weight * ((y - raw_predictions.ravel()) ** 2)))\n",
      "/opt/anaconda3/lib/python3.8/site-packages/sklearn/ensemble/_gb_losses.py:211: RuntimeWarning: overflow encountered in square\n",
      "  sample_weight * ((y - raw_predictions.ravel()) ** 2)))\n",
      "/opt/anaconda3/lib/python3.8/site-packages/sklearn/ensemble/_gb_losses.py:211: RuntimeWarning: overflow encountered in square\n",
      "  sample_weight * ((y - raw_predictions.ravel()) ** 2)))\n",
      "/opt/anaconda3/lib/python3.8/site-packages/sklearn/ensemble/_gb_losses.py:211: RuntimeWarning: overflow encountered in square\n",
      "  sample_weight * ((y - raw_predictions.ravel()) ** 2)))\n",
      "/opt/anaconda3/lib/python3.8/site-packages/sklearn/ensemble/_gb_losses.py:211: RuntimeWarning: overflow encountered in square\n",
      "  sample_weight * ((y - raw_predictions.ravel()) ** 2)))\n",
      "/opt/anaconda3/lib/python3.8/site-packages/sklearn/ensemble/_gb_losses.py:211: RuntimeWarning: overflow encountered in square\n",
      "  sample_weight * ((y - raw_predictions.ravel()) ** 2)))\n",
      "/opt/anaconda3/lib/python3.8/site-packages/sklearn/ensemble/_gb_losses.py:211: RuntimeWarning: overflow encountered in square\n",
      "  sample_weight * ((y - raw_predictions.ravel()) ** 2)))\n",
      "/opt/anaconda3/lib/python3.8/site-packages/sklearn/ensemble/_gb_losses.py:211: RuntimeWarning: overflow encountered in square\n",
      "  sample_weight * ((y - raw_predictions.ravel()) ** 2)))\n",
      "/opt/anaconda3/lib/python3.8/site-packages/sklearn/ensemble/_gb_losses.py:211: RuntimeWarning: overflow encountered in square\n",
      "  sample_weight * ((y - raw_predictions.ravel()) ** 2)))\n",
      "/opt/anaconda3/lib/python3.8/site-packages/sklearn/ensemble/_gb_losses.py:211: RuntimeWarning: overflow encountered in square\n",
      "  sample_weight * ((y - raw_predictions.ravel()) ** 2)))\n",
      "/opt/anaconda3/lib/python3.8/site-packages/sklearn/ensemble/_gb_losses.py:211: RuntimeWarning: overflow encountered in square\n",
      "  sample_weight * ((y - raw_predictions.ravel()) ** 2)))\n",
      "/opt/anaconda3/lib/python3.8/site-packages/sklearn/ensemble/_gb_losses.py:211: RuntimeWarning: overflow encountered in square\n",
      "  sample_weight * ((y - raw_predictions.ravel()) ** 2)))\n",
      "/opt/anaconda3/lib/python3.8/site-packages/sklearn/ensemble/_gb_losses.py:211: RuntimeWarning: overflow encountered in square\n",
      "  sample_weight * ((y - raw_predictions.ravel()) ** 2)))\n",
      "/opt/anaconda3/lib/python3.8/site-packages/sklearn/ensemble/_gb_losses.py:211: RuntimeWarning: overflow encountered in square\n",
      "  sample_weight * ((y - raw_predictions.ravel()) ** 2)))\n",
      "/opt/anaconda3/lib/python3.8/site-packages/sklearn/ensemble/_gb_losses.py:211: RuntimeWarning: overflow encountered in square\n",
      "  sample_weight * ((y - raw_predictions.ravel()) ** 2)))\n",
      "/opt/anaconda3/lib/python3.8/site-packages/sklearn/ensemble/_gb_losses.py:211: RuntimeWarning: overflow encountered in square\n",
      "  sample_weight * ((y - raw_predictions.ravel()) ** 2)))\n",
      "/opt/anaconda3/lib/python3.8/site-packages/sklearn/ensemble/_gb_losses.py:211: RuntimeWarning: overflow encountered in square\n",
      "  sample_weight * ((y - raw_predictions.ravel()) ** 2)))\n",
      "/opt/anaconda3/lib/python3.8/site-packages/sklearn/ensemble/_gb_losses.py:211: RuntimeWarning: overflow encountered in square\n",
      "  sample_weight * ((y - raw_predictions.ravel()) ** 2)))\n",
      "/opt/anaconda3/lib/python3.8/site-packages/sklearn/ensemble/_gb_losses.py:211: RuntimeWarning: overflow encountered in square\n",
      "  sample_weight * ((y - raw_predictions.ravel()) ** 2)))\n",
      "/opt/anaconda3/lib/python3.8/site-packages/sklearn/ensemble/_gb_losses.py:211: RuntimeWarning: overflow encountered in square\n",
      "  sample_weight * ((y - raw_predictions.ravel()) ** 2)))\n",
      "/opt/anaconda3/lib/python3.8/site-packages/sklearn/ensemble/_gb_losses.py:211: RuntimeWarning: overflow encountered in square\n",
      "  sample_weight * ((y - raw_predictions.ravel()) ** 2)))\n",
      "/opt/anaconda3/lib/python3.8/site-packages/sklearn/ensemble/_gb_losses.py:211: RuntimeWarning: overflow encountered in square\n",
      "  sample_weight * ((y - raw_predictions.ravel()) ** 2)))\n",
      "/opt/anaconda3/lib/python3.8/site-packages/sklearn/ensemble/_gb_losses.py:211: RuntimeWarning: overflow encountered in square\n",
      "  sample_weight * ((y - raw_predictions.ravel()) ** 2)))\n",
      "/opt/anaconda3/lib/python3.8/site-packages/sklearn/ensemble/_gb_losses.py:211: RuntimeWarning: overflow encountered in square\n",
      "  sample_weight * ((y - raw_predictions.ravel()) ** 2)))\n",
      "/opt/anaconda3/lib/python3.8/site-packages/sklearn/ensemble/_gb_losses.py:211: RuntimeWarning: overflow encountered in square\n",
      "  sample_weight * ((y - raw_predictions.ravel()) ** 2)))\n",
      "/opt/anaconda3/lib/python3.8/site-packages/sklearn/metrics/_regression.py:598: RuntimeWarning: overflow encountered in square\n",
      "  numerator = (weight * (y_true - y_pred) ** 2).sum(axis=0,\n",
      "/opt/anaconda3/lib/python3.8/site-packages/sklearn/ensemble/_gb_losses.py:211: RuntimeWarning: overflow encountered in square\n",
      "  sample_weight * ((y - raw_predictions.ravel()) ** 2)))\n",
      "/opt/anaconda3/lib/python3.8/site-packages/sklearn/ensemble/_gb_losses.py:211: RuntimeWarning: overflow encountered in square\n",
      "  sample_weight * ((y - raw_predictions.ravel()) ** 2)))\n",
      "/opt/anaconda3/lib/python3.8/site-packages/sklearn/ensemble/_gb_losses.py:211: RuntimeWarning: overflow encountered in square\n",
      "  sample_weight * ((y - raw_predictions.ravel()) ** 2)))\n",
      "/opt/anaconda3/lib/python3.8/site-packages/sklearn/ensemble/_gb_losses.py:211: RuntimeWarning: overflow encountered in square\n",
      "  sample_weight * ((y - raw_predictions.ravel()) ** 2)))\n",
      "/opt/anaconda3/lib/python3.8/site-packages/sklearn/ensemble/_gb_losses.py:211: RuntimeWarning: overflow encountered in square\n",
      "  sample_weight * ((y - raw_predictions.ravel()) ** 2)))\n",
      "/opt/anaconda3/lib/python3.8/site-packages/sklearn/ensemble/_gb_losses.py:211: RuntimeWarning: overflow encountered in square\n",
      "  sample_weight * ((y - raw_predictions.ravel()) ** 2)))\n",
      "/opt/anaconda3/lib/python3.8/site-packages/sklearn/ensemble/_gb_losses.py:211: RuntimeWarning: overflow encountered in square\n",
      "  sample_weight * ((y - raw_predictions.ravel()) ** 2)))\n",
      "/opt/anaconda3/lib/python3.8/site-packages/sklearn/ensemble/_gb_losses.py:211: RuntimeWarning: overflow encountered in square\n",
      "  sample_weight * ((y - raw_predictions.ravel()) ** 2)))\n",
      "/opt/anaconda3/lib/python3.8/site-packages/sklearn/ensemble/_gb_losses.py:211: RuntimeWarning: overflow encountered in square\n",
      "  sample_weight * ((y - raw_predictions.ravel()) ** 2)))\n",
      "/opt/anaconda3/lib/python3.8/site-packages/sklearn/ensemble/_gb_losses.py:211: RuntimeWarning: overflow encountered in square\n",
      "  sample_weight * ((y - raw_predictions.ravel()) ** 2)))\n",
      "/opt/anaconda3/lib/python3.8/site-packages/sklearn/ensemble/_gb_losses.py:211: RuntimeWarning: overflow encountered in square\n",
      "  sample_weight * ((y - raw_predictions.ravel()) ** 2)))\n",
      "/opt/anaconda3/lib/python3.8/site-packages/sklearn/ensemble/_gb_losses.py:211: RuntimeWarning: overflow encountered in square\n",
      "  sample_weight * ((y - raw_predictions.ravel()) ** 2)))\n",
      "/opt/anaconda3/lib/python3.8/site-packages/sklearn/ensemble/_gb_losses.py:211: RuntimeWarning: overflow encountered in square\n",
      "  sample_weight * ((y - raw_predictions.ravel()) ** 2)))\n",
      "/opt/anaconda3/lib/python3.8/site-packages/sklearn/metrics/_regression.py:598: RuntimeWarning: overflow encountered in square\n",
      "  numerator = (weight * (y_true - y_pred) ** 2).sum(axis=0,\n"
     ]
    },
    {
     "name": "stderr",
     "output_type": "stream",
     "text": [
      "/opt/anaconda3/lib/python3.8/site-packages/numpy/core/fromnumeric.py:90: RuntimeWarning: overflow encountered in reduce\n",
      "  return ufunc.reduce(obj, axis, dtype, out, **passkwargs)\n",
      "/opt/anaconda3/lib/python3.8/site-packages/numpy/core/fromnumeric.py:90: RuntimeWarning: overflow encountered in reduce\n",
      "  return ufunc.reduce(obj, axis, dtype, out, **passkwargs)\n",
      "/opt/anaconda3/lib/python3.8/site-packages/sklearn/ensemble/_gb_losses.py:211: RuntimeWarning: overflow encountered in square\n",
      "  sample_weight * ((y - raw_predictions.ravel()) ** 2)))\n",
      "/opt/anaconda3/lib/python3.8/site-packages/numpy/core/fromnumeric.py:90: RuntimeWarning: overflow encountered in reduce\n",
      "  return ufunc.reduce(obj, axis, dtype, out, **passkwargs)\n",
      "/opt/anaconda3/lib/python3.8/site-packages/sklearn/ensemble/_gb_losses.py:211: RuntimeWarning: overflow encountered in square\n",
      "  sample_weight * ((y - raw_predictions.ravel()) ** 2)))\n",
      "/opt/anaconda3/lib/python3.8/site-packages/numpy/core/fromnumeric.py:90: RuntimeWarning: overflow encountered in reduce\n",
      "  return ufunc.reduce(obj, axis, dtype, out, **passkwargs)\n",
      "/opt/anaconda3/lib/python3.8/site-packages/sklearn/ensemble/_gb_losses.py:211: RuntimeWarning: overflow encountered in square\n",
      "  sample_weight * ((y - raw_predictions.ravel()) ** 2)))\n",
      "/opt/anaconda3/lib/python3.8/site-packages/sklearn/ensemble/_gb_losses.py:211: RuntimeWarning: overflow encountered in square\n",
      "  sample_weight * ((y - raw_predictions.ravel()) ** 2)))\n",
      "/opt/anaconda3/lib/python3.8/site-packages/sklearn/ensemble/_gb_losses.py:211: RuntimeWarning: overflow encountered in square\n",
      "  sample_weight * ((y - raw_predictions.ravel()) ** 2)))\n",
      "/opt/anaconda3/lib/python3.8/site-packages/numpy/core/fromnumeric.py:90: RuntimeWarning: overflow encountered in reduce\n",
      "  return ufunc.reduce(obj, axis, dtype, out, **passkwargs)\n",
      "/opt/anaconda3/lib/python3.8/site-packages/sklearn/ensemble/_gb_losses.py:211: RuntimeWarning: overflow encountered in square\n",
      "  sample_weight * ((y - raw_predictions.ravel()) ** 2)))\n",
      "/opt/anaconda3/lib/python3.8/site-packages/numpy/core/fromnumeric.py:90: RuntimeWarning: overflow encountered in reduce\n",
      "  return ufunc.reduce(obj, axis, dtype, out, **passkwargs)\n",
      "/opt/anaconda3/lib/python3.8/site-packages/sklearn/ensemble/_gb_losses.py:211: RuntimeWarning: overflow encountered in square\n",
      "  sample_weight * ((y - raw_predictions.ravel()) ** 2)))\n",
      "/opt/anaconda3/lib/python3.8/site-packages/sklearn/ensemble/_gb_losses.py:211: RuntimeWarning: overflow encountered in square\n",
      "  sample_weight * ((y - raw_predictions.ravel()) ** 2)))\n",
      "/opt/anaconda3/lib/python3.8/site-packages/numpy/core/fromnumeric.py:90: RuntimeWarning: overflow encountered in reduce\n",
      "  return ufunc.reduce(obj, axis, dtype, out, **passkwargs)\n",
      "/opt/anaconda3/lib/python3.8/site-packages/sklearn/ensemble/_gb_losses.py:211: RuntimeWarning: overflow encountered in square\n",
      "  sample_weight * ((y - raw_predictions.ravel()) ** 2)))\n",
      "/opt/anaconda3/lib/python3.8/site-packages/sklearn/ensemble/_gb_losses.py:211: RuntimeWarning: overflow encountered in square\n",
      "  sample_weight * ((y - raw_predictions.ravel()) ** 2)))\n",
      "/opt/anaconda3/lib/python3.8/site-packages/sklearn/ensemble/_gb_losses.py:211: RuntimeWarning: overflow encountered in square\n",
      "  sample_weight * ((y - raw_predictions.ravel()) ** 2)))\n",
      "/opt/anaconda3/lib/python3.8/site-packages/sklearn/ensemble/_gb_losses.py:211: RuntimeWarning: overflow encountered in square\n",
      "  sample_weight * ((y - raw_predictions.ravel()) ** 2)))\n",
      "/opt/anaconda3/lib/python3.8/site-packages/sklearn/ensemble/_gb_losses.py:211: RuntimeWarning: overflow encountered in square\n",
      "  sample_weight * ((y - raw_predictions.ravel()) ** 2)))\n",
      "/opt/anaconda3/lib/python3.8/site-packages/sklearn/ensemble/_gb_losses.py:211: RuntimeWarning: overflow encountered in square\n",
      "  sample_weight * ((y - raw_predictions.ravel()) ** 2)))\n",
      "/opt/anaconda3/lib/python3.8/site-packages/sklearn/ensemble/_gb_losses.py:211: RuntimeWarning: overflow encountered in square\n",
      "  sample_weight * ((y - raw_predictions.ravel()) ** 2)))\n",
      "/opt/anaconda3/lib/python3.8/site-packages/sklearn/ensemble/_gb_losses.py:211: RuntimeWarning: overflow encountered in square\n",
      "  sample_weight * ((y - raw_predictions.ravel()) ** 2)))\n",
      "/opt/anaconda3/lib/python3.8/site-packages/sklearn/ensemble/_gb_losses.py:211: RuntimeWarning: overflow encountered in square\n",
      "  sample_weight * ((y - raw_predictions.ravel()) ** 2)))\n",
      "/opt/anaconda3/lib/python3.8/site-packages/sklearn/ensemble/_gb_losses.py:211: RuntimeWarning: overflow encountered in square\n",
      "  sample_weight * ((y - raw_predictions.ravel()) ** 2)))\n",
      "/opt/anaconda3/lib/python3.8/site-packages/sklearn/ensemble/_gb_losses.py:211: RuntimeWarning: overflow encountered in square\n",
      "  sample_weight * ((y - raw_predictions.ravel()) ** 2)))\n",
      "/opt/anaconda3/lib/python3.8/site-packages/sklearn/ensemble/_gb_losses.py:211: RuntimeWarning: overflow encountered in square\n",
      "  sample_weight * ((y - raw_predictions.ravel()) ** 2)))\n",
      "/opt/anaconda3/lib/python3.8/site-packages/sklearn/ensemble/_gb_losses.py:211: RuntimeWarning: overflow encountered in square\n",
      "  sample_weight * ((y - raw_predictions.ravel()) ** 2)))\n",
      "/opt/anaconda3/lib/python3.8/site-packages/sklearn/ensemble/_gb_losses.py:211: RuntimeWarning: overflow encountered in square\n",
      "  sample_weight * ((y - raw_predictions.ravel()) ** 2)))\n",
      "/opt/anaconda3/lib/python3.8/site-packages/sklearn/ensemble/_gb_losses.py:211: RuntimeWarning: overflow encountered in square\n",
      "  sample_weight * ((y - raw_predictions.ravel()) ** 2)))\n",
      "/opt/anaconda3/lib/python3.8/site-packages/sklearn/ensemble/_gb_losses.py:211: RuntimeWarning: overflow encountered in square\n",
      "  sample_weight * ((y - raw_predictions.ravel()) ** 2)))\n",
      "/opt/anaconda3/lib/python3.8/site-packages/sklearn/ensemble/_gb_losses.py:211: RuntimeWarning: overflow encountered in square\n",
      "  sample_weight * ((y - raw_predictions.ravel()) ** 2)))\n",
      "/opt/anaconda3/lib/python3.8/site-packages/sklearn/ensemble/_gb_losses.py:211: RuntimeWarning: overflow encountered in square\n",
      "  sample_weight * ((y - raw_predictions.ravel()) ** 2)))\n",
      "/opt/anaconda3/lib/python3.8/site-packages/sklearn/ensemble/_gb_losses.py:211: RuntimeWarning: overflow encountered in square\n",
      "  sample_weight * ((y - raw_predictions.ravel()) ** 2)))\n",
      "/opt/anaconda3/lib/python3.8/site-packages/sklearn/ensemble/_gb_losses.py:211: RuntimeWarning: overflow encountered in square\n",
      "  sample_weight * ((y - raw_predictions.ravel()) ** 2)))\n",
      "/opt/anaconda3/lib/python3.8/site-packages/sklearn/ensemble/_gb_losses.py:211: RuntimeWarning: overflow encountered in square\n",
      "  sample_weight * ((y - raw_predictions.ravel()) ** 2)))\n",
      "/opt/anaconda3/lib/python3.8/site-packages/sklearn/ensemble/_gb_losses.py:211: RuntimeWarning: overflow encountered in square\n",
      "  sample_weight * ((y - raw_predictions.ravel()) ** 2)))\n",
      "/opt/anaconda3/lib/python3.8/site-packages/sklearn/ensemble/_gb_losses.py:211: RuntimeWarning: overflow encountered in square\n",
      "  sample_weight * ((y - raw_predictions.ravel()) ** 2)))\n",
      "/opt/anaconda3/lib/python3.8/site-packages/sklearn/ensemble/_gb_losses.py:211: RuntimeWarning: overflow encountered in square\n",
      "  sample_weight * ((y - raw_predictions.ravel()) ** 2)))\n",
      "/opt/anaconda3/lib/python3.8/site-packages/sklearn/ensemble/_gb_losses.py:211: RuntimeWarning: overflow encountered in square\n",
      "  sample_weight * ((y - raw_predictions.ravel()) ** 2)))\n",
      "/opt/anaconda3/lib/python3.8/site-packages/sklearn/ensemble/_gb_losses.py:211: RuntimeWarning: overflow encountered in square\n",
      "  sample_weight * ((y - raw_predictions.ravel()) ** 2)))\n",
      "/opt/anaconda3/lib/python3.8/site-packages/sklearn/ensemble/_gb_losses.py:211: RuntimeWarning: overflow encountered in square\n",
      "  sample_weight * ((y - raw_predictions.ravel()) ** 2)))\n",
      "/opt/anaconda3/lib/python3.8/site-packages/sklearn/ensemble/_gb_losses.py:211: RuntimeWarning: overflow encountered in square\n",
      "  sample_weight * ((y - raw_predictions.ravel()) ** 2)))\n",
      "/opt/anaconda3/lib/python3.8/site-packages/sklearn/ensemble/_gb_losses.py:211: RuntimeWarning: overflow encountered in square\n",
      "  sample_weight * ((y - raw_predictions.ravel()) ** 2)))\n",
      "/opt/anaconda3/lib/python3.8/site-packages/sklearn/ensemble/_gb_losses.py:211: RuntimeWarning: overflow encountered in square\n",
      "  sample_weight * ((y - raw_predictions.ravel()) ** 2)))\n",
      "/opt/anaconda3/lib/python3.8/site-packages/sklearn/ensemble/_gb_losses.py:211: RuntimeWarning: overflow encountered in square\n",
      "  sample_weight * ((y - raw_predictions.ravel()) ** 2)))\n",
      "/opt/anaconda3/lib/python3.8/site-packages/sklearn/ensemble/_gb_losses.py:211: RuntimeWarning: overflow encountered in square\n",
      "  sample_weight * ((y - raw_predictions.ravel()) ** 2)))\n",
      "/opt/anaconda3/lib/python3.8/site-packages/sklearn/ensemble/_gb_losses.py:211: RuntimeWarning: overflow encountered in square\n",
      "  sample_weight * ((y - raw_predictions.ravel()) ** 2)))\n",
      "/opt/anaconda3/lib/python3.8/site-packages/sklearn/ensemble/_gb_losses.py:211: RuntimeWarning: overflow encountered in square\n",
      "  sample_weight * ((y - raw_predictions.ravel()) ** 2)))\n",
      "/opt/anaconda3/lib/python3.8/site-packages/sklearn/ensemble/_gb_losses.py:211: RuntimeWarning: overflow encountered in square\n",
      "  sample_weight * ((y - raw_predictions.ravel()) ** 2)))\n",
      "/opt/anaconda3/lib/python3.8/site-packages/sklearn/ensemble/_gb_losses.py:211: RuntimeWarning: overflow encountered in square\n",
      "  sample_weight * ((y - raw_predictions.ravel()) ** 2)))\n",
      "/opt/anaconda3/lib/python3.8/site-packages/sklearn/ensemble/_gb_losses.py:211: RuntimeWarning: overflow encountered in square\n",
      "  sample_weight * ((y - raw_predictions.ravel()) ** 2)))\n",
      "/opt/anaconda3/lib/python3.8/site-packages/sklearn/ensemble/_gb_losses.py:211: RuntimeWarning: overflow encountered in square\n",
      "  sample_weight * ((y - raw_predictions.ravel()) ** 2)))\n",
      "/opt/anaconda3/lib/python3.8/site-packages/sklearn/ensemble/_gb_losses.py:211: RuntimeWarning: overflow encountered in square\n",
      "  sample_weight * ((y - raw_predictions.ravel()) ** 2)))\n",
      "/opt/anaconda3/lib/python3.8/site-packages/sklearn/ensemble/_gb_losses.py:211: RuntimeWarning: overflow encountered in square\n",
      "  sample_weight * ((y - raw_predictions.ravel()) ** 2)))\n",
      "/opt/anaconda3/lib/python3.8/site-packages/sklearn/ensemble/_gb_losses.py:211: RuntimeWarning: overflow encountered in square\n",
      "  sample_weight * ((y - raw_predictions.ravel()) ** 2)))\n",
      "/opt/anaconda3/lib/python3.8/site-packages/sklearn/ensemble/_gb_losses.py:211: RuntimeWarning: overflow encountered in square\n",
      "  sample_weight * ((y - raw_predictions.ravel()) ** 2)))\n",
      "/opt/anaconda3/lib/python3.8/site-packages/sklearn/ensemble/_gb_losses.py:211: RuntimeWarning: overflow encountered in square\n",
      "  sample_weight * ((y - raw_predictions.ravel()) ** 2)))\n",
      "/opt/anaconda3/lib/python3.8/site-packages/sklearn/ensemble/_gb_losses.py:211: RuntimeWarning: overflow encountered in square\n",
      "  sample_weight * ((y - raw_predictions.ravel()) ** 2)))\n",
      "/opt/anaconda3/lib/python3.8/site-packages/sklearn/ensemble/_gb_losses.py:211: RuntimeWarning: overflow encountered in square\n",
      "  sample_weight * ((y - raw_predictions.ravel()) ** 2)))\n",
      "/opt/anaconda3/lib/python3.8/site-packages/sklearn/ensemble/_gb_losses.py:211: RuntimeWarning: overflow encountered in square\n",
      "  sample_weight * ((y - raw_predictions.ravel()) ** 2)))\n",
      "/opt/anaconda3/lib/python3.8/site-packages/sklearn/ensemble/_gb_losses.py:211: RuntimeWarning: overflow encountered in square\n",
      "  sample_weight * ((y - raw_predictions.ravel()) ** 2)))\n",
      "/opt/anaconda3/lib/python3.8/site-packages/sklearn/ensemble/_gb_losses.py:211: RuntimeWarning: overflow encountered in square\n",
      "  sample_weight * ((y - raw_predictions.ravel()) ** 2)))\n",
      "/opt/anaconda3/lib/python3.8/site-packages/sklearn/ensemble/_gb_losses.py:211: RuntimeWarning: overflow encountered in square\n",
      "  sample_weight * ((y - raw_predictions.ravel()) ** 2)))\n",
      "/opt/anaconda3/lib/python3.8/site-packages/sklearn/ensemble/_gb_losses.py:211: RuntimeWarning: overflow encountered in square\n",
      "  sample_weight * ((y - raw_predictions.ravel()) ** 2)))\n",
      "/opt/anaconda3/lib/python3.8/site-packages/sklearn/ensemble/_gb_losses.py:211: RuntimeWarning: overflow encountered in square\n",
      "  sample_weight * ((y - raw_predictions.ravel()) ** 2)))\n",
      "/opt/anaconda3/lib/python3.8/site-packages/sklearn/ensemble/_gb_losses.py:211: RuntimeWarning: overflow encountered in square\n",
      "  sample_weight * ((y - raw_predictions.ravel()) ** 2)))\n",
      "/opt/anaconda3/lib/python3.8/site-packages/sklearn/ensemble/_gb_losses.py:211: RuntimeWarning: overflow encountered in square\n",
      "  sample_weight * ((y - raw_predictions.ravel()) ** 2)))\n",
      "/opt/anaconda3/lib/python3.8/site-packages/sklearn/ensemble/_gb_losses.py:211: RuntimeWarning: overflow encountered in square\n",
      "  sample_weight * ((y - raw_predictions.ravel()) ** 2)))\n",
      "/opt/anaconda3/lib/python3.8/site-packages/sklearn/ensemble/_gb_losses.py:211: RuntimeWarning: overflow encountered in square\n",
      "  sample_weight * ((y - raw_predictions.ravel()) ** 2)))\n",
      "/opt/anaconda3/lib/python3.8/site-packages/sklearn/ensemble/_gb_losses.py:211: RuntimeWarning: overflow encountered in square\n",
      "  sample_weight * ((y - raw_predictions.ravel()) ** 2)))\n",
      "/opt/anaconda3/lib/python3.8/site-packages/sklearn/ensemble/_gb_losses.py:211: RuntimeWarning: overflow encountered in square\n",
      "  sample_weight * ((y - raw_predictions.ravel()) ** 2)))\n",
      "/opt/anaconda3/lib/python3.8/site-packages/sklearn/ensemble/_gb_losses.py:211: RuntimeWarning: overflow encountered in square\n",
      "  sample_weight * ((y - raw_predictions.ravel()) ** 2)))\n",
      "/opt/anaconda3/lib/python3.8/site-packages/sklearn/ensemble/_gb_losses.py:211: RuntimeWarning: overflow encountered in square\n",
      "  sample_weight * ((y - raw_predictions.ravel()) ** 2)))\n",
      "/opt/anaconda3/lib/python3.8/site-packages/sklearn/ensemble/_gb_losses.py:211: RuntimeWarning: overflow encountered in square\n",
      "  sample_weight * ((y - raw_predictions.ravel()) ** 2)))\n",
      "/opt/anaconda3/lib/python3.8/site-packages/sklearn/ensemble/_gb_losses.py:211: RuntimeWarning: overflow encountered in square\n",
      "  sample_weight * ((y - raw_predictions.ravel()) ** 2)))\n",
      "/opt/anaconda3/lib/python3.8/site-packages/sklearn/ensemble/_gb_losses.py:211: RuntimeWarning: overflow encountered in square\n",
      "  sample_weight * ((y - raw_predictions.ravel()) ** 2)))\n",
      "/opt/anaconda3/lib/python3.8/site-packages/sklearn/ensemble/_gb_losses.py:211: RuntimeWarning: overflow encountered in square\n",
      "  sample_weight * ((y - raw_predictions.ravel()) ** 2)))\n",
      "/opt/anaconda3/lib/python3.8/site-packages/sklearn/ensemble/_gb_losses.py:211: RuntimeWarning: overflow encountered in square\n",
      "  sample_weight * ((y - raw_predictions.ravel()) ** 2)))\n",
      "/opt/anaconda3/lib/python3.8/site-packages/sklearn/ensemble/_gb_losses.py:211: RuntimeWarning: overflow encountered in square\n",
      "  sample_weight * ((y - raw_predictions.ravel()) ** 2)))\n",
      "/opt/anaconda3/lib/python3.8/site-packages/sklearn/ensemble/_gb_losses.py:211: RuntimeWarning: overflow encountered in square\n",
      "  sample_weight * ((y - raw_predictions.ravel()) ** 2)))\n",
      "/opt/anaconda3/lib/python3.8/site-packages/sklearn/ensemble/_gb_losses.py:211: RuntimeWarning: overflow encountered in square\n",
      "  sample_weight * ((y - raw_predictions.ravel()) ** 2)))\n",
      "/opt/anaconda3/lib/python3.8/site-packages/sklearn/ensemble/_gb_losses.py:211: RuntimeWarning: overflow encountered in square\n",
      "  sample_weight * ((y - raw_predictions.ravel()) ** 2)))\n",
      "/opt/anaconda3/lib/python3.8/site-packages/sklearn/ensemble/_gb_losses.py:211: RuntimeWarning: overflow encountered in square\n",
      "  sample_weight * ((y - raw_predictions.ravel()) ** 2)))\n",
      "/opt/anaconda3/lib/python3.8/site-packages/sklearn/ensemble/_gb_losses.py:211: RuntimeWarning: overflow encountered in square\n",
      "  sample_weight * ((y - raw_predictions.ravel()) ** 2)))\n",
      "/opt/anaconda3/lib/python3.8/site-packages/sklearn/ensemble/_gb_losses.py:211: RuntimeWarning: overflow encountered in square\n",
      "  sample_weight * ((y - raw_predictions.ravel()) ** 2)))\n",
      "/opt/anaconda3/lib/python3.8/site-packages/sklearn/ensemble/_gb_losses.py:211: RuntimeWarning: overflow encountered in square\n",
      "  sample_weight * ((y - raw_predictions.ravel()) ** 2)))\n",
      "/opt/anaconda3/lib/python3.8/site-packages/sklearn/ensemble/_gb_losses.py:211: RuntimeWarning: overflow encountered in square\n",
      "  sample_weight * ((y - raw_predictions.ravel()) ** 2)))\n",
      "/opt/anaconda3/lib/python3.8/site-packages/sklearn/ensemble/_gb_losses.py:211: RuntimeWarning: overflow encountered in square\n",
      "  sample_weight * ((y - raw_predictions.ravel()) ** 2)))\n",
      "/opt/anaconda3/lib/python3.8/site-packages/sklearn/ensemble/_gb_losses.py:211: RuntimeWarning: overflow encountered in square\n",
      "  sample_weight * ((y - raw_predictions.ravel()) ** 2)))\n",
      "/opt/anaconda3/lib/python3.8/site-packages/sklearn/ensemble/_gb_losses.py:211: RuntimeWarning: overflow encountered in square\n",
      "  sample_weight * ((y - raw_predictions.ravel()) ** 2)))\n",
      "/opt/anaconda3/lib/python3.8/site-packages/sklearn/ensemble/_gb_losses.py:211: RuntimeWarning: overflow encountered in square\n",
      "  sample_weight * ((y - raw_predictions.ravel()) ** 2)))\n",
      "/opt/anaconda3/lib/python3.8/site-packages/sklearn/ensemble/_gb_losses.py:211: RuntimeWarning: overflow encountered in square\n",
      "  sample_weight * ((y - raw_predictions.ravel()) ** 2)))\n",
      "/opt/anaconda3/lib/python3.8/site-packages/sklearn/ensemble/_gb_losses.py:211: RuntimeWarning: overflow encountered in square\n",
      "  sample_weight * ((y - raw_predictions.ravel()) ** 2)))\n",
      "/opt/anaconda3/lib/python3.8/site-packages/sklearn/ensemble/_gb_losses.py:211: RuntimeWarning: overflow encountered in square\n",
      "  sample_weight * ((y - raw_predictions.ravel()) ** 2)))\n",
      "/opt/anaconda3/lib/python3.8/site-packages/sklearn/ensemble/_gb_losses.py:211: RuntimeWarning: overflow encountered in square\n",
      "  sample_weight * ((y - raw_predictions.ravel()) ** 2)))\n",
      "/opt/anaconda3/lib/python3.8/site-packages/sklearn/ensemble/_gb_losses.py:211: RuntimeWarning: overflow encountered in square\n",
      "  sample_weight * ((y - raw_predictions.ravel()) ** 2)))\n",
      "/opt/anaconda3/lib/python3.8/site-packages/sklearn/ensemble/_gb_losses.py:211: RuntimeWarning: overflow encountered in square\n",
      "  sample_weight * ((y - raw_predictions.ravel()) ** 2)))\n",
      "/opt/anaconda3/lib/python3.8/site-packages/sklearn/ensemble/_gb_losses.py:211: RuntimeWarning: overflow encountered in square\n",
      "  sample_weight * ((y - raw_predictions.ravel()) ** 2)))\n",
      "/opt/anaconda3/lib/python3.8/site-packages/sklearn/ensemble/_gb_losses.py:211: RuntimeWarning: overflow encountered in square\n",
      "  sample_weight * ((y - raw_predictions.ravel()) ** 2)))\n",
      "/opt/anaconda3/lib/python3.8/site-packages/sklearn/ensemble/_gb_losses.py:211: RuntimeWarning: overflow encountered in square\n",
      "  sample_weight * ((y - raw_predictions.ravel()) ** 2)))\n",
      "/opt/anaconda3/lib/python3.8/site-packages/sklearn/ensemble/_gb_losses.py:211: RuntimeWarning: overflow encountered in square\n",
      "  sample_weight * ((y - raw_predictions.ravel()) ** 2)))\n",
      "/opt/anaconda3/lib/python3.8/site-packages/sklearn/ensemble/_gb_losses.py:211: RuntimeWarning: overflow encountered in square\n",
      "  sample_weight * ((y - raw_predictions.ravel()) ** 2)))\n",
      "/opt/anaconda3/lib/python3.8/site-packages/sklearn/ensemble/_gb_losses.py:211: RuntimeWarning: overflow encountered in square\n",
      "  sample_weight * ((y - raw_predictions.ravel()) ** 2)))\n",
      "/opt/anaconda3/lib/python3.8/site-packages/sklearn/ensemble/_gb_losses.py:211: RuntimeWarning: overflow encountered in square\n",
      "  sample_weight * ((y - raw_predictions.ravel()) ** 2)))\n",
      "/opt/anaconda3/lib/python3.8/site-packages/sklearn/ensemble/_gb_losses.py:211: RuntimeWarning: overflow encountered in square\n",
      "  sample_weight * ((y - raw_predictions.ravel()) ** 2)))\n",
      "/opt/anaconda3/lib/python3.8/site-packages/sklearn/ensemble/_gb_losses.py:211: RuntimeWarning: overflow encountered in square\n",
      "  sample_weight * ((y - raw_predictions.ravel()) ** 2)))\n",
      "/opt/anaconda3/lib/python3.8/site-packages/sklearn/ensemble/_gb_losses.py:211: RuntimeWarning: overflow encountered in square\n",
      "  sample_weight * ((y - raw_predictions.ravel()) ** 2)))\n",
      "/opt/anaconda3/lib/python3.8/site-packages/sklearn/ensemble/_gb_losses.py:211: RuntimeWarning: overflow encountered in square\n",
      "  sample_weight * ((y - raw_predictions.ravel()) ** 2)))\n",
      "/opt/anaconda3/lib/python3.8/site-packages/sklearn/ensemble/_gb_losses.py:211: RuntimeWarning: overflow encountered in square\n",
      "  sample_weight * ((y - raw_predictions.ravel()) ** 2)))\n",
      "/opt/anaconda3/lib/python3.8/site-packages/sklearn/ensemble/_gb_losses.py:211: RuntimeWarning: overflow encountered in square\n",
      "  sample_weight * ((y - raw_predictions.ravel()) ** 2)))\n",
      "/opt/anaconda3/lib/python3.8/site-packages/sklearn/ensemble/_gb_losses.py:211: RuntimeWarning: overflow encountered in square\n",
      "  sample_weight * ((y - raw_predictions.ravel()) ** 2)))\n",
      "/opt/anaconda3/lib/python3.8/site-packages/sklearn/ensemble/_gb_losses.py:211: RuntimeWarning: overflow encountered in square\n",
      "  sample_weight * ((y - raw_predictions.ravel()) ** 2)))\n",
      "/opt/anaconda3/lib/python3.8/site-packages/sklearn/ensemble/_gb_losses.py:211: RuntimeWarning: overflow encountered in square\n",
      "  sample_weight * ((y - raw_predictions.ravel()) ** 2)))\n",
      "/opt/anaconda3/lib/python3.8/site-packages/sklearn/ensemble/_gb_losses.py:211: RuntimeWarning: overflow encountered in square\n",
      "  sample_weight * ((y - raw_predictions.ravel()) ** 2)))\n",
      "/opt/anaconda3/lib/python3.8/site-packages/sklearn/ensemble/_gb_losses.py:211: RuntimeWarning: overflow encountered in square\n",
      "  sample_weight * ((y - raw_predictions.ravel()) ** 2)))\n",
      "/opt/anaconda3/lib/python3.8/site-packages/sklearn/ensemble/_gb_losses.py:211: RuntimeWarning: overflow encountered in square\n",
      "  sample_weight * ((y - raw_predictions.ravel()) ** 2)))\n",
      "/opt/anaconda3/lib/python3.8/site-packages/sklearn/ensemble/_gb_losses.py:211: RuntimeWarning: overflow encountered in square\n",
      "  sample_weight * ((y - raw_predictions.ravel()) ** 2)))\n",
      "/opt/anaconda3/lib/python3.8/site-packages/sklearn/ensemble/_gb_losses.py:211: RuntimeWarning: overflow encountered in square\n",
      "  sample_weight * ((y - raw_predictions.ravel()) ** 2)))\n",
      "/opt/anaconda3/lib/python3.8/site-packages/sklearn/ensemble/_gb_losses.py:211: RuntimeWarning: overflow encountered in square\n",
      "  sample_weight * ((y - raw_predictions.ravel()) ** 2)))\n",
      "/opt/anaconda3/lib/python3.8/site-packages/sklearn/ensemble/_gb_losses.py:211: RuntimeWarning: overflow encountered in square\n",
      "  sample_weight * ((y - raw_predictions.ravel()) ** 2)))\n",
      "/opt/anaconda3/lib/python3.8/site-packages/sklearn/ensemble/_gb_losses.py:211: RuntimeWarning: overflow encountered in square\n",
      "  sample_weight * ((y - raw_predictions.ravel()) ** 2)))\n",
      "/opt/anaconda3/lib/python3.8/site-packages/sklearn/ensemble/_gb_losses.py:211: RuntimeWarning: overflow encountered in square\n",
      "  sample_weight * ((y - raw_predictions.ravel()) ** 2)))\n",
      "/opt/anaconda3/lib/python3.8/site-packages/sklearn/ensemble/_gb_losses.py:211: RuntimeWarning: overflow encountered in square\n",
      "  sample_weight * ((y - raw_predictions.ravel()) ** 2)))\n",
      "/opt/anaconda3/lib/python3.8/site-packages/sklearn/ensemble/_gb_losses.py:211: RuntimeWarning: overflow encountered in square\n",
      "  sample_weight * ((y - raw_predictions.ravel()) ** 2)))\n",
      "/opt/anaconda3/lib/python3.8/site-packages/sklearn/ensemble/_gb_losses.py:211: RuntimeWarning: overflow encountered in square\n",
      "  sample_weight * ((y - raw_predictions.ravel()) ** 2)))\n",
      "/opt/anaconda3/lib/python3.8/site-packages/sklearn/ensemble/_gb_losses.py:211: RuntimeWarning: overflow encountered in square\n",
      "  sample_weight * ((y - raw_predictions.ravel()) ** 2)))\n",
      "/opt/anaconda3/lib/python3.8/site-packages/sklearn/ensemble/_gb_losses.py:211: RuntimeWarning: overflow encountered in square\n",
      "  sample_weight * ((y - raw_predictions.ravel()) ** 2)))\n",
      "/opt/anaconda3/lib/python3.8/site-packages/sklearn/ensemble/_gb_losses.py:211: RuntimeWarning: overflow encountered in square\n",
      "  sample_weight * ((y - raw_predictions.ravel()) ** 2)))\n",
      "/opt/anaconda3/lib/python3.8/site-packages/sklearn/ensemble/_gb_losses.py:211: RuntimeWarning: overflow encountered in square\n",
      "  sample_weight * ((y - raw_predictions.ravel()) ** 2)))\n",
      "/opt/anaconda3/lib/python3.8/site-packages/sklearn/ensemble/_gb_losses.py:211: RuntimeWarning: overflow encountered in square\n",
      "  sample_weight * ((y - raw_predictions.ravel()) ** 2)))\n",
      "/opt/anaconda3/lib/python3.8/site-packages/sklearn/ensemble/_gb_losses.py:211: RuntimeWarning: overflow encountered in square\n",
      "  sample_weight * ((y - raw_predictions.ravel()) ** 2)))\n",
      "/opt/anaconda3/lib/python3.8/site-packages/sklearn/ensemble/_gb_losses.py:211: RuntimeWarning: overflow encountered in square\n",
      "  sample_weight * ((y - raw_predictions.ravel()) ** 2)))\n",
      "/opt/anaconda3/lib/python3.8/site-packages/sklearn/ensemble/_gb_losses.py:211: RuntimeWarning: overflow encountered in square\n",
      "  sample_weight * ((y - raw_predictions.ravel()) ** 2)))\n",
      "/opt/anaconda3/lib/python3.8/site-packages/sklearn/ensemble/_gb_losses.py:211: RuntimeWarning: overflow encountered in square\n",
      "  sample_weight * ((y - raw_predictions.ravel()) ** 2)))\n",
      "/opt/anaconda3/lib/python3.8/site-packages/sklearn/ensemble/_gb_losses.py:211: RuntimeWarning: overflow encountered in square\n",
      "  sample_weight * ((y - raw_predictions.ravel()) ** 2)))\n",
      "/opt/anaconda3/lib/python3.8/site-packages/sklearn/ensemble/_gb_losses.py:211: RuntimeWarning: overflow encountered in square\n",
      "  sample_weight * ((y - raw_predictions.ravel()) ** 2)))\n",
      "/opt/anaconda3/lib/python3.8/site-packages/sklearn/ensemble/_gb_losses.py:211: RuntimeWarning: overflow encountered in square\n",
      "  sample_weight * ((y - raw_predictions.ravel()) ** 2)))\n",
      "/opt/anaconda3/lib/python3.8/site-packages/sklearn/ensemble/_gb_losses.py:211: RuntimeWarning: overflow encountered in square\n",
      "  sample_weight * ((y - raw_predictions.ravel()) ** 2)))\n",
      "/opt/anaconda3/lib/python3.8/site-packages/sklearn/ensemble/_gb_losses.py:211: RuntimeWarning: overflow encountered in square\n",
      "  sample_weight * ((y - raw_predictions.ravel()) ** 2)))\n",
      "/opt/anaconda3/lib/python3.8/site-packages/sklearn/ensemble/_gb_losses.py:211: RuntimeWarning: overflow encountered in square\n",
      "  sample_weight * ((y - raw_predictions.ravel()) ** 2)))\n",
      "/opt/anaconda3/lib/python3.8/site-packages/sklearn/ensemble/_gb_losses.py:211: RuntimeWarning: overflow encountered in square\n",
      "  sample_weight * ((y - raw_predictions.ravel()) ** 2)))\n",
      "/opt/anaconda3/lib/python3.8/site-packages/sklearn/ensemble/_gb_losses.py:211: RuntimeWarning: overflow encountered in square\n",
      "  sample_weight * ((y - raw_predictions.ravel()) ** 2)))\n",
      "/opt/anaconda3/lib/python3.8/site-packages/sklearn/ensemble/_gb_losses.py:211: RuntimeWarning: overflow encountered in square\n",
      "  sample_weight * ((y - raw_predictions.ravel()) ** 2)))\n",
      "/opt/anaconda3/lib/python3.8/site-packages/sklearn/ensemble/_gb_losses.py:211: RuntimeWarning: overflow encountered in square\n",
      "  sample_weight * ((y - raw_predictions.ravel()) ** 2)))\n",
      "/opt/anaconda3/lib/python3.8/site-packages/sklearn/ensemble/_gb_losses.py:211: RuntimeWarning: overflow encountered in square\n",
      "  sample_weight * ((y - raw_predictions.ravel()) ** 2)))\n",
      "/opt/anaconda3/lib/python3.8/site-packages/sklearn/ensemble/_gb_losses.py:211: RuntimeWarning: overflow encountered in square\n",
      "  sample_weight * ((y - raw_predictions.ravel()) ** 2)))\n",
      "/opt/anaconda3/lib/python3.8/site-packages/sklearn/ensemble/_gb_losses.py:211: RuntimeWarning: overflow encountered in square\n",
      "  sample_weight * ((y - raw_predictions.ravel()) ** 2)))\n",
      "/opt/anaconda3/lib/python3.8/site-packages/sklearn/ensemble/_gb_losses.py:211: RuntimeWarning: overflow encountered in square\n",
      "  sample_weight * ((y - raw_predictions.ravel()) ** 2)))\n",
      "/opt/anaconda3/lib/python3.8/site-packages/sklearn/ensemble/_gb_losses.py:211: RuntimeWarning: overflow encountered in square\n",
      "  sample_weight * ((y - raw_predictions.ravel()) ** 2)))\n",
      "/opt/anaconda3/lib/python3.8/site-packages/sklearn/ensemble/_gb_losses.py:211: RuntimeWarning: overflow encountered in square\n",
      "  sample_weight * ((y - raw_predictions.ravel()) ** 2)))\n",
      "/opt/anaconda3/lib/python3.8/site-packages/sklearn/ensemble/_gb_losses.py:211: RuntimeWarning: overflow encountered in square\n",
      "  sample_weight * ((y - raw_predictions.ravel()) ** 2)))\n",
      "/opt/anaconda3/lib/python3.8/site-packages/sklearn/ensemble/_gb_losses.py:211: RuntimeWarning: overflow encountered in square\n",
      "  sample_weight * ((y - raw_predictions.ravel()) ** 2)))\n",
      "/opt/anaconda3/lib/python3.8/site-packages/sklearn/ensemble/_gb_losses.py:211: RuntimeWarning: overflow encountered in square\n",
      "  sample_weight * ((y - raw_predictions.ravel()) ** 2)))\n",
      "/opt/anaconda3/lib/python3.8/site-packages/sklearn/ensemble/_gb_losses.py:211: RuntimeWarning: overflow encountered in square\n",
      "  sample_weight * ((y - raw_predictions.ravel()) ** 2)))\n",
      "/opt/anaconda3/lib/python3.8/site-packages/sklearn/ensemble/_gb_losses.py:211: RuntimeWarning: overflow encountered in square\n",
      "  sample_weight * ((y - raw_predictions.ravel()) ** 2)))\n",
      "/opt/anaconda3/lib/python3.8/site-packages/sklearn/ensemble/_gb_losses.py:211: RuntimeWarning: overflow encountered in square\n",
      "  sample_weight * ((y - raw_predictions.ravel()) ** 2)))\n",
      "/opt/anaconda3/lib/python3.8/site-packages/sklearn/ensemble/_gb_losses.py:211: RuntimeWarning: overflow encountered in square\n",
      "  sample_weight * ((y - raw_predictions.ravel()) ** 2)))\n",
      "/opt/anaconda3/lib/python3.8/site-packages/sklearn/ensemble/_gb_losses.py:211: RuntimeWarning: overflow encountered in square\n",
      "  sample_weight * ((y - raw_predictions.ravel()) ** 2)))\n",
      "/opt/anaconda3/lib/python3.8/site-packages/sklearn/ensemble/_gb_losses.py:211: RuntimeWarning: overflow encountered in square\n",
      "  sample_weight * ((y - raw_predictions.ravel()) ** 2)))\n",
      "/opt/anaconda3/lib/python3.8/site-packages/sklearn/ensemble/_gb_losses.py:211: RuntimeWarning: overflow encountered in square\n",
      "  sample_weight * ((y - raw_predictions.ravel()) ** 2)))\n",
      "/opt/anaconda3/lib/python3.8/site-packages/sklearn/ensemble/_gb_losses.py:211: RuntimeWarning: overflow encountered in square\n",
      "  sample_weight * ((y - raw_predictions.ravel()) ** 2)))\n",
      "/opt/anaconda3/lib/python3.8/site-packages/sklearn/ensemble/_gb_losses.py:211: RuntimeWarning: overflow encountered in square\n",
      "  sample_weight * ((y - raw_predictions.ravel()) ** 2)))\n",
      "/opt/anaconda3/lib/python3.8/site-packages/sklearn/ensemble/_gb_losses.py:211: RuntimeWarning: overflow encountered in square\n",
      "  sample_weight * ((y - raw_predictions.ravel()) ** 2)))\n"
     ]
    },
    {
     "name": "stderr",
     "output_type": "stream",
     "text": [
      "/opt/anaconda3/lib/python3.8/site-packages/sklearn/ensemble/_gb_losses.py:211: RuntimeWarning: overflow encountered in square\n",
      "  sample_weight * ((y - raw_predictions.ravel()) ** 2)))\n",
      "/opt/anaconda3/lib/python3.8/site-packages/sklearn/ensemble/_gb_losses.py:211: RuntimeWarning: overflow encountered in square\n",
      "  sample_weight * ((y - raw_predictions.ravel()) ** 2)))\n",
      "/opt/anaconda3/lib/python3.8/site-packages/sklearn/ensemble/_gb_losses.py:211: RuntimeWarning: overflow encountered in square\n",
      "  sample_weight * ((y - raw_predictions.ravel()) ** 2)))\n",
      "/opt/anaconda3/lib/python3.8/site-packages/sklearn/ensemble/_gb_losses.py:211: RuntimeWarning: overflow encountered in square\n",
      "  sample_weight * ((y - raw_predictions.ravel()) ** 2)))\n",
      "/opt/anaconda3/lib/python3.8/site-packages/sklearn/ensemble/_gb_losses.py:211: RuntimeWarning: overflow encountered in square\n",
      "  sample_weight * ((y - raw_predictions.ravel()) ** 2)))\n",
      "/opt/anaconda3/lib/python3.8/site-packages/sklearn/ensemble/_gb_losses.py:211: RuntimeWarning: overflow encountered in square\n",
      "  sample_weight * ((y - raw_predictions.ravel()) ** 2)))\n",
      "/opt/anaconda3/lib/python3.8/site-packages/sklearn/ensemble/_gb_losses.py:211: RuntimeWarning: overflow encountered in square\n",
      "  sample_weight * ((y - raw_predictions.ravel()) ** 2)))\n",
      "/opt/anaconda3/lib/python3.8/site-packages/sklearn/ensemble/_gb_losses.py:211: RuntimeWarning: overflow encountered in square\n",
      "  sample_weight * ((y - raw_predictions.ravel()) ** 2)))\n",
      "/opt/anaconda3/lib/python3.8/site-packages/sklearn/ensemble/_gb_losses.py:211: RuntimeWarning: overflow encountered in square\n",
      "  sample_weight * ((y - raw_predictions.ravel()) ** 2)))\n",
      "/opt/anaconda3/lib/python3.8/site-packages/sklearn/ensemble/_gb_losses.py:211: RuntimeWarning: overflow encountered in square\n",
      "  sample_weight * ((y - raw_predictions.ravel()) ** 2)))\n",
      "/opt/anaconda3/lib/python3.8/site-packages/sklearn/ensemble/_gb_losses.py:211: RuntimeWarning: overflow encountered in square\n",
      "  sample_weight * ((y - raw_predictions.ravel()) ** 2)))\n",
      "/opt/anaconda3/lib/python3.8/site-packages/sklearn/ensemble/_gb_losses.py:211: RuntimeWarning: overflow encountered in square\n",
      "  sample_weight * ((y - raw_predictions.ravel()) ** 2)))\n",
      "/opt/anaconda3/lib/python3.8/site-packages/sklearn/ensemble/_gb_losses.py:211: RuntimeWarning: overflow encountered in square\n",
      "  sample_weight * ((y - raw_predictions.ravel()) ** 2)))\n",
      "/opt/anaconda3/lib/python3.8/site-packages/sklearn/ensemble/_gb_losses.py:211: RuntimeWarning: overflow encountered in square\n",
      "  sample_weight * ((y - raw_predictions.ravel()) ** 2)))\n",
      "/opt/anaconda3/lib/python3.8/site-packages/sklearn/ensemble/_gb_losses.py:211: RuntimeWarning: overflow encountered in square\n",
      "  sample_weight * ((y - raw_predictions.ravel()) ** 2)))\n",
      "/opt/anaconda3/lib/python3.8/site-packages/sklearn/ensemble/_gb_losses.py:211: RuntimeWarning: overflow encountered in square\n",
      "  sample_weight * ((y - raw_predictions.ravel()) ** 2)))\n",
      "/opt/anaconda3/lib/python3.8/site-packages/sklearn/ensemble/_gb_losses.py:211: RuntimeWarning: overflow encountered in square\n",
      "  sample_weight * ((y - raw_predictions.ravel()) ** 2)))\n",
      "/opt/anaconda3/lib/python3.8/site-packages/sklearn/ensemble/_gb_losses.py:211: RuntimeWarning: overflow encountered in square\n",
      "  sample_weight * ((y - raw_predictions.ravel()) ** 2)))\n",
      "/opt/anaconda3/lib/python3.8/site-packages/sklearn/ensemble/_gb_losses.py:211: RuntimeWarning: overflow encountered in square\n",
      "  sample_weight * ((y - raw_predictions.ravel()) ** 2)))\n",
      "/opt/anaconda3/lib/python3.8/site-packages/sklearn/ensemble/_gb_losses.py:211: RuntimeWarning: overflow encountered in square\n",
      "  sample_weight * ((y - raw_predictions.ravel()) ** 2)))\n",
      "/opt/anaconda3/lib/python3.8/site-packages/sklearn/ensemble/_gb_losses.py:211: RuntimeWarning: overflow encountered in square\n",
      "  sample_weight * ((y - raw_predictions.ravel()) ** 2)))\n",
      "/opt/anaconda3/lib/python3.8/site-packages/sklearn/ensemble/_gb_losses.py:211: RuntimeWarning: overflow encountered in square\n",
      "  sample_weight * ((y - raw_predictions.ravel()) ** 2)))\n",
      "/opt/anaconda3/lib/python3.8/site-packages/sklearn/ensemble/_gb_losses.py:211: RuntimeWarning: overflow encountered in square\n",
      "  sample_weight * ((y - raw_predictions.ravel()) ** 2)))\n",
      "/opt/anaconda3/lib/python3.8/site-packages/sklearn/ensemble/_gb_losses.py:211: RuntimeWarning: overflow encountered in square\n",
      "  sample_weight * ((y - raw_predictions.ravel()) ** 2)))\n",
      "/opt/anaconda3/lib/python3.8/site-packages/sklearn/ensemble/_gb_losses.py:211: RuntimeWarning: overflow encountered in square\n",
      "  sample_weight * ((y - raw_predictions.ravel()) ** 2)))\n",
      "/opt/anaconda3/lib/python3.8/site-packages/sklearn/ensemble/_gb_losses.py:211: RuntimeWarning: overflow encountered in square\n",
      "  sample_weight * ((y - raw_predictions.ravel()) ** 2)))\n",
      "/opt/anaconda3/lib/python3.8/site-packages/sklearn/ensemble/_gb_losses.py:211: RuntimeWarning: overflow encountered in square\n",
      "  sample_weight * ((y - raw_predictions.ravel()) ** 2)))\n",
      "/opt/anaconda3/lib/python3.8/site-packages/sklearn/ensemble/_gb_losses.py:211: RuntimeWarning: overflow encountered in square\n",
      "  sample_weight * ((y - raw_predictions.ravel()) ** 2)))\n",
      "/opt/anaconda3/lib/python3.8/site-packages/sklearn/ensemble/_gb_losses.py:211: RuntimeWarning: overflow encountered in square\n",
      "  sample_weight * ((y - raw_predictions.ravel()) ** 2)))\n",
      "/opt/anaconda3/lib/python3.8/site-packages/sklearn/ensemble/_gb_losses.py:211: RuntimeWarning: overflow encountered in square\n",
      "  sample_weight * ((y - raw_predictions.ravel()) ** 2)))\n",
      "/opt/anaconda3/lib/python3.8/site-packages/sklearn/ensemble/_gb_losses.py:211: RuntimeWarning: overflow encountered in square\n",
      "  sample_weight * ((y - raw_predictions.ravel()) ** 2)))\n",
      "/opt/anaconda3/lib/python3.8/site-packages/sklearn/ensemble/_gb_losses.py:211: RuntimeWarning: overflow encountered in square\n",
      "  sample_weight * ((y - raw_predictions.ravel()) ** 2)))\n",
      "/opt/anaconda3/lib/python3.8/site-packages/sklearn/ensemble/_gb_losses.py:211: RuntimeWarning: overflow encountered in square\n",
      "  sample_weight * ((y - raw_predictions.ravel()) ** 2)))\n",
      "/opt/anaconda3/lib/python3.8/site-packages/sklearn/ensemble/_gb_losses.py:211: RuntimeWarning: overflow encountered in square\n",
      "  sample_weight * ((y - raw_predictions.ravel()) ** 2)))\n",
      "/opt/anaconda3/lib/python3.8/site-packages/sklearn/ensemble/_gb_losses.py:211: RuntimeWarning: overflow encountered in square\n",
      "  sample_weight * ((y - raw_predictions.ravel()) ** 2)))\n",
      "/opt/anaconda3/lib/python3.8/site-packages/sklearn/ensemble/_gb_losses.py:211: RuntimeWarning: overflow encountered in square\n",
      "  sample_weight * ((y - raw_predictions.ravel()) ** 2)))\n",
      "/opt/anaconda3/lib/python3.8/site-packages/sklearn/ensemble/_gb_losses.py:211: RuntimeWarning: overflow encountered in square\n",
      "  sample_weight * ((y - raw_predictions.ravel()) ** 2)))\n",
      "/opt/anaconda3/lib/python3.8/site-packages/sklearn/ensemble/_gb_losses.py:211: RuntimeWarning: overflow encountered in square\n",
      "  sample_weight * ((y - raw_predictions.ravel()) ** 2)))\n",
      "/opt/anaconda3/lib/python3.8/site-packages/sklearn/ensemble/_gb_losses.py:211: RuntimeWarning: overflow encountered in square\n",
      "  sample_weight * ((y - raw_predictions.ravel()) ** 2)))\n",
      "/opt/anaconda3/lib/python3.8/site-packages/sklearn/ensemble/_gb_losses.py:211: RuntimeWarning: overflow encountered in square\n",
      "  sample_weight * ((y - raw_predictions.ravel()) ** 2)))\n",
      "/opt/anaconda3/lib/python3.8/site-packages/sklearn/ensemble/_gb_losses.py:211: RuntimeWarning: overflow encountered in square\n",
      "  sample_weight * ((y - raw_predictions.ravel()) ** 2)))\n",
      "/opt/anaconda3/lib/python3.8/site-packages/sklearn/ensemble/_gb_losses.py:211: RuntimeWarning: overflow encountered in square\n",
      "  sample_weight * ((y - raw_predictions.ravel()) ** 2)))\n",
      "/opt/anaconda3/lib/python3.8/site-packages/sklearn/ensemble/_gb_losses.py:211: RuntimeWarning: overflow encountered in square\n",
      "  sample_weight * ((y - raw_predictions.ravel()) ** 2)))\n",
      "/opt/anaconda3/lib/python3.8/site-packages/sklearn/ensemble/_gb_losses.py:211: RuntimeWarning: overflow encountered in square\n",
      "  sample_weight * ((y - raw_predictions.ravel()) ** 2)))\n",
      "/opt/anaconda3/lib/python3.8/site-packages/sklearn/ensemble/_gb_losses.py:211: RuntimeWarning: overflow encountered in square\n",
      "  sample_weight * ((y - raw_predictions.ravel()) ** 2)))\n",
      "/opt/anaconda3/lib/python3.8/site-packages/sklearn/ensemble/_gb_losses.py:211: RuntimeWarning: overflow encountered in square\n",
      "  sample_weight * ((y - raw_predictions.ravel()) ** 2)))\n",
      "/opt/anaconda3/lib/python3.8/site-packages/sklearn/ensemble/_gb_losses.py:211: RuntimeWarning: overflow encountered in square\n",
      "  sample_weight * ((y - raw_predictions.ravel()) ** 2)))\n",
      "/opt/anaconda3/lib/python3.8/site-packages/sklearn/ensemble/_gb_losses.py:211: RuntimeWarning: overflow encountered in square\n",
      "  sample_weight * ((y - raw_predictions.ravel()) ** 2)))\n",
      "/opt/anaconda3/lib/python3.8/site-packages/sklearn/ensemble/_gb_losses.py:211: RuntimeWarning: overflow encountered in square\n",
      "  sample_weight * ((y - raw_predictions.ravel()) ** 2)))\n",
      "/opt/anaconda3/lib/python3.8/site-packages/sklearn/ensemble/_gb_losses.py:211: RuntimeWarning: overflow encountered in square\n",
      "  sample_weight * ((y - raw_predictions.ravel()) ** 2)))\n",
      "/opt/anaconda3/lib/python3.8/site-packages/sklearn/ensemble/_gb_losses.py:211: RuntimeWarning: overflow encountered in square\n",
      "  sample_weight * ((y - raw_predictions.ravel()) ** 2)))\n",
      "/opt/anaconda3/lib/python3.8/site-packages/sklearn/ensemble/_gb_losses.py:211: RuntimeWarning: overflow encountered in square\n",
      "  sample_weight * ((y - raw_predictions.ravel()) ** 2)))\n",
      "/opt/anaconda3/lib/python3.8/site-packages/sklearn/ensemble/_gb_losses.py:211: RuntimeWarning: overflow encountered in square\n",
      "  sample_weight * ((y - raw_predictions.ravel()) ** 2)))\n",
      "/opt/anaconda3/lib/python3.8/site-packages/sklearn/ensemble/_gb_losses.py:211: RuntimeWarning: overflow encountered in square\n",
      "  sample_weight * ((y - raw_predictions.ravel()) ** 2)))\n",
      "/opt/anaconda3/lib/python3.8/site-packages/sklearn/ensemble/_gb_losses.py:211: RuntimeWarning: overflow encountered in square\n",
      "  sample_weight * ((y - raw_predictions.ravel()) ** 2)))\n",
      "/opt/anaconda3/lib/python3.8/site-packages/sklearn/ensemble/_gb_losses.py:211: RuntimeWarning: overflow encountered in square\n",
      "  sample_weight * ((y - raw_predictions.ravel()) ** 2)))\n",
      "/opt/anaconda3/lib/python3.8/site-packages/sklearn/ensemble/_gb_losses.py:211: RuntimeWarning: overflow encountered in square\n",
      "  sample_weight * ((y - raw_predictions.ravel()) ** 2)))\n",
      "/opt/anaconda3/lib/python3.8/site-packages/sklearn/ensemble/_gb_losses.py:211: RuntimeWarning: overflow encountered in square\n",
      "  sample_weight * ((y - raw_predictions.ravel()) ** 2)))\n",
      "/opt/anaconda3/lib/python3.8/site-packages/sklearn/ensemble/_gb_losses.py:211: RuntimeWarning: overflow encountered in square\n",
      "  sample_weight * ((y - raw_predictions.ravel()) ** 2)))\n",
      "/opt/anaconda3/lib/python3.8/site-packages/sklearn/ensemble/_gb_losses.py:211: RuntimeWarning: overflow encountered in square\n",
      "  sample_weight * ((y - raw_predictions.ravel()) ** 2)))\n",
      "/opt/anaconda3/lib/python3.8/site-packages/sklearn/ensemble/_gb_losses.py:211: RuntimeWarning: overflow encountered in square\n",
      "  sample_weight * ((y - raw_predictions.ravel()) ** 2)))\n",
      "/opt/anaconda3/lib/python3.8/site-packages/sklearn/ensemble/_gb_losses.py:211: RuntimeWarning: overflow encountered in square\n",
      "  sample_weight * ((y - raw_predictions.ravel()) ** 2)))\n",
      "/opt/anaconda3/lib/python3.8/site-packages/sklearn/ensemble/_gb_losses.py:211: RuntimeWarning: overflow encountered in square\n",
      "  sample_weight * ((y - raw_predictions.ravel()) ** 2)))\n",
      "/opt/anaconda3/lib/python3.8/site-packages/sklearn/ensemble/_gb_losses.py:211: RuntimeWarning: overflow encountered in square\n",
      "  sample_weight * ((y - raw_predictions.ravel()) ** 2)))\n",
      "/opt/anaconda3/lib/python3.8/site-packages/sklearn/ensemble/_gb_losses.py:211: RuntimeWarning: overflow encountered in square\n",
      "  sample_weight * ((y - raw_predictions.ravel()) ** 2)))\n",
      "/opt/anaconda3/lib/python3.8/site-packages/sklearn/ensemble/_gb_losses.py:211: RuntimeWarning: overflow encountered in square\n",
      "  sample_weight * ((y - raw_predictions.ravel()) ** 2)))\n",
      "/opt/anaconda3/lib/python3.8/site-packages/sklearn/ensemble/_gb_losses.py:211: RuntimeWarning: overflow encountered in square\n",
      "  sample_weight * ((y - raw_predictions.ravel()) ** 2)))\n",
      "/opt/anaconda3/lib/python3.8/site-packages/sklearn/ensemble/_gb_losses.py:211: RuntimeWarning: overflow encountered in square\n",
      "  sample_weight * ((y - raw_predictions.ravel()) ** 2)))\n",
      "/opt/anaconda3/lib/python3.8/site-packages/sklearn/ensemble/_gb_losses.py:211: RuntimeWarning: overflow encountered in square\n",
      "  sample_weight * ((y - raw_predictions.ravel()) ** 2)))\n",
      "/opt/anaconda3/lib/python3.8/site-packages/sklearn/ensemble/_gb_losses.py:211: RuntimeWarning: overflow encountered in square\n",
      "  sample_weight * ((y - raw_predictions.ravel()) ** 2)))\n",
      "/opt/anaconda3/lib/python3.8/site-packages/sklearn/ensemble/_gb_losses.py:211: RuntimeWarning: overflow encountered in square\n",
      "  sample_weight * ((y - raw_predictions.ravel()) ** 2)))\n",
      "/opt/anaconda3/lib/python3.8/site-packages/sklearn/ensemble/_gb_losses.py:211: RuntimeWarning: overflow encountered in square\n",
      "  sample_weight * ((y - raw_predictions.ravel()) ** 2)))\n",
      "/opt/anaconda3/lib/python3.8/site-packages/sklearn/ensemble/_gb_losses.py:211: RuntimeWarning: overflow encountered in square\n",
      "  sample_weight * ((y - raw_predictions.ravel()) ** 2)))\n",
      "/opt/anaconda3/lib/python3.8/site-packages/sklearn/ensemble/_gb_losses.py:211: RuntimeWarning: overflow encountered in square\n",
      "  sample_weight * ((y - raw_predictions.ravel()) ** 2)))\n",
      "/opt/anaconda3/lib/python3.8/site-packages/sklearn/ensemble/_gb_losses.py:211: RuntimeWarning: overflow encountered in square\n",
      "  sample_weight * ((y - raw_predictions.ravel()) ** 2)))\n",
      "/opt/anaconda3/lib/python3.8/site-packages/sklearn/ensemble/_gb_losses.py:211: RuntimeWarning: overflow encountered in square\n",
      "  sample_weight * ((y - raw_predictions.ravel()) ** 2)))\n",
      "/opt/anaconda3/lib/python3.8/site-packages/sklearn/ensemble/_gb_losses.py:211: RuntimeWarning: overflow encountered in square\n",
      "  sample_weight * ((y - raw_predictions.ravel()) ** 2)))\n",
      "/opt/anaconda3/lib/python3.8/site-packages/sklearn/ensemble/_gb_losses.py:211: RuntimeWarning: overflow encountered in square\n",
      "  sample_weight * ((y - raw_predictions.ravel()) ** 2)))\n",
      "/opt/anaconda3/lib/python3.8/site-packages/sklearn/ensemble/_gb_losses.py:211: RuntimeWarning: overflow encountered in square\n",
      "  sample_weight * ((y - raw_predictions.ravel()) ** 2)))\n",
      "/opt/anaconda3/lib/python3.8/site-packages/sklearn/ensemble/_gb_losses.py:211: RuntimeWarning: overflow encountered in square\n",
      "  sample_weight * ((y - raw_predictions.ravel()) ** 2)))\n",
      "/opt/anaconda3/lib/python3.8/site-packages/sklearn/ensemble/_gb_losses.py:211: RuntimeWarning: overflow encountered in square\n",
      "  sample_weight * ((y - raw_predictions.ravel()) ** 2)))\n",
      "/opt/anaconda3/lib/python3.8/site-packages/sklearn/ensemble/_gb_losses.py:211: RuntimeWarning: overflow encountered in square\n",
      "  sample_weight * ((y - raw_predictions.ravel()) ** 2)))\n",
      "/opt/anaconda3/lib/python3.8/site-packages/sklearn/ensemble/_gb_losses.py:211: RuntimeWarning: overflow encountered in square\n",
      "  sample_weight * ((y - raw_predictions.ravel()) ** 2)))\n",
      "/opt/anaconda3/lib/python3.8/site-packages/sklearn/ensemble/_gb_losses.py:211: RuntimeWarning: overflow encountered in square\n",
      "  sample_weight * ((y - raw_predictions.ravel()) ** 2)))\n",
      "/opt/anaconda3/lib/python3.8/site-packages/sklearn/ensemble/_gb_losses.py:211: RuntimeWarning: overflow encountered in square\n",
      "  sample_weight * ((y - raw_predictions.ravel()) ** 2)))\n",
      "/opt/anaconda3/lib/python3.8/site-packages/sklearn/ensemble/_gb_losses.py:211: RuntimeWarning: overflow encountered in square\n",
      "  sample_weight * ((y - raw_predictions.ravel()) ** 2)))\n",
      "/opt/anaconda3/lib/python3.8/site-packages/sklearn/ensemble/_gb_losses.py:211: RuntimeWarning: overflow encountered in square\n",
      "  sample_weight * ((y - raw_predictions.ravel()) ** 2)))\n",
      "/opt/anaconda3/lib/python3.8/site-packages/sklearn/ensemble/_gb_losses.py:211: RuntimeWarning: overflow encountered in square\n",
      "  sample_weight * ((y - raw_predictions.ravel()) ** 2)))\n",
      "/opt/anaconda3/lib/python3.8/site-packages/sklearn/ensemble/_gb_losses.py:211: RuntimeWarning: overflow encountered in square\n",
      "  sample_weight * ((y - raw_predictions.ravel()) ** 2)))\n",
      "/opt/anaconda3/lib/python3.8/site-packages/sklearn/ensemble/_gb_losses.py:211: RuntimeWarning: overflow encountered in square\n",
      "  sample_weight * ((y - raw_predictions.ravel()) ** 2)))\n",
      "/opt/anaconda3/lib/python3.8/site-packages/sklearn/ensemble/_gb_losses.py:211: RuntimeWarning: overflow encountered in square\n",
      "  sample_weight * ((y - raw_predictions.ravel()) ** 2)))\n",
      "/opt/anaconda3/lib/python3.8/site-packages/sklearn/ensemble/_gb_losses.py:211: RuntimeWarning: overflow encountered in square\n",
      "  sample_weight * ((y - raw_predictions.ravel()) ** 2)))\n",
      "/opt/anaconda3/lib/python3.8/site-packages/sklearn/ensemble/_gb_losses.py:211: RuntimeWarning: overflow encountered in square\n",
      "  sample_weight * ((y - raw_predictions.ravel()) ** 2)))\n",
      "/opt/anaconda3/lib/python3.8/site-packages/sklearn/ensemble/_gb_losses.py:211: RuntimeWarning: overflow encountered in square\n",
      "  sample_weight * ((y - raw_predictions.ravel()) ** 2)))\n",
      "/opt/anaconda3/lib/python3.8/site-packages/sklearn/ensemble/_gb_losses.py:211: RuntimeWarning: overflow encountered in square\n",
      "  sample_weight * ((y - raw_predictions.ravel()) ** 2)))\n",
      "/opt/anaconda3/lib/python3.8/site-packages/sklearn/ensemble/_gb_losses.py:211: RuntimeWarning: overflow encountered in square\n",
      "  sample_weight * ((y - raw_predictions.ravel()) ** 2)))\n",
      "/opt/anaconda3/lib/python3.8/site-packages/sklearn/ensemble/_gb_losses.py:211: RuntimeWarning: overflow encountered in square\n",
      "  sample_weight * ((y - raw_predictions.ravel()) ** 2)))\n",
      "/opt/anaconda3/lib/python3.8/site-packages/sklearn/ensemble/_gb_losses.py:211: RuntimeWarning: overflow encountered in square\n",
      "  sample_weight * ((y - raw_predictions.ravel()) ** 2)))\n",
      "/opt/anaconda3/lib/python3.8/site-packages/sklearn/ensemble/_gb_losses.py:211: RuntimeWarning: overflow encountered in square\n",
      "  sample_weight * ((y - raw_predictions.ravel()) ** 2)))\n",
      "/opt/anaconda3/lib/python3.8/site-packages/sklearn/metrics/_regression.py:598: RuntimeWarning: overflow encountered in square\n",
      "  numerator = (weight * (y_true - y_pred) ** 2).sum(axis=0,\n",
      "/opt/anaconda3/lib/python3.8/site-packages/sklearn/ensemble/_gb_losses.py:211: RuntimeWarning: overflow encountered in square\n",
      "  sample_weight * ((y - raw_predictions.ravel()) ** 2)))\n",
      "/opt/anaconda3/lib/python3.8/site-packages/sklearn/ensemble/_gb_losses.py:211: RuntimeWarning: overflow encountered in square\n",
      "  sample_weight * ((y - raw_predictions.ravel()) ** 2)))\n",
      "/opt/anaconda3/lib/python3.8/site-packages/sklearn/ensemble/_gb_losses.py:211: RuntimeWarning: overflow encountered in square\n",
      "  sample_weight * ((y - raw_predictions.ravel()) ** 2)))\n",
      "/opt/anaconda3/lib/python3.8/site-packages/sklearn/ensemble/_gb_losses.py:211: RuntimeWarning: overflow encountered in square\n",
      "  sample_weight * ((y - raw_predictions.ravel()) ** 2)))\n",
      "/opt/anaconda3/lib/python3.8/site-packages/sklearn/ensemble/_gb_losses.py:211: RuntimeWarning: overflow encountered in square\n",
      "  sample_weight * ((y - raw_predictions.ravel()) ** 2)))\n",
      "/opt/anaconda3/lib/python3.8/site-packages/sklearn/ensemble/_gb_losses.py:211: RuntimeWarning: overflow encountered in square\n",
      "  sample_weight * ((y - raw_predictions.ravel()) ** 2)))\n",
      "/opt/anaconda3/lib/python3.8/site-packages/sklearn/ensemble/_gb_losses.py:211: RuntimeWarning: overflow encountered in square\n",
      "  sample_weight * ((y - raw_predictions.ravel()) ** 2)))\n",
      "/opt/anaconda3/lib/python3.8/site-packages/sklearn/ensemble/_gb_losses.py:211: RuntimeWarning: overflow encountered in square\n",
      "  sample_weight * ((y - raw_predictions.ravel()) ** 2)))\n",
      "/opt/anaconda3/lib/python3.8/site-packages/sklearn/ensemble/_gb_losses.py:211: RuntimeWarning: overflow encountered in square\n",
      "  sample_weight * ((y - raw_predictions.ravel()) ** 2)))\n",
      "/opt/anaconda3/lib/python3.8/site-packages/sklearn/metrics/_regression.py:598: RuntimeWarning: overflow encountered in square\n",
      "  numerator = (weight * (y_true - y_pred) ** 2).sum(axis=0,\n",
      "/opt/anaconda3/lib/python3.8/site-packages/sklearn/model_selection/_search.py:813: RuntimeWarning: invalid value encountered in subtract\n",
      "  array_stds = np.sqrt(np.average((array -\n"
     ]
    }
   ],
   "source": [
    "with parallel_backend('threading'):\n",
    "    gb_random_cv.fit(X_train, y_train)"
   ]
  },
  {
   "cell_type": "code",
   "execution_count": 98,
   "metadata": {},
   "outputs": [
    {
     "data": {
      "text/plain": [
       "{'n_estimators': 12, 'max_depth': 4, 'learning_rate': 0.1}"
      ]
     },
     "execution_count": 98,
     "metadata": {},
     "output_type": "execute_result"
    }
   ],
   "source": [
    "gb_random_cv.best_params_"
   ]
  },
  {
   "cell_type": "code",
   "execution_count": 99,
   "metadata": {},
   "outputs": [
    {
     "data": {
      "text/plain": [
       "0.10465974626189356"
      ]
     },
     "execution_count": 99,
     "metadata": {},
     "output_type": "execute_result"
    }
   ],
   "source": [
    "gb = GradientBoostingRegressor(n_estimators=12, max_depth=4, learning_rate=0.1)\n",
    "gb.fit(X_train, y_train)\n",
    "gb.score(X_train, y_train)"
   ]
  },
  {
   "cell_type": "code",
   "execution_count": 100,
   "metadata": {},
   "outputs": [
    {
     "data": {
      "text/plain": [
       "array([0.07222386, 0.09248403, 0.08768141, 0.07059927, 0.0692522 ])"
      ]
     },
     "execution_count": 100,
     "metadata": {},
     "output_type": "execute_result"
    }
   ],
   "source": [
    "gb_cv = cross_validate(gb, X_train, y_train, cv=5)\n",
    "gb_cv_scores = gb_cv['test_score']\n",
    "gb_cv_scores"
   ]
  },
  {
   "cell_type": "code",
   "execution_count": 101,
   "metadata": {},
   "outputs": [
    {
     "data": {
      "text/plain": [
       "(0.0784481543685726, 0.009666138985732113)"
      ]
     },
     "execution_count": 101,
     "metadata": {},
     "output_type": "execute_result"
    }
   ],
   "source": [
    "np.mean(gb_cv_scores), np.std(gb_cv_scores)"
   ]
  },
  {
   "cell_type": "code",
   "execution_count": 102,
   "metadata": {},
   "outputs": [
    {
     "name": "stdout",
     "output_type": "stream",
     "text": [
      "RMSE :  0.962661\n"
     ]
    }
   ],
   "source": [
    "gb_pred = gb.predict(X_test)\n",
    "rmse_gb = np.sqrt(mean_squared_error(y_test, gb_pred))\n",
    "print(\"RMSE : % f\" %(rmse_gb))"
   ]
  },
  {
   "cell_type": "markdown",
   "metadata": {},
   "source": [
    "### KNeighborsRegressor"
   ]
  },
  {
   "cell_type": "code",
   "execution_count": 103,
   "metadata": {},
   "outputs": [
    {
     "data": {
      "text/plain": [
       "0.4341712634231919"
      ]
     },
     "execution_count": 103,
     "metadata": {},
     "output_type": "execute_result"
    }
   ],
   "source": [
    "kn = KNeighborsRegressor(n_neighbors=25, weights='distance')\n",
    "kn.fit(X_train, y_train)\n",
    "kn.score(X_train, y_train)"
   ]
  },
  {
   "cell_type": "code",
   "execution_count": 104,
   "metadata": {},
   "outputs": [
    {
     "data": {
      "text/plain": [
       "(-0.03266607198484026, 0.05799061146759032)"
      ]
     },
     "execution_count": 104,
     "metadata": {},
     "output_type": "execute_result"
    }
   ],
   "source": [
    "kn_cv = cross_validate(kn, X_train, y_train, cv=5)\n",
    "kn_cv_scores_preopt = kn_cv['test_score']\n",
    "np.mean(kn_cv_scores_preopt), np.std(kn_cv_scores_preopt)"
   ]
  },
  {
   "cell_type": "code",
   "execution_count": 105,
   "metadata": {},
   "outputs": [
    {
     "name": "stdout",
     "output_type": "stream",
     "text": [
      "RMSE :  1.040748\n"
     ]
    }
   ],
   "source": [
    "kn_pred = kn.predict(X_test)\n",
    "rmse_kn_preopt = np.sqrt(mean_squared_error(y_test, kn_pred))\n",
    "print(\"RMSE : % f\" %(rmse_kn_preopt))"
   ]
  },
  {
   "cell_type": "code",
   "execution_count": 106,
   "metadata": {},
   "outputs": [],
   "source": [
    "n_est = [int(n) for n in np.logspace(start=1, stop=3, num=20)]\n",
    "grid_params = {\n",
    "        'weights': ['uniform', 'distance'],\n",
    "        'n_neighbors': n_est,\n",
    "        'p': [1, 2]\n",
    "}\n",
    "\n",
    "kn_random_cv = RandomizedSearchCV(kn, param_distributions=grid_params, cv=5, n_jobs=-1)"
   ]
  },
  {
   "cell_type": "code",
   "execution_count": 107,
   "metadata": {},
   "outputs": [],
   "source": [
    "with parallel_backend('threading'):\n",
    "    kn_random_cv.fit(X_train, y_train)"
   ]
  },
  {
   "cell_type": "code",
   "execution_count": 108,
   "metadata": {},
   "outputs": [
    {
     "data": {
      "text/plain": [
       "{'weights': 'uniform', 'p': 1, 'n_neighbors': 143}"
      ]
     },
     "execution_count": 108,
     "metadata": {},
     "output_type": "execute_result"
    }
   ],
   "source": [
    "kn_random_cv.best_params_"
   ]
  },
  {
   "cell_type": "code",
   "execution_count": 109,
   "metadata": {},
   "outputs": [
    {
     "data": {
      "text/plain": [
       "0.09116551185529542"
      ]
     },
     "execution_count": 109,
     "metadata": {},
     "output_type": "execute_result"
    }
   ],
   "source": [
    "kn = KNeighborsRegressor(n_neighbors=143, weights='uniform', p=1)\n",
    "kn.fit(X_train, y_train)\n",
    "kn.score(X_train, y_train)"
   ]
  },
  {
   "cell_type": "code",
   "execution_count": 110,
   "metadata": {},
   "outputs": [
    {
     "data": {
      "text/plain": [
       "(0.07581337579892741, 0.013035914247258001)"
      ]
     },
     "execution_count": 110,
     "metadata": {},
     "output_type": "execute_result"
    }
   ],
   "source": [
    "kn_cv = cross_validate(kn, X_train, y_train, cv=5)\n",
    "kn_cv_scores = kn_cv['test_score']\n",
    "np.mean(kn_cv_scores), np.std(kn_cv_scores)"
   ]
  },
  {
   "cell_type": "code",
   "execution_count": 111,
   "metadata": {},
   "outputs": [
    {
     "name": "stdout",
     "output_type": "stream",
     "text": [
      "RMSE :  0.966950\n"
     ]
    }
   ],
   "source": [
    "kn_pred = kn.predict(X_test)\n",
    "rmse_kn = np.sqrt(mean_squared_error(y_test, kn_pred))\n",
    "print(\"RMSE : % f\" %(rmse_kn))"
   ]
  },
  {
   "cell_type": "markdown",
   "metadata": {},
   "source": [
    "### XGBoost"
   ]
  },
  {
   "cell_type": "code",
   "execution_count": 112,
   "metadata": {},
   "outputs": [
    {
     "name": "stderr",
     "output_type": "stream",
     "text": [
      "/opt/anaconda3/lib/python3.8/site-packages/xgboost/data.py:112: UserWarning: Use subset (sliced data) of np.ndarray is not recommended because it will generate extra copies and increase memory consumption\n",
      "  warnings.warn(\n"
     ]
    },
    {
     "data": {
      "text/plain": [
       "0.3427697163946294"
      ]
     },
     "execution_count": 112,
     "metadata": {},
     "output_type": "execute_result"
    }
   ],
   "source": [
    "xg = xgb.XGBRegressor(objective ='reg:squarederror', n_estimators = 50)\n",
    "xg.fit(X_train, y_train)\n",
    "xg.score(X_train, y_train)"
   ]
  },
  {
   "cell_type": "code",
   "execution_count": 113,
   "metadata": {},
   "outputs": [
    {
     "name": "stderr",
     "output_type": "stream",
     "text": [
      "/opt/anaconda3/lib/python3.8/site-packages/xgboost/data.py:112: UserWarning: Use subset (sliced data) of np.ndarray is not recommended because it will generate extra copies and increase memory consumption\n",
      "  warnings.warn(\n",
      "/opt/anaconda3/lib/python3.8/site-packages/xgboost/data.py:112: UserWarning: Use subset (sliced data) of np.ndarray is not recommended because it will generate extra copies and increase memory consumption\n",
      "  warnings.warn(\n",
      "/opt/anaconda3/lib/python3.8/site-packages/xgboost/data.py:112: UserWarning: Use subset (sliced data) of np.ndarray is not recommended because it will generate extra copies and increase memory consumption\n",
      "  warnings.warn(\n",
      "/opt/anaconda3/lib/python3.8/site-packages/xgboost/data.py:112: UserWarning: Use subset (sliced data) of np.ndarray is not recommended because it will generate extra copies and increase memory consumption\n",
      "  warnings.warn(\n",
      "/opt/anaconda3/lib/python3.8/site-packages/xgboost/data.py:112: UserWarning: Use subset (sliced data) of np.ndarray is not recommended because it will generate extra copies and increase memory consumption\n",
      "  warnings.warn(\n"
     ]
    },
    {
     "data": {
      "text/plain": [
       "(-0.001412215580556242, 0.021037048338566924)"
      ]
     },
     "execution_count": 113,
     "metadata": {},
     "output_type": "execute_result"
    }
   ],
   "source": [
    "xg_cv = cross_validate(xg, X_train, y_train, cv=5)\n",
    "xg_cv_scores_preopt = xg_cv['test_score']\n",
    "np.mean(xg_cv_scores_preopt), np.std(xg_cv_scores_preopt)"
   ]
  },
  {
   "cell_type": "code",
   "execution_count": 114,
   "metadata": {},
   "outputs": [
    {
     "name": "stdout",
     "output_type": "stream",
     "text": [
      "RMSE :  0.992280\n"
     ]
    },
    {
     "name": "stderr",
     "output_type": "stream",
     "text": [
      "/opt/anaconda3/lib/python3.8/site-packages/xgboost/data.py:112: UserWarning: Use subset (sliced data) of np.ndarray is not recommended because it will generate extra copies and increase memory consumption\n",
      "  warnings.warn(\n"
     ]
    }
   ],
   "source": [
    "xg_pred = xg.predict(X_test)\n",
    "rmse_xg_preopt = np.sqrt(mean_squared_error(y_test, xg_pred))\n",
    "print(\"RMSE : % f\" %(rmse_xg_preopt))"
   ]
  },
  {
   "cell_type": "code",
   "execution_count": 115,
   "metadata": {},
   "outputs": [],
   "source": [
    "n_est = [int(n) for n in np.logspace(start=1, stop=3, num=20)]\n",
    "grid_params = {\n",
    "        'objective': ['reg:squarederror', 'reg:squaredlogerror', 'reg:logistic'],\n",
    "        'n_estimators': n_est,\n",
    "}\n",
    "\n",
    "xg_random_cv = RandomizedSearchCV(xg, param_distributions=grid_params, cv=5, n_jobs=-1)"
   ]
  },
  {
   "cell_type": "code",
   "execution_count": 116,
   "metadata": {},
   "outputs": [
    {
     "data": {
      "text/plain": [
       "RandomizedSearchCV(cv=5,\n",
       "                   estimator=XGBRegressor(base_score=0.5, booster='gbtree',\n",
       "                                          colsample_bylevel=1,\n",
       "                                          colsample_bynode=1,\n",
       "                                          colsample_bytree=1, gamma=0,\n",
       "                                          gpu_id=-1, importance_type='gain',\n",
       "                                          interaction_constraints='',\n",
       "                                          learning_rate=0.300000012,\n",
       "                                          max_delta_step=0, max_depth=6,\n",
       "                                          min_child_weight=1, missing=nan,\n",
       "                                          monotone_constraints='()',\n",
       "                                          n_estimators=50, n_jobs=8,\n",
       "                                          num_parallel_tree=1, random_state=0,\n",
       "                                          reg_alpha=0, reg_lambda=1,\n",
       "                                          scale_pos_weight=1, subsample=1,\n",
       "                                          tree_method='exact',\n",
       "                                          validate_parameters=1,\n",
       "                                          verbosity=None),\n",
       "                   n_jobs=-1,\n",
       "                   param_distributions={'n_estimators': [10, 12, 16, 20, 26, 33,\n",
       "                                                         42, 54, 69, 88, 112,\n",
       "                                                         143, 183, 233, 297,\n",
       "                                                         379, 483, 615, 784,\n",
       "                                                         1000],\n",
       "                                        'objective': ['reg:squarederror',\n",
       "                                                      'reg:squaredlogerror',\n",
       "                                                      'reg:logistic']})"
      ]
     },
     "execution_count": 116,
     "metadata": {},
     "output_type": "execute_result"
    }
   ],
   "source": [
    "xg_random_cv.fit(X_train, y_train)"
   ]
  },
  {
   "cell_type": "code",
   "execution_count": 117,
   "metadata": {},
   "outputs": [
    {
     "data": {
      "text/plain": [
       "{'objective': 'reg:squarederror', 'n_estimators': 12}"
      ]
     },
     "execution_count": 117,
     "metadata": {},
     "output_type": "execute_result"
    }
   ],
   "source": [
    "xg_random_cv.best_params_"
   ]
  },
  {
   "cell_type": "code",
   "execution_count": 118,
   "metadata": {},
   "outputs": [
    {
     "name": "stderr",
     "output_type": "stream",
     "text": [
      "/opt/anaconda3/lib/python3.8/site-packages/xgboost/data.py:112: UserWarning: Use subset (sliced data) of np.ndarray is not recommended because it will generate extra copies and increase memory consumption\n",
      "  warnings.warn(\n"
     ]
    },
    {
     "data": {
      "text/plain": [
       "0.24393923329017453"
      ]
     },
     "execution_count": 118,
     "metadata": {},
     "output_type": "execute_result"
    }
   ],
   "source": [
    "xg = xgb.XGBRegressor(objective ='reg:squarederror', n_estimators = 12)\n",
    "xg.fit(X_train, y_train)\n",
    "xg.score(X_train, y_train)"
   ]
  },
  {
   "cell_type": "code",
   "execution_count": 119,
   "metadata": {},
   "outputs": [
    {
     "name": "stderr",
     "output_type": "stream",
     "text": [
      "/opt/anaconda3/lib/python3.8/site-packages/xgboost/data.py:112: UserWarning: Use subset (sliced data) of np.ndarray is not recommended because it will generate extra copies and increase memory consumption\n",
      "  warnings.warn(\n",
      "/opt/anaconda3/lib/python3.8/site-packages/xgboost/data.py:112: UserWarning: Use subset (sliced data) of np.ndarray is not recommended because it will generate extra copies and increase memory consumption\n",
      "  warnings.warn(\n",
      "/opt/anaconda3/lib/python3.8/site-packages/xgboost/data.py:112: UserWarning: Use subset (sliced data) of np.ndarray is not recommended because it will generate extra copies and increase memory consumption\n",
      "  warnings.warn(\n",
      "/opt/anaconda3/lib/python3.8/site-packages/xgboost/data.py:112: UserWarning: Use subset (sliced data) of np.ndarray is not recommended because it will generate extra copies and increase memory consumption\n",
      "  warnings.warn(\n",
      "/opt/anaconda3/lib/python3.8/site-packages/xgboost/data.py:112: UserWarning: Use subset (sliced data) of np.ndarray is not recommended because it will generate extra copies and increase memory consumption\n",
      "  warnings.warn(\n"
     ]
    },
    {
     "data": {
      "text/plain": [
       "(0.07447023107612856, 0.025500566109289923)"
      ]
     },
     "execution_count": 119,
     "metadata": {},
     "output_type": "execute_result"
    }
   ],
   "source": [
    "xg_cv = cross_validate(xg, X_train, y_train, cv=5)\n",
    "xg_cv_scores = xg_cv['test_score']\n",
    "np.mean(xg_cv_scores), np.std(xg_cv_scores)"
   ]
  },
  {
   "cell_type": "code",
   "execution_count": 120,
   "metadata": {},
   "outputs": [
    {
     "name": "stdout",
     "output_type": "stream",
     "text": [
      "RMSE :  0.963860\n"
     ]
    },
    {
     "name": "stderr",
     "output_type": "stream",
     "text": [
      "/opt/anaconda3/lib/python3.8/site-packages/xgboost/data.py:112: UserWarning: Use subset (sliced data) of np.ndarray is not recommended because it will generate extra copies and increase memory consumption\n",
      "  warnings.warn(\n"
     ]
    }
   ],
   "source": [
    "xg_pred = xg.predict(X_test)\n",
    "rmse_xg = np.sqrt(mean_squared_error(y_test, xg_pred))\n",
    "print(\"RMSE : % f\" %(rmse_xg))"
   ]
  },
  {
   "cell_type": "markdown",
   "metadata": {},
   "source": [
    "### Model Comparisons"
   ]
  },
  {
   "cell_type": "code",
   "execution_count": 123,
   "metadata": {},
   "outputs": [
    {
     "data": {
      "text/html": [
       "<div>\n",
       "<style scoped>\n",
       "    .dataframe tbody tr th:only-of-type {\n",
       "        vertical-align: middle;\n",
       "    }\n",
       "\n",
       "    .dataframe tbody tr th {\n",
       "        vertical-align: top;\n",
       "    }\n",
       "\n",
       "    .dataframe thead th {\n",
       "        text-align: right;\n",
       "    }\n",
       "</style>\n",
       "<table border=\"1\" class=\"dataframe\">\n",
       "  <thead>\n",
       "    <tr style=\"text-align: right;\">\n",
       "      <th></th>\n",
       "      <th>CV Score</th>\n",
       "      <th>RMSE</th>\n",
       "    </tr>\n",
       "  </thead>\n",
       "  <tbody>\n",
       "    <tr>\n",
       "      <th>RandomForest</th>\n",
       "      <td>0.08283</td>\n",
       "      <td>0.95755</td>\n",
       "    </tr>\n",
       "    <tr>\n",
       "      <th>GradientBoosting</th>\n",
       "      <td>0.07845</td>\n",
       "      <td>0.96266</td>\n",
       "    </tr>\n",
       "    <tr>\n",
       "      <th>KNNeighbors</th>\n",
       "      <td>0.07581</td>\n",
       "      <td>0.96695</td>\n",
       "    </tr>\n",
       "    <tr>\n",
       "      <th>XGBoost</th>\n",
       "      <td>0.07447</td>\n",
       "      <td>0.96386</td>\n",
       "    </tr>\n",
       "  </tbody>\n",
       "</table>\n",
       "</div>"
      ],
      "text/plain": [
       "                  CV Score    RMSE\n",
       "RandomForest       0.08283 0.95755\n",
       "GradientBoosting   0.07845 0.96266\n",
       "KNNeighbors        0.07581 0.96695\n",
       "XGBoost            0.07447 0.96386"
      ]
     },
     "execution_count": 123,
     "metadata": {},
     "output_type": "execute_result"
    }
   ],
   "source": [
    "model_scores = pd.DataFrame({'CV Score': [np.mean(rf_cv_scores), np.mean(gb_cv_scores), np.mean(kn_cv_scores), np.mean(xg_cv_scores)], 'RMSE': [rmse_rf, rmse_gb, rmse_kn, rmse_xg]}, index=['RandomForest', 'GradientBoosting', 'KNNeighbors', 'XGBoost'])\n",
    "model_scores"
   ]
  },
  {
   "cell_type": "code",
   "execution_count": 124,
   "metadata": {},
   "outputs": [
    {
     "name": "stdout",
     "output_type": "stream",
     "text": [
      "Model with best CV Score: XGBoost\n",
      "Model with best RMSE: RandomForest\n"
     ]
    }
   ],
   "source": [
    "model_scores_pos = model_scores[model_scores >= 0]\n",
    "print(\"Model with best CV Score:\", model_scores_pos['CV Score'].idxmin())\n",
    "print(\"Model with best RMSE:\", model_scores_pos['RMSE'].idxmin())"
   ]
  },
  {
   "cell_type": "markdown",
   "metadata": {},
   "source": [
    "I've run through these multiple times and up until this iteration GradientBoosting was consistently ahead. Now all of the scores are very close. I'm going to write a function that does the randomsearch multiple times for each and picks the best params of the best run."
   ]
  },
  {
   "cell_type": "code",
   "execution_count": null,
   "metadata": {},
   "outputs": [],
   "source": []
  }
 ],
 "metadata": {
  "kernelspec": {
   "display_name": "Python 3",
   "language": "python",
   "name": "python3"
  },
  "language_info": {
   "codemirror_mode": {
    "name": "ipython",
    "version": 3
   },
   "file_extension": ".py",
   "mimetype": "text/x-python",
   "name": "python",
   "nbconvert_exporter": "python",
   "pygments_lexer": "ipython3",
   "version": "3.8.3"
  }
 },
 "nbformat": 4,
 "nbformat_minor": 4
}
