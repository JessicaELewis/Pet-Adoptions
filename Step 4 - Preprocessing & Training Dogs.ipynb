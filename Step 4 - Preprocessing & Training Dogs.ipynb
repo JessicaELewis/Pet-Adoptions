{
 "cells": [
  {
   "cell_type": "markdown",
   "metadata": {},
   "source": [
    "# Preprocessing & Training\n",
    "\n",
    "### Goal:\n",
    "<p>Create a cleaned development dataset you can use to complete the modeling step of your project.</p>\n",
    "\n",
    "### Steps:\n",
    "<ul><li>Create dummy or indicator features for categorical variables</li><li>Standardize the magnitude of numeric features using a scaler</li><li>Split into testing and training datasets</li></ul>\n",
    "Review the following questions and apply them to your dataset:<ul><li>Does my data set have any categorical data, such as Gender or day of the week?</li><li>Do my features have data values that range from 0 - 100 or 0-1 or both and more?  </li></ul>"
   ]
  },
  {
   "cell_type": "code",
   "execution_count": 55,
   "metadata": {},
   "outputs": [],
   "source": [
    "import numpy as np\n",
    "import pandas as pd\n",
    "from sklearn.pipeline import make_pipeline\n",
    "from sklearn.preprocessing import StandardScaler, MinMaxScaler\n",
    "from sklearn.ensemble import RandomForestRegressor\n",
    "from sklearn.model_selection import train_test_split, cross_validate, GridSearchCV, learning_curve\n",
    "\n",
    "from library.sb_utils import save_file"
   ]
  },
  {
   "cell_type": "code",
   "execution_count": 56,
   "metadata": {},
   "outputs": [],
   "source": [
    "pd.set_option('display.expand_frame_repr', False)\n",
    "pd.set_option('display.precision', 2)\n",
    "pd.set_option('display.max_rows', None)\n",
    "pd.set_option('display.max_columns', None)\n",
    "pd.set_option('display.width', None)\n",
    "pd.set_option('display.max_colwidth', None)\n",
    "\n",
    "pd.set_option('display.float_format', lambda x: '%.5f' % x)"
   ]
  },
  {
   "cell_type": "code",
   "execution_count": 57,
   "metadata": {},
   "outputs": [
    {
     "name": "stdout",
     "output_type": "stream",
     "text": [
      "<class 'pandas.core.frame.DataFrame'>\n",
      "RangeIndex: 6970 entries, 0 to 6969\n",
      "Data columns (total 23 columns):\n",
      " #   Column                 Non-Null Count  Dtype  \n",
      "---  ------                 --------------  -----  \n",
      " 0   age                    6970 non-null   object \n",
      " 1   gender                 6970 non-null   object \n",
      " 2   size                   6970 non-null   object \n",
      " 3   coat                   6970 non-null   object \n",
      " 4   distance               6970 non-null   float64\n",
      " 5   spayed_neutered        6970 non-null   bool   \n",
      " 6   house_trained          6970 non-null   bool   \n",
      " 7   special_needs          6970 non-null   bool   \n",
      " 8   shots_current          6970 non-null   bool   \n",
      " 9   breed_primary          6970 non-null   object \n",
      " 10  breed_secondary        6970 non-null   object \n",
      " 11  breed_mixed            6970 non-null   bool   \n",
      " 12  color_primary          6970 non-null   object \n",
      " 13  color_secondary        6970 non-null   object \n",
      " 14  color_tertiary         6970 non-null   object \n",
      " 15  goodwith_children      6970 non-null   object \n",
      " 16  goodwith_dogs          6970 non-null   object \n",
      " 17  goodwith_cats          6970 non-null   object \n",
      " 18  hasimage               6970 non-null   bool   \n",
      " 19  hasvideo               6970 non-null   bool   \n",
      " 20  duration_as_adoptable  6970 non-null   float64\n",
      " 21  city                   6970 non-null   object \n",
      " 22  population             6970 non-null   float64\n",
      "dtypes: bool(7), float64(3), object(13)\n",
      "memory usage: 919.0+ KB\n"
     ]
    }
   ],
   "source": [
    "adopted = pd.read_csv('data/dogs_trimmed.csv')\n",
    "adopted.info()"
   ]
  },
  {
   "cell_type": "markdown",
   "metadata": {},
   "source": [
    "## Dummies!\n",
    "### After converting bools to ints, of course"
   ]
  },
  {
   "cell_type": "code",
   "execution_count": 58,
   "metadata": {},
   "outputs": [
    {
     "name": "stderr",
     "output_type": "stream",
     "text": [
      "/opt/anaconda3/lib/python3.8/site-packages/pandas/core/indexing.py:966: SettingWithCopyWarning: \n",
      "A value is trying to be set on a copy of a slice from a DataFrame.\n",
      "Try using .loc[row_indexer,col_indexer] = value instead\n",
      "\n",
      "See the caveats in the documentation: https://pandas.pydata.org/pandas-docs/stable/user_guide/indexing.html#returning-a-view-versus-a-copy\n",
      "  self.obj[item] = s\n"
     ]
    }
   ],
   "source": [
    "df = adopted[['gender', 'size', 'coat', 'duration_as_adoptable', 'hasimage', 'hasvideo', 'spayed_neutered', 'house_trained', 'special_needs', 'shots_current', 'goodwith_children', 'goodwith_dogs', 'goodwith_cats']]\n",
    "df.loc[:, ['hasimage', 'hasvideo', 'spayed_neutered', 'house_trained', 'special_needs', 'shots_current']] = adopted.loc[:, ['hasimage', 'hasvideo', 'spayed_neutered', 'house_trained', 'special_needs', 'shots_current']].astype('int64')\n",
    "df = pd.get_dummies(df)"
   ]
  },
  {
   "cell_type": "code",
   "execution_count": 59,
   "metadata": {},
   "outputs": [],
   "source": [
    "# drop one of each of the dummy category columns so those features don't double-weight anything\n",
    "df.drop(['size_Extra Large', 'gender_Female', 'coat_Hairless', 'goodwith_children_False', 'goodwith_dogs_False', 'goodwith_cats_False'], axis=1, inplace=True)"
   ]
  },
  {
   "cell_type": "markdown",
   "metadata": {},
   "source": [
    "## Scaling using StandardScaler()"
   ]
  },
  {
   "cell_type": "code",
   "execution_count": 60,
   "metadata": {},
   "outputs": [],
   "source": [
    "scaler = StandardScaler()\n",
    "scaled = scaler.fit_transform(df)"
   ]
  },
  {
   "cell_type": "code",
   "execution_count": 61,
   "metadata": {},
   "outputs": [
    {
     "data": {
      "text/html": [
       "<div>\n",
       "<style scoped>\n",
       "    .dataframe tbody tr th:only-of-type {\n",
       "        vertical-align: middle;\n",
       "    }\n",
       "\n",
       "    .dataframe tbody tr th {\n",
       "        vertical-align: top;\n",
       "    }\n",
       "\n",
       "    .dataframe thead th {\n",
       "        text-align: right;\n",
       "    }\n",
       "</style>\n",
       "<table border=\"1\" class=\"dataframe\">\n",
       "  <thead>\n",
       "    <tr style=\"text-align: right;\">\n",
       "      <th></th>\n",
       "      <th>duration_as_adoptable</th>\n",
       "      <th>hasimage</th>\n",
       "      <th>hasvideo</th>\n",
       "      <th>spayed_neutered</th>\n",
       "      <th>house_trained</th>\n",
       "      <th>special_needs</th>\n",
       "      <th>shots_current</th>\n",
       "      <th>gender_Male</th>\n",
       "      <th>size_Large</th>\n",
       "      <th>size_Medium</th>\n",
       "      <th>size_Small</th>\n",
       "      <th>coat_Curly</th>\n",
       "      <th>coat_Long</th>\n",
       "      <th>coat_Medium</th>\n",
       "      <th>coat_Short</th>\n",
       "      <th>coat_Wire</th>\n",
       "      <th>coat_unknown</th>\n",
       "      <th>goodwith_children_True</th>\n",
       "      <th>goodwith_children_unknown</th>\n",
       "      <th>goodwith_dogs_True</th>\n",
       "      <th>goodwith_dogs_unknown</th>\n",
       "      <th>goodwith_cats_True</th>\n",
       "      <th>goodwith_cats_unknown</th>\n",
       "    </tr>\n",
       "  </thead>\n",
       "  <tbody>\n",
       "    <tr>\n",
       "      <th>count</th>\n",
       "      <td>6970.00000</td>\n",
       "      <td>6970.00000</td>\n",
       "      <td>6970.00000</td>\n",
       "      <td>6970.00000</td>\n",
       "      <td>6970.00000</td>\n",
       "      <td>6970.00000</td>\n",
       "      <td>6970.00000</td>\n",
       "      <td>6970.00000</td>\n",
       "      <td>6970.00000</td>\n",
       "      <td>6970.00000</td>\n",
       "      <td>6970.00000</td>\n",
       "      <td>6970.00000</td>\n",
       "      <td>6970.00000</td>\n",
       "      <td>6970.00000</td>\n",
       "      <td>6970.00000</td>\n",
       "      <td>6970.00000</td>\n",
       "      <td>6970.00000</td>\n",
       "      <td>6970.00000</td>\n",
       "      <td>6970.00000</td>\n",
       "      <td>6970.00000</td>\n",
       "      <td>6970.00000</td>\n",
       "      <td>6970.00000</td>\n",
       "      <td>6970.00000</td>\n",
       "    </tr>\n",
       "    <tr>\n",
       "      <th>mean</th>\n",
       "      <td>0.00000</td>\n",
       "      <td>-0.00000</td>\n",
       "      <td>-0.00000</td>\n",
       "      <td>0.00000</td>\n",
       "      <td>0.00000</td>\n",
       "      <td>0.00000</td>\n",
       "      <td>0.00000</td>\n",
       "      <td>-0.00000</td>\n",
       "      <td>-0.00000</td>\n",
       "      <td>0.00000</td>\n",
       "      <td>-0.00000</td>\n",
       "      <td>-0.00000</td>\n",
       "      <td>-0.00000</td>\n",
       "      <td>-0.00000</td>\n",
       "      <td>-0.00000</td>\n",
       "      <td>0.00000</td>\n",
       "      <td>0.00000</td>\n",
       "      <td>-0.00000</td>\n",
       "      <td>-0.00000</td>\n",
       "      <td>0.00000</td>\n",
       "      <td>0.00000</td>\n",
       "      <td>-0.00000</td>\n",
       "      <td>-0.00000</td>\n",
       "    </tr>\n",
       "    <tr>\n",
       "      <th>std</th>\n",
       "      <td>1.00007</td>\n",
       "      <td>1.00007</td>\n",
       "      <td>1.00007</td>\n",
       "      <td>1.00007</td>\n",
       "      <td>1.00007</td>\n",
       "      <td>1.00007</td>\n",
       "      <td>1.00007</td>\n",
       "      <td>1.00007</td>\n",
       "      <td>1.00007</td>\n",
       "      <td>1.00007</td>\n",
       "      <td>1.00007</td>\n",
       "      <td>1.00007</td>\n",
       "      <td>1.00007</td>\n",
       "      <td>1.00007</td>\n",
       "      <td>1.00007</td>\n",
       "      <td>1.00007</td>\n",
       "      <td>1.00007</td>\n",
       "      <td>1.00007</td>\n",
       "      <td>1.00007</td>\n",
       "      <td>1.00007</td>\n",
       "      <td>1.00007</td>\n",
       "      <td>1.00007</td>\n",
       "      <td>1.00007</td>\n",
       "    </tr>\n",
       "    <tr>\n",
       "      <th>min</th>\n",
       "      <td>-0.84461</td>\n",
       "      <td>-8.12522</td>\n",
       "      <td>-0.20113</td>\n",
       "      <td>-1.75115</td>\n",
       "      <td>-0.82999</td>\n",
       "      <td>-0.16876</td>\n",
       "      <td>-3.45418</td>\n",
       "      <td>-1.05366</td>\n",
       "      <td>-0.59293</td>\n",
       "      <td>-0.72238</td>\n",
       "      <td>-0.78656</td>\n",
       "      <td>-0.12663</td>\n",
       "      <td>-0.25610</td>\n",
       "      <td>-0.54629</td>\n",
       "      <td>-1.05366</td>\n",
       "      <td>-0.14107</td>\n",
       "      <td>-0.41428</td>\n",
       "      <td>-0.85714</td>\n",
       "      <td>-0.99114</td>\n",
       "      <td>-1.26100</td>\n",
       "      <td>-0.74459</td>\n",
       "      <td>-0.62814</td>\n",
       "      <td>-1.24324</td>\n",
       "    </tr>\n",
       "    <tr>\n",
       "      <th>25%</th>\n",
       "      <td>-0.65483</td>\n",
       "      <td>0.12307</td>\n",
       "      <td>-0.20113</td>\n",
       "      <td>0.57105</td>\n",
       "      <td>-0.82999</td>\n",
       "      <td>-0.16876</td>\n",
       "      <td>0.28950</td>\n",
       "      <td>-1.05366</td>\n",
       "      <td>-0.59293</td>\n",
       "      <td>-0.72238</td>\n",
       "      <td>-0.78656</td>\n",
       "      <td>-0.12663</td>\n",
       "      <td>-0.25610</td>\n",
       "      <td>-0.54629</td>\n",
       "      <td>-1.05366</td>\n",
       "      <td>-0.14107</td>\n",
       "      <td>-0.41428</td>\n",
       "      <td>-0.85714</td>\n",
       "      <td>-0.99114</td>\n",
       "      <td>-1.26100</td>\n",
       "      <td>-0.74459</td>\n",
       "      <td>-0.62814</td>\n",
       "      <td>-1.24324</td>\n",
       "    </tr>\n",
       "    <tr>\n",
       "      <th>50%</th>\n",
       "      <td>-0.37422</td>\n",
       "      <td>0.12307</td>\n",
       "      <td>-0.20113</td>\n",
       "      <td>0.57105</td>\n",
       "      <td>-0.82999</td>\n",
       "      <td>-0.16876</td>\n",
       "      <td>0.28950</td>\n",
       "      <td>0.94907</td>\n",
       "      <td>-0.59293</td>\n",
       "      <td>-0.72238</td>\n",
       "      <td>-0.78656</td>\n",
       "      <td>-0.12663</td>\n",
       "      <td>-0.25610</td>\n",
       "      <td>-0.54629</td>\n",
       "      <td>0.94907</td>\n",
       "      <td>-0.14107</td>\n",
       "      <td>-0.41428</td>\n",
       "      <td>-0.85714</td>\n",
       "      <td>-0.99114</td>\n",
       "      <td>0.79302</td>\n",
       "      <td>-0.74459</td>\n",
       "      <td>-0.62814</td>\n",
       "      <td>0.80435</td>\n",
       "    </tr>\n",
       "    <tr>\n",
       "      <th>75%</th>\n",
       "      <td>0.25520</td>\n",
       "      <td>0.12307</td>\n",
       "      <td>-0.20113</td>\n",
       "      <td>0.57105</td>\n",
       "      <td>1.20484</td>\n",
       "      <td>-0.16876</td>\n",
       "      <td>0.28950</td>\n",
       "      <td>0.94907</td>\n",
       "      <td>1.68655</td>\n",
       "      <td>1.38431</td>\n",
       "      <td>1.27136</td>\n",
       "      <td>-0.12663</td>\n",
       "      <td>-0.25610</td>\n",
       "      <td>-0.54629</td>\n",
       "      <td>0.94907</td>\n",
       "      <td>-0.14107</td>\n",
       "      <td>-0.41428</td>\n",
       "      <td>1.16667</td>\n",
       "      <td>1.00894</td>\n",
       "      <td>0.79302</td>\n",
       "      <td>1.34302</td>\n",
       "      <td>1.59201</td>\n",
       "      <td>0.80435</td>\n",
       "    </tr>\n",
       "    <tr>\n",
       "      <th>max</th>\n",
       "      <td>4.37501</td>\n",
       "      <td>0.12307</td>\n",
       "      <td>4.97188</td>\n",
       "      <td>0.57105</td>\n",
       "      <td>1.20484</td>\n",
       "      <td>5.92571</td>\n",
       "      <td>0.28950</td>\n",
       "      <td>0.94907</td>\n",
       "      <td>1.68655</td>\n",
       "      <td>1.38431</td>\n",
       "      <td>1.27136</td>\n",
       "      <td>7.89707</td>\n",
       "      <td>3.90475</td>\n",
       "      <td>1.83052</td>\n",
       "      <td>0.94907</td>\n",
       "      <td>7.08872</td>\n",
       "      <td>2.41384</td>\n",
       "      <td>1.16667</td>\n",
       "      <td>1.00894</td>\n",
       "      <td>0.79302</td>\n",
       "      <td>1.34302</td>\n",
       "      <td>1.59201</td>\n",
       "      <td>0.80435</td>\n",
       "    </tr>\n",
       "  </tbody>\n",
       "</table>\n",
       "</div>"
      ],
      "text/plain": [
       "       duration_as_adoptable   hasimage   hasvideo  spayed_neutered  house_trained  special_needs  shots_current  gender_Male  size_Large  size_Medium  size_Small  coat_Curly  coat_Long  coat_Medium  coat_Short  coat_Wire  coat_unknown  goodwith_children_True  goodwith_children_unknown  goodwith_dogs_True  goodwith_dogs_unknown  goodwith_cats_True  goodwith_cats_unknown\n",
       "count             6970.00000 6970.00000 6970.00000       6970.00000     6970.00000     6970.00000     6970.00000   6970.00000  6970.00000   6970.00000  6970.00000  6970.00000 6970.00000   6970.00000  6970.00000 6970.00000    6970.00000              6970.00000                 6970.00000          6970.00000             6970.00000          6970.00000             6970.00000\n",
       "mean                 0.00000   -0.00000   -0.00000          0.00000        0.00000        0.00000        0.00000     -0.00000    -0.00000      0.00000    -0.00000    -0.00000   -0.00000     -0.00000    -0.00000    0.00000       0.00000                -0.00000                   -0.00000             0.00000                0.00000            -0.00000               -0.00000\n",
       "std                  1.00007    1.00007    1.00007          1.00007        1.00007        1.00007        1.00007      1.00007     1.00007      1.00007     1.00007     1.00007    1.00007      1.00007     1.00007    1.00007       1.00007                 1.00007                    1.00007             1.00007                1.00007             1.00007                1.00007\n",
       "min                 -0.84461   -8.12522   -0.20113         -1.75115       -0.82999       -0.16876       -3.45418     -1.05366    -0.59293     -0.72238    -0.78656    -0.12663   -0.25610     -0.54629    -1.05366   -0.14107      -0.41428                -0.85714                   -0.99114            -1.26100               -0.74459            -0.62814               -1.24324\n",
       "25%                 -0.65483    0.12307   -0.20113          0.57105       -0.82999       -0.16876        0.28950     -1.05366    -0.59293     -0.72238    -0.78656    -0.12663   -0.25610     -0.54629    -1.05366   -0.14107      -0.41428                -0.85714                   -0.99114            -1.26100               -0.74459            -0.62814               -1.24324\n",
       "50%                 -0.37422    0.12307   -0.20113          0.57105       -0.82999       -0.16876        0.28950      0.94907    -0.59293     -0.72238    -0.78656    -0.12663   -0.25610     -0.54629     0.94907   -0.14107      -0.41428                -0.85714                   -0.99114             0.79302               -0.74459            -0.62814                0.80435\n",
       "75%                  0.25520    0.12307   -0.20113          0.57105        1.20484       -0.16876        0.28950      0.94907     1.68655      1.38431     1.27136    -0.12663   -0.25610     -0.54629     0.94907   -0.14107      -0.41428                 1.16667                    1.00894             0.79302                1.34302             1.59201                0.80435\n",
       "max                  4.37501    0.12307    4.97188          0.57105        1.20484        5.92571        0.28950      0.94907     1.68655      1.38431     1.27136     7.89707    3.90475      1.83052     0.94907    7.08872       2.41384                 1.16667                    1.00894             0.79302                1.34302             1.59201                0.80435"
      ]
     },
     "execution_count": 61,
     "metadata": {},
     "output_type": "execute_result"
    }
   ],
   "source": [
    "scaled_df = pd.DataFrame(scaled, columns=df.columns)\n",
    "scaled_df.describe()"
   ]
  },
  {
   "cell_type": "markdown",
   "metadata": {},
   "source": [
    "## Split into training and test sets"
   ]
  },
  {
   "cell_type": "code",
   "execution_count": 62,
   "metadata": {},
   "outputs": [],
   "source": [
    "X_train, X_test, y_train, y_test = train_test_split(scaled_df.drop(columns='duration_as_adoptable'), \n",
    "                                                    scaled_df.duration_as_adoptable, test_size=0.3, \n",
    "                                                    random_state=192)"
   ]
  },
  {
   "cell_type": "code",
   "execution_count": 63,
   "metadata": {},
   "outputs": [
    {
     "data": {
      "text/plain": [
       "((4879, 22), (2091, 22))"
      ]
     },
     "execution_count": 63,
     "metadata": {},
     "output_type": "execute_result"
    }
   ],
   "source": [
    "X_train.shape, X_test.shape"
   ]
  },
  {
   "cell_type": "code",
   "execution_count": 64,
   "metadata": {},
   "outputs": [
    {
     "data": {
      "text/plain": [
       "((4879,), (2091,))"
      ]
     },
     "execution_count": 64,
     "metadata": {},
     "output_type": "execute_result"
    }
   ],
   "source": [
    "y_train.shape, y_test.shape"
   ]
  },
  {
   "cell_type": "code",
   "execution_count": 65,
   "metadata": {},
   "outputs": [
    {
     "name": "stdout",
     "output_type": "stream",
     "text": [
      "Directory data/tt_sets was created.\n",
      "Writing file.  \"data/tt_sets/dogs_X_train.csv\"\n",
      "Writing file.  \"data/tt_sets/dogs_X_test.csv\"\n",
      "Writing file.  \"data/tt_sets/dogs_y_train.csv\"\n",
      "Writing file.  \"data/tt_sets/dogs_y_test.csv\"\n"
     ]
    }
   ],
   "source": [
    "# save training and test sets\n",
    "datapath = 'data/tt_sets'\n",
    "save_file(X_train, 'dogs_X_train.csv', datapath)\n",
    "save_file(X_test, 'dogs_X_test.csv', datapath)\n",
    "save_file(y_train, 'dogs_y_train.csv', datapath)\n",
    "save_file(y_test, 'dogs_y_test.csv', datapath)"
   ]
  },
  {
   "cell_type": "code",
   "execution_count": null,
   "metadata": {},
   "outputs": [],
   "source": []
  }
 ],
 "metadata": {
  "kernelspec": {
   "display_name": "Python 3",
   "language": "python",
   "name": "python3"
  },
  "language_info": {
   "codemirror_mode": {
    "name": "ipython",
    "version": 3
   },
   "file_extension": ".py",
   "mimetype": "text/x-python",
   "name": "python",
   "nbconvert_exporter": "python",
   "pygments_lexer": "ipython3",
   "version": "3.8.3"
  }
 },
 "nbformat": 4,
 "nbformat_minor": 4
}
