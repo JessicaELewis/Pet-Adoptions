{
 "cells": [
  {
   "cell_type": "markdown",
   "metadata": {},
   "source": [
    "# Exploratory Data Analysis\n",
    "### Build data profiles and tables\n",
    "Inferential statistics\n",
    "\n",
    "● Explore data relationships\n",
    "\n",
    "Data visualization\n",
    "\n",
    "● Feature Selection and Engineering"
   ]
  },
  {
   "cell_type": "code",
   "execution_count": 1,
   "metadata": {},
   "outputs": [],
   "source": [
    "import numpy as np\n",
    "import pandas as pd\n",
    "import matplotlib.pyplot as plt\n",
    "import seaborn as sns"
   ]
  },
  {
   "cell_type": "code",
   "execution_count": 15,
   "metadata": {},
   "outputs": [],
   "source": [
    "pd.set_option('display.expand_frame_repr', False)\n",
    "pd.set_option('display.precision', 2)\n",
    "pd.set_option('display.max_rows', None)\n",
    "pd.set_option('display.max_columns', None)\n",
    "pd.set_option('display.width', None)\n",
    "pd.set_option('display.max_colwidth', None)"
   ]
  },
  {
   "cell_type": "code",
   "execution_count": 16,
   "metadata": {},
   "outputs": [
    {
     "name": "stdout",
     "output_type": "stream",
     "text": [
      "<class 'pandas.core.frame.DataFrame'>\n",
      "RangeIndex: 12231 entries, 0 to 12230\n",
      "Data columns (total 25 columns):\n",
      " #   Column                 Non-Null Count  Dtype  \n",
      "---  ------                 --------------  -----  \n",
      " 0   organization_id        12231 non-null  object \n",
      " 1   url                    12231 non-null  object \n",
      " 2   species                12231 non-null  object \n",
      " 3   breeds                 12231 non-null  object \n",
      " 4   colors                 12231 non-null  object \n",
      " 5   age                    12231 non-null  object \n",
      " 6   gender                 12231 non-null  object \n",
      " 7   size                   12231 non-null  object \n",
      " 8   coat                   8608 non-null   object \n",
      " 9   attributes             12231 non-null  object \n",
      " 10  environment            12231 non-null  object \n",
      " 11  tags                   12231 non-null  object \n",
      " 12  name                   12231 non-null  object \n",
      " 13  description            12060 non-null  object \n",
      " 14  photos                 12231 non-null  object \n",
      " 15  videos                 12231 non-null  object \n",
      " 16  status                 12231 non-null  object \n",
      " 17  status_changed_at      12231 non-null  object \n",
      " 18  published_at           12231 non-null  object \n",
      " 19  distance               12231 non-null  float64\n",
      " 20  contact                12231 non-null  object \n",
      " 21  duration_as_adoptable  12231 non-null  float64\n",
      " 22  city                   12231 non-null  object \n",
      " 23  hasimage               12231 non-null  bool   \n",
      " 24  hasvideo               12231 non-null  bool   \n",
      "dtypes: bool(2), float64(2), object(21)\n",
      "memory usage: 2.2+ MB\n"
     ]
    }
   ],
   "source": [
    "adopted = pd.read_csv('data/adopted_df_cleaned.csv')\n",
    "adopted.info()"
   ]
  },
  {
   "cell_type": "code",
   "execution_count": 50,
   "metadata": {},
   "outputs": [
    {
     "data": {
      "text/html": [
       "<div>\n",
       "<style scoped>\n",
       "    .dataframe tbody tr th:only-of-type {\n",
       "        vertical-align: middle;\n",
       "    }\n",
       "\n",
       "    .dataframe tbody tr th {\n",
       "        vertical-align: top;\n",
       "    }\n",
       "\n",
       "    .dataframe thead th {\n",
       "        text-align: right;\n",
       "    }\n",
       "</style>\n",
       "<table border=\"1\" class=\"dataframe\">\n",
       "  <thead>\n",
       "    <tr style=\"text-align: right;\">\n",
       "      <th></th>\n",
       "      <th>organization_id</th>\n",
       "      <th>url</th>\n",
       "      <th>species</th>\n",
       "      <th>breeds</th>\n",
       "      <th>colors</th>\n",
       "      <th>age</th>\n",
       "      <th>gender</th>\n",
       "      <th>size</th>\n",
       "      <th>coat</th>\n",
       "      <th>attributes</th>\n",
       "      <th>environment</th>\n",
       "      <th>tags</th>\n",
       "      <th>name</th>\n",
       "      <th>description</th>\n",
       "      <th>photos</th>\n",
       "      <th>videos</th>\n",
       "      <th>status</th>\n",
       "      <th>status_changed_at</th>\n",
       "      <th>published_at</th>\n",
       "      <th>distance</th>\n",
       "      <th>contact</th>\n",
       "      <th>duration_as_adoptable</th>\n",
       "      <th>city</th>\n",
       "      <th>hasimage</th>\n",
       "      <th>hasvideo</th>\n",
       "    </tr>\n",
       "  </thead>\n",
       "  <tbody>\n",
       "    <tr>\n",
       "      <th>6164</th>\n",
       "      <td>WA162</td>\n",
       "      <td>https://www.petfinder.com/dog/albert-32834181/wa/friday-harbor/animal-protection-society-friday-harbor-wa162/?referrer_id=9af86a2f-a205-4687-8203-bf7f8bda3681</td>\n",
       "      <td>Dog</td>\n",
       "      <td>{'primary': 'Dachshund', 'secondary': 'Corgi', 'mixed': True, 'unknown': False}</td>\n",
       "      <td>{'primary': 'Black', 'secondary': None, 'tertiary': None}</td>\n",
       "      <td>Young</td>\n",
       "      <td>Male</td>\n",
       "      <td>Medium</td>\n",
       "      <td>Short</td>\n",
       "      <td>{'spayed_neutered': True, 'house_trained': True, 'declawed': None, 'special_needs': False, 'shots_current': True}</td>\n",
       "      <td>{'children': False, 'dogs': None, 'cats': None}</td>\n",
       "      <td>[]</td>\n",
       "      <td>albert</td>\n",
       "      <td>NaN</td>\n",
       "      <td>[{'small': 'https://dl5zpyw5k3jeb.cloudfront.net/photos/pets/32834181/1/?bust=1437838997&amp;width=100', 'medium': 'https://dl5zpyw5k3jeb.cloudfront.net/photos/pets/32834181/1/?bust=1437838997&amp;width=300', 'large': 'https://dl5zpyw5k3jeb.cloudfront.net/photos/pets/32834181/1/?bust=1437838997&amp;width=600', 'full': 'https://dl5zpyw5k3jeb.cloudfront.net/photos/pets/32834181/1/?bust=1437838997'}, {'small': 'https://dl5zpyw5k3jeb.cloudfront.net/photos/pets/32834181/2/?bust=1437838997&amp;width=100', 'medium': 'https://dl5zpyw5k3jeb.cloudfront.net/photos/pets/32834181/2/?bust=1437838997&amp;width=300', 'large': 'https://dl5zpyw5k3jeb.cloudfront.net/photos/pets/32834181/2/?bust=1437838997&amp;width=600', 'full': 'https://dl5zpyw5k3jeb.cloudfront.net/photos/pets/32834181/2/?bust=1437838997'}]</td>\n",
       "      <td>[]</td>\n",
       "      <td>adopted</td>\n",
       "      <td>2015-07-30 15:06:51+00:00</td>\n",
       "      <td>2015-07-25 15:43:17+00:00</td>\n",
       "      <td>1.75</td>\n",
       "      <td>{'email': 'Shelter@apsfh.com', 'phone': '(360) 378-2158', 'address': {'address1': '938 Cattle Point Rd', 'address2': None, 'city': 'Friday Harbor', 'state': 'WA', 'postcode': '98250', 'country': 'US'}}</td>\n",
       "      <td>4.97</td>\n",
       "      <td>Friday Harbor</td>\n",
       "      <td>True</td>\n",
       "      <td>True</td>\n",
       "    </tr>\n",
       "  </tbody>\n",
       "</table>\n",
       "</div>"
      ],
      "text/plain": [
       "     organization_id                                                                                                                                                             url species                                                                           breeds                                                     colors    age gender    size   coat                                                                                                         attributes                                      environment tags    name description                                                                                                                                                                                                                                                                                                                                                                                                                                                                                                                                                                                                                                                                                                                                                                                                    photos videos   status          status_changed_at               published_at  distance                                                                                                                                                                                                    contact  duration_as_adoptable           city  hasimage  hasvideo\n",
       "6164           WA162  https://www.petfinder.com/dog/albert-32834181/wa/friday-harbor/animal-protection-society-friday-harbor-wa162/?referrer_id=9af86a2f-a205-4687-8203-bf7f8bda3681     Dog  {'primary': 'Dachshund', 'secondary': 'Corgi', 'mixed': True, 'unknown': False}  {'primary': 'Black', 'secondary': None, 'tertiary': None}  Young   Male  Medium  Short  {'spayed_neutered': True, 'house_trained': True, 'declawed': None, 'special_needs': False, 'shots_current': True}  {'children': False, 'dogs': None, 'cats': None}   []  albert         NaN  [{'small': 'https://dl5zpyw5k3jeb.cloudfront.net/photos/pets/32834181/1/?bust=1437838997&width=100', 'medium': 'https://dl5zpyw5k3jeb.cloudfront.net/photos/pets/32834181/1/?bust=1437838997&width=300', 'large': 'https://dl5zpyw5k3jeb.cloudfront.net/photos/pets/32834181/1/?bust=1437838997&width=600', 'full': 'https://dl5zpyw5k3jeb.cloudfront.net/photos/pets/32834181/1/?bust=1437838997'}, {'small': 'https://dl5zpyw5k3jeb.cloudfront.net/photos/pets/32834181/2/?bust=1437838997&width=100', 'medium': 'https://dl5zpyw5k3jeb.cloudfront.net/photos/pets/32834181/2/?bust=1437838997&width=300', 'large': 'https://dl5zpyw5k3jeb.cloudfront.net/photos/pets/32834181/2/?bust=1437838997&width=600', 'full': 'https://dl5zpyw5k3jeb.cloudfront.net/photos/pets/32834181/2/?bust=1437838997'}]     []  adopted  2015-07-30 15:06:51+00:00  2015-07-25 15:43:17+00:00      1.75  {'email': 'Shelter@apsfh.com', 'phone': '(360) 378-2158', 'address': {'address1': '938 Cattle Point Rd', 'address2': None, 'city': 'Friday Harbor', 'state': 'WA', 'postcode': '98250', 'country': 'US'}}                   4.97  Friday Harbor      True      True"
      ]
     },
     "execution_count": 50,
     "metadata": {},
     "output_type": "execute_result"
    }
   ],
   "source": [
    "adopted.sample(1)"
   ]
  },
  {
   "cell_type": "code",
   "execution_count": 84,
   "metadata": {},
   "outputs": [
    {
     "data": {
      "text/html": [
       "<div>\n",
       "<style scoped>\n",
       "    .dataframe tbody tr th:only-of-type {\n",
       "        vertical-align: middle;\n",
       "    }\n",
       "\n",
       "    .dataframe tbody tr th {\n",
       "        vertical-align: top;\n",
       "    }\n",
       "\n",
       "    .dataframe thead th {\n",
       "        text-align: right;\n",
       "    }\n",
       "</style>\n",
       "<table border=\"1\" class=\"dataframe\">\n",
       "  <thead>\n",
       "    <tr style=\"text-align: right;\">\n",
       "      <th></th>\n",
       "      <th>0</th>\n",
       "    </tr>\n",
       "  </thead>\n",
       "  <tbody>\n",
       "    <tr>\n",
       "      <th>0</th>\n",
       "      <td>{'spayed_neutered': True, 'house_trained': True, 'declawed': False, 'special_needs': False, 'shots_current': True}</td>\n",
       "    </tr>\n",
       "    <tr>\n",
       "      <th>1</th>\n",
       "      <td>{'spayed_neutered': True, 'house_trained': False, 'declawed': None, 'special_needs': False, 'shots_current': True}</td>\n",
       "    </tr>\n",
       "    <tr>\n",
       "      <th>2</th>\n",
       "      <td>{'spayed_neutered': True, 'house_trained': False, 'declawed': None, 'special_needs': False, 'shots_current': True}</td>\n",
       "    </tr>\n",
       "    <tr>\n",
       "      <th>3</th>\n",
       "      <td>{'spayed_neutered': True, 'house_trained': False, 'declawed': None, 'special_needs': False, 'shots_current': True}</td>\n",
       "    </tr>\n",
       "    <tr>\n",
       "      <th>4</th>\n",
       "      <td>{'spayed_neutered': True, 'house_trained': False, 'declawed': None, 'special_needs': False, 'shots_current': True}</td>\n",
       "    </tr>\n",
       "  </tbody>\n",
       "</table>\n",
       "</div>"
      ],
      "text/plain": [
       "                                                                                                                    0\n",
       "0  {'spayed_neutered': True, 'house_trained': True, 'declawed': False, 'special_needs': False, 'shots_current': True}\n",
       "1  {'spayed_neutered': True, 'house_trained': False, 'declawed': None, 'special_needs': False, 'shots_current': True}\n",
       "2  {'spayed_neutered': True, 'house_trained': False, 'declawed': None, 'special_needs': False, 'shots_current': True}\n",
       "3  {'spayed_neutered': True, 'house_trained': False, 'declawed': None, 'special_needs': False, 'shots_current': True}\n",
       "4  {'spayed_neutered': True, 'house_trained': False, 'declawed': None, 'special_needs': False, 'shots_current': True}"
      ]
     },
     "execution_count": 84,
     "metadata": {},
     "output_type": "execute_result"
    }
   ],
   "source": [
    "# adopted[['spayed_neutered','house_trained', 'declawed', 'special_needs', 'shots_current']] = pd.DataFrame(adopted.attributes.tolist())\n",
    "# adopted.attributes.to_dict()\n",
    "# altered = [x for x in adopted['attributes']['spayed_neutered']]\n",
    "\n",
    "\n",
    "attributes = list(adopted['attributes'])\n",
    "pd.DataFrame(attributes, index=adopted.index.to_series()).head()\n",
    "\n"
   ]
  },
  {
   "cell_type": "code",
   "execution_count": null,
   "metadata": {},
   "outputs": [],
   "source": []
  }
 ],
 "metadata": {
  "kernelspec": {
   "display_name": "Python 3",
   "language": "python",
   "name": "python3"
  },
  "language_info": {
   "codemirror_mode": {
    "name": "ipython",
    "version": 3
   },
   "file_extension": ".py",
   "mimetype": "text/x-python",
   "name": "python",
   "nbconvert_exporter": "python",
   "pygments_lexer": "ipython3",
   "version": "3.8.3"
  }
 },
 "nbformat": 4,
 "nbformat_minor": 4
}
